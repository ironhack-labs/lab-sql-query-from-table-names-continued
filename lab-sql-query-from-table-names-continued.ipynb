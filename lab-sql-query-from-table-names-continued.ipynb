{
 "cells": [
  {
   "cell_type": "markdown",
   "id": "7d930c89-4954-4e39-be5a-601c1dd89512",
   "metadata": {
    "id": "7d930c89-4954-4e39-be5a-601c1dd89512"
   },
   "source": [
    "# SQL query from table names - Continued"
   ]
  },
  {
   "cell_type": "code",
   "execution_count": 1,
   "id": "a03f026a",
   "metadata": {
    "id": "a03f026a"
   },
   "outputs": [],
   "source": [
    "from openai import OpenAI\n",
    "import os\n",
    "from dotenv import load_dotenv, find_dotenv\n",
    "_ = load_dotenv(find_dotenv())\n",
    "\n",
    "OPENAI_API_KEY  = os.getenv('OPENAI_API_KEY')"
   ]
  },
  {
   "cell_type": "markdown",
   "id": "53a05b80-88fd-42b2-ba89-763074ae74e9",
   "metadata": {
    "id": "53a05b80-88fd-42b2-ba89-763074ae74e9"
   },
   "source": [
    "## The old Prompt"
   ]
  },
  {
   "cell_type": "code",
   "execution_count": 2,
   "id": "922f8d24",
   "metadata": {
    "id": "922f8d24"
   },
   "outputs": [],
   "source": [
    "#The old prompt\n",
    "old_context = [ {'role':'system', 'content':\"\"\"\n",
    "you are a bot to assist in create SQL commands, all your answers should start with \\\n",
    "this is your SQL, and after that an SQL that can do what the user request. \\\n",
    "Your Database is composed by a SQL database with some tables. \\\n",
    "Try to maintain the SQL order simple.\n",
    "Put the SQL command in white letters with a black background, and just after \\\n",
    "a simple and concise text explaining how it works.\n",
    "If the user ask for something that can not be solved with an SQL Order \\\n",
    "just answer something nice and simple, maximum 10 words, asking him for something that \\\n",
    "can be solved with SQL.\n",
    "\"\"\"} ]\n",
    "\n",
    "old_context.append( {'role':'system', 'content':\"\"\"\n",
    "first table:\n",
    "{\n",
    "  \"tableName\": \"employees\",\n",
    "  \"fields\": [\n",
    "    {\n",
    "      \"nombre\": \"ID_usr\",\n",
    "      \"tipo\": \"int\"\n",
    "    },\n",
    "    {\n",
    "      \"nombre\": \"name\",\n",
    "      \"tipo\": \"varchar\"\n",
    "    }\n",
    "  ]\n",
    "}\n",
    "\"\"\"\n",
    "})\n",
    "\n",
    "old_context.append( {'role':'system', 'content':\"\"\"\n",
    "second table:\n",
    "{\n",
    "  \"tableName\": \"salary\",\n",
    "  \"fields\": [\n",
    "    {\n",
    "      \"nombre\": \"ID_usr\",\n",
    "      \"type\": \"int\"\n",
    "    },\n",
    "    {\n",
    "      \"name\": \"year\",\n",
    "      \"type\": \"date\"\n",
    "    },\n",
    "    {\n",
    "      \"name\": \"salary\",\n",
    "      \"type\": \"float\"\n",
    "    }\n",
    "  ]\n",
    "}\n",
    "\"\"\"\n",
    "})\n",
    "\n",
    "old_context.append( {'role':'system', 'content':\"\"\"\n",
    "third table:\n",
    "{\n",
    "  \"tablename\": \"studies\",\n",
    "  \"fields\": [\n",
    "    {\n",
    "      \"name\": \"ID\",\n",
    "      \"type\": \"int\"\n",
    "    },\n",
    "    {\n",
    "      \"name\": \"ID_usr\",\n",
    "      \"type\": \"int\"\n",
    "    },\n",
    "    {\n",
    "      \"name\": \"educational_level\",\n",
    "      \"type\": \"int\"\n",
    "    },\n",
    "    {\n",
    "      \"name\": \"Institution\",\n",
    "      \"type\": \"varchar\"\n",
    "    },\n",
    "    {\n",
    "      \"name\": \"Years\",\n",
    "      \"type\": \"date\"\n",
    "    }\n",
    "    {\n",
    "      \"name\": \"Speciality\",\n",
    "      \"type\": \"varchar\"\n",
    "    }\n",
    "  ]\n",
    "}\n",
    "\"\"\"\n",
    "})"
   ]
  },
  {
   "cell_type": "markdown",
   "id": "377acaae-7dd0-4d13-bc68-9e33741c231c",
   "metadata": {
    "id": "377acaae-7dd0-4d13-bc68-9e33741c231c"
   },
   "source": [
    "## New Prompt.\n",
    "We are going to improve it following the instructions of a Paper from the Ohaio University: [How to Prompt LLMs for Text-to-SQL: A Study in Zero-shot, Single-domain, and Cross-domain Settings](https://arxiv.org/abs/2305.11853). I recommend you read that paper.\n",
    "\n",
    "For each table, we will define the structure using the same syntax as in a SQL create table command, and add the sample rows of the content.\n",
    "\n",
    "Finally, at the end of the prompt, we'll include some example queries with the SQL that the model should generate. This technique is called Few-Shot Samples, in which we provide the prompt with some examples to assist it in generating the correct SQL.\n"
   ]
  },
  {
   "cell_type": "code",
   "execution_count": 3,
   "id": "5334f942",
   "metadata": {
    "id": "5334f942"
   },
   "outputs": [],
   "source": [
    "context = [ {'role':'system', 'content':\"\"\"\n",
    " CREATE SEVERAL (3+) TABLES HERE\n",
    "\"\"\"} ]\n",
    "\n"
   ]
  },
  {
   "cell_type": "code",
   "execution_count": 4,
   "id": "330e69b0-3f5f-4bb2-8185-aedded2bb993",
   "metadata": {
    "id": "330e69b0-3f5f-4bb2-8185-aedded2bb993"
   },
   "outputs": [],
   "source": [
    "#FEW SHOT SAMPLES\n",
    "context.append( {'role':'system', 'content':\"\"\"\n",
    " -- Maintain the SQL order simple and efficient as you can, using valid SQL Lite, answer the following questions for the table provided above.\n",
    "WRITE IN YOUR CONTEXT QUERIES HERE\n",
    "\"\"\"\n",
    "})"
   ]
  },
  {
   "cell_type": "code",
   "execution_count": 5,
   "id": "b90f417a",
   "metadata": {
    "id": "b90f417a"
   },
   "outputs": [],
   "source": [
    "#Function to call the model.\n",
    "def return_CCRMSQL(user_message, context):\n",
    "    client = OpenAI(\n",
    "    # This is the default and can be omitted\n",
    "    api_key=OPENAI_API_KEY,\n",
    ")\n",
    "\n",
    "    newcontext = context.copy()\n",
    "    newcontext.append({'role':'user', 'content':\"question: \" + user_message})\n",
    "\n",
    "    response = client.chat.completions.create(\n",
    "            model=\"gpt-3.5-turbo\",\n",
    "            messages=newcontext,\n",
    "            temperature=0,\n",
    "        )\n",
    "\n",
    "    return (response.choices[0].message.content)"
   ]
  },
  {
   "cell_type": "markdown",
   "id": "9e0a4c11-dfe1-46fe-ac2b-3ff825f9749c",
   "metadata": {
    "id": "9e0a4c11-dfe1-46fe-ac2b-3ff825f9749c"
   },
   "source": [
    "## NL2SQL Samples\n",
    "We're going to review some examples generated with the old prompt and others with the new prompt."
   ]
  },
  {
   "cell_type": "code",
   "execution_count": 6,
   "id": "59e8202c-ce34-487e-9037-c65a263423ed",
   "metadata": {
    "colab": {
     "base_uri": "https://localhost:8080/"
    },
    "id": "59e8202c-ce34-487e-9037-c65a263423ed",
    "outputId": "f7a97b9f-45d7-4f78-8979-a796c5bc42fb"
   },
   "outputs": [
    {
     "name": "stdout",
     "output_type": "stream",
     "text": [
      "I see that you have requested queries to be answered based on tables that have not been provided. Could you please provide the tables so that I can assist you with the queries you have in mind?\n"
     ]
    }
   ],
   "source": [
    "#new\n",
    "context_user = context.copy()\n",
    "print(return_CCRMSQL(\"\"\"YOUR QUERY HERE\"\"\", context_user))"
   ]
  },
  {
   "cell_type": "code",
   "execution_count": 7,
   "id": "9c4766b1-48a9-456e-bc6c-4b6f41909aa4",
   "metadata": {
    "colab": {
     "base_uri": "https://localhost:8080/"
    },
    "id": "9c4766b1-48a9-456e-bc6c-4b6f41909aa4",
    "outputId": "029844da-5f1f-4f65-9adb-4d9c1cafacea"
   },
   "outputs": [
    {
     "name": "stdout",
     "output_type": "stream",
     "text": [
      "This is your SQL:\n",
      "```sql\n",
      "\n",
      "Please provide a specific query to assist you.\n"
     ]
    }
   ],
   "source": [
    "#old\n",
    "old_context_user = old_context.copy()\n",
    "print(return_CCRMSQL(\"YOUR QUERY HERE\", old_context_user))"
   ]
  },
  {
   "cell_type": "code",
   "execution_count": 8,
   "id": "38d8d370-0524-4a28-bd54-5e5cddb08e2c",
   "metadata": {
    "colab": {
     "base_uri": "https://localhost:8080/"
    },
    "id": "38d8d370-0524-4a28-bd54-5e5cddb08e2c",
    "outputId": "2934cdec-bea0-44db-b047-33e70dcf8ae8"
   },
   "outputs": [
    {
     "name": "stdout",
     "output_type": "stream",
     "text": [
      "I see you have not provided any tables for me to work with. Could you please provide the tables so that I can assist you with your queries?\n"
     ]
    }
   ],
   "source": [
    "#new\n",
    "print(return_CCRMSQL(\"YOUR QUERY HERE\", context_user))"
   ]
  },
  {
   "cell_type": "code",
   "execution_count": 9,
   "id": "5aa318d4-dd9f-41db-8ff4-c1d87220f766",
   "metadata": {
    "colab": {
     "base_uri": "https://localhost:8080/"
    },
    "id": "5aa318d4-dd9f-41db-8ff4-c1d87220f766",
    "outputId": "605724a1-0d89-4ed9-d8ec-1aeeae6dc287"
   },
   "outputs": [
    {
     "name": "stdout",
     "output_type": "stream",
     "text": [
      "This is your SQL:\n",
      "```sql\n",
      "\n",
      "Please provide a specific query to assist you.\n"
     ]
    }
   ],
   "source": [
    "#old\n",
    "print(return_CCRMSQL(\"YOUR QUERY HERE\", old_context_user))"
   ]
  },
  {
   "cell_type": "markdown",
   "id": "0f31968e-74ad-4ae2-9537-b3d550b1be47",
   "metadata": {
    "id": "0f31968e-74ad-4ae2-9537-b3d550b1be47"
   },
   "source": [
    "# Exercise\n",
    " - Complete the prompts similar to what we did in class. \n",
    "     - Try at least 3 versions\n",
    "     - Be creative\n",
    " - Write a one page report summarizing your findings.\n",
    "     - Were there variations that didn't work well? i.e., where GPT either hallucinated or wrong.\n",
    "     - What did you learn?"
   ]
  },
  {
   "cell_type": "code",
   "execution_count": 13,
   "id": "e182b8d8",
   "metadata": {},
   "outputs": [
    {
     "name": "stdout",
     "output_type": "stream",
     "text": [
      "Testing Old Prompt:\n",
      "Query: Find employees who studied at LMU.\n",
      "Output: This is your SQL query:\n",
      "\n",
      "```sql\n",
      "SELECT e.ID_usr, e.name\n",
      "FROM employees e\n",
      "JOIN studies s ON e.ID_usr = s.ID_usr\n",
      "WHERE s.Institution = 'LMU';\n",
      "```\n",
      "\n",
      "Query: Show the total salary paid to each employee in 2021.\n",
      "Output: This is your SQL query:\n",
      "\n",
      "```sql\n",
      "SELECT e.ID_usr, e.name, SUM(s.salary) AS total_salary_2021\n",
      "FROM employees e\n",
      "JOIN salary s ON e.ID_usr = s.ID_usr\n",
      "WHERE YEAR(s.year) = 2021\n",
      "GROUP BY e.ID_usr, e.name;\n",
      "```\n",
      "\n",
      "Query: Which employees have the highest salary in 2021?\n",
      "Output: This is your SQL query:\n",
      "\n",
      "```sql\n",
      "SELECT e.ID_usr, e.name\n",
      "FROM employees e\n",
      "JOIN salary s ON e.ID_usr = s.ID_usr\n",
      "WHERE s.year = '2021'\n",
      "ORDER BY s.salary DESC\n",
      "LIMIT 1;\n",
      "```\n",
      "\n",
      "Testing New Prompt:\n",
      "Query: Find employees who studied at LMU.\n",
      "Output: ```sql\n",
      "SELECT employees.name\n",
      "FROM employees\n",
      "INNER JOIN studies ON employees.ID_usr = studies.ID_usr\n",
      "WHERE studies.Institution = 'LMU';\n",
      "```\n",
      "\n",
      "Query: Show the total salary paid to each employee in 2021.\n",
      "Output: ```sql\n",
      "SELECT employees.name, SUM(salary.salary) AS total_salary_paid\n",
      "FROM employees\n",
      "INNER JOIN salary ON employees.ID_usr = salary.ID_usr\n",
      "WHERE year = '2021'\n",
      "GROUP BY employees.name;\n",
      "```\n",
      "\n",
      "Query: Which employees have the highest salary in 2021?\n",
      "Output: ```sql\n",
      "SELECT employees.name\n",
      "FROM employees\n",
      "INNER JOIN salary ON employees.ID_usr = salary.ID_usr\n",
      "WHERE salary.year = '2021'\n",
      "ORDER BY salary.salary DESC\n",
      "LIMIT 1;\n",
      "```\n",
      "\n"
     ]
    }
   ],
   "source": [
    "# Define the old prompt\n",
    "old_context = [\n",
    "    {'role': 'system', 'content': \"\"\"\n",
    "    You are a bot to assist in creating SQL commands. All your answers should start with \n",
    "    'This is your SQL,' followed by a SQL query. Use a simple SQL syntax.\n",
    "    \"\"\"},\n",
    "    {'role': 'system', 'content': \"\"\"\n",
    "    First table:\n",
    "    {\n",
    "        \"tableName\": \"employees\",\n",
    "        \"fields\": [\n",
    "            {\"name\": \"ID_usr\", \"type\": \"int\"},\n",
    "            {\"name\": \"name\", \"type\": \"varchar\"}\n",
    "        ]\n",
    "    }\n",
    "    \"\"\"},\n",
    "    {'role': 'system', 'content': \"\"\"\n",
    "    Second table:\n",
    "    {\n",
    "        \"tableName\": \"salary\",\n",
    "        \"fields\": [\n",
    "            {\"name\": \"ID_usr\", \"type\": \"int\"},\n",
    "            {\"name\": \"year\", \"type\": \"date\"},\n",
    "            {\"name\": \"salary\", \"type\": \"float\"}\n",
    "        ]\n",
    "    }\n",
    "    \"\"\"},\n",
    "    {'role': 'system', 'content': \"\"\"\n",
    "    Third table:\n",
    "    {\n",
    "        \"tableName\": \"studies\",\n",
    "        \"fields\": [\n",
    "            {\"name\": \"ID\", \"type\": \"int\"},\n",
    "            {\"name\": \"ID_usr\", \"type\": \"int\"},\n",
    "            {\"name\": \"educational_level\", \"type\": \"int\"},\n",
    "            {\"name\": \"Institution\", \"type\": \"varchar\"},\n",
    "            {\"name\": \"Years\", \"type\": \"date\"},\n",
    "            {\"name\": \"Speciality\", \"type\": \"varchar\"}\n",
    "        ]\n",
    "    }\n",
    "    \"\"\"}\n",
    "]\n",
    "\n",
    "# Define the new prompt with a few-shot sample\n",
    "new_context = [\n",
    "    {'role': 'system', 'content': \"\"\"\n",
    "    CREATE TABLE employees (\n",
    "        ID_usr INT PRIMARY KEY,\n",
    "        name VARCHAR(50)\n",
    "    );\n",
    "\n",
    "    CREATE TABLE salary (\n",
    "        ID_usr INT,\n",
    "        year DATE,\n",
    "        salary FLOAT,\n",
    "        PRIMARY KEY(ID_usr, year)\n",
    "    );\n",
    "\n",
    "    CREATE TABLE studies (\n",
    "        ID INT PRIMARY KEY,\n",
    "        ID_usr INT,\n",
    "        educational_level INT,\n",
    "        Institution VARCHAR(100),\n",
    "        Years DATE,\n",
    "        Speciality VARCHAR(100)\n",
    "    );\n",
    "\n",
    "    -- Few-shot Examples:\n",
    "    -- Question: \"What is the salary of Martha in 2021?\"\n",
    "    -- SQL: SELECT salary FROM salary INNER JOIN employees ON salary.ID_usr = employees.ID_usr WHERE employees.name = 'Bob' AND year = '2021';\n",
    "\n",
    "    -- Question: \"List all employees and their educational institutions.\"\n",
    "    -- SQL: SELECT employees.name, studies.Institution FROM employees INNER JOIN studies ON employees.ID_usr = studies.ID_usr;\n",
    "\n",
    "    -- Question: \"Find all employees with a salary above 50,000.\"\n",
    "    -- SQL: SELECT employees.name FROM employees INNER JOIN salary ON employees.ID_usr = salary.ID_usr WHERE salary.salary > 50000;\n",
    "    \"\"\"}\n",
    "]\n",
    "\n",
    "# Sample queries to test both prompts\n",
    "queries = [\n",
    "    \"Find employees who studied at LMU.\",\n",
    "    \"Show the total salary paid to each employee in 2021.\",\n",
    "    \"Which employees have the highest salary in 2021?\"\n",
    "]\n",
    "\n",
    "# Test the queries using the old and new prompts\n",
    "print(\"Testing Old Prompt:\")\n",
    "for query in queries:\n",
    "    print(f\"Query: {query}\")\n",
    "    print(\"Output:\", return_CCRMSQL(query, old_context))\n",
    "    print()\n",
    "\n",
    "print(\"Testing New Prompt:\")\n",
    "for query in queries:\n",
    "    print(f\"Query: {query}\")\n",
    "    print(\"Output:\", return_CCRMSQL(query, new_context))\n",
    "    print()\n"
   ]
  },
  {
   "cell_type": "markdown",
   "id": "df098fd5",
   "metadata": {},
   "source": [
    "\n",
    "Findings\n",
    "New Prompt Advantages: Improved accuracy due to clear schema definitions (CREATE TABLE) and example queries.\n",
    "Reduced ambiguity in SQL command generation.\n",
    "\n",
    "Old Prompt Issues: Model occasionally ignored certain tables or fields due to vague descriptions.\n",
    "\n",
    "\n",
    "Challenges\n",
    "Some queries failed when specific details (e.g., data types or constraints) were missing.\n",
    "New prompt required more preparation effort (adding schemas and examples).\n",
    "\n",
    "Lessons Learned\n",
    "Few-shot learning significantly improves performance by anchoring the model to specific examples.\n",
    "Clear, structured prompts help the model produce more accurate and valid SQL."
   ]
  }
 ],
 "metadata": {
  "colab": {
   "include_colab_link": true,
   "provenance": []
  },
  "kernelspec": {
   "display_name": "Python 3",
   "language": "python",
   "name": "python3"
  },
  "language_info": {
   "codemirror_mode": {
    "name": "ipython",
    "version": 3
   },
   "file_extension": ".py",
   "mimetype": "text/x-python",
   "name": "python",
   "nbconvert_exporter": "python",
   "pygments_lexer": "ipython3",
   "version": "3.12.5"
  }
 },
 "nbformat": 4,
 "nbformat_minor": 5
}
