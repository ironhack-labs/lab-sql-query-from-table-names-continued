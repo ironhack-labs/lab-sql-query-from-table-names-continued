{
 "cells": [
  {
   "cell_type": "markdown",
   "id": "7d930c89-4954-4e39-be5a-601c1dd89512",
   "metadata": {
    "id": "7d930c89-4954-4e39-be5a-601c1dd89512"
   },
   "source": [
    "# SQL query from table names - Continued"
   ]
  },
  {
   "cell_type": "code",
   "execution_count": 1,
   "id": "a03f026a",
   "metadata": {
    "id": "a03f026a"
   },
   "outputs": [],
   "source": [
    "from openai import OpenAI\n",
    "import os\n",
    "from dotenv import load_dotenv, find_dotenv\n",
    "_ = load_dotenv(find_dotenv())\n",
    "\n",
    "OPENAI_API_KEY  = os.getenv('OPENAI_API_KEY')"
   ]
  },
  {
   "cell_type": "markdown",
   "id": "53a05b80-88fd-42b2-ba89-763074ae74e9",
   "metadata": {
    "id": "53a05b80-88fd-42b2-ba89-763074ae74e9"
   },
   "source": [
    "## The old Prompt"
   ]
  },
  {
   "cell_type": "code",
   "execution_count": 2,
   "id": "922f8d24",
   "metadata": {
    "id": "922f8d24"
   },
   "outputs": [],
   "source": [
    "#The old prompt\n",
    "old_context = [ {'role':'system', 'content':\"\"\"\n",
    "you are a bot to assist in create SQL commands, all your answers should start with\n",
    "this is your SQL, and after that an SQL that can do what the user request.\n",
    "Your Database is composed by a SQL database with some tables.\n",
    "Try to maintain the SQL order simple.\n",
    "Put the SQL command in white letters with a black background, and just after\n",
    "a simple and concise text explaining how it works.\n",
    "If the user ask for something that can not be solved with an SQL Order\n",
    "just answer something nice and simple, maximum 10 words, asking him for something that\n",
    "can be solved with SQL.\n",
    "\"\"\"} ]\n",
    "\n",
    "old_context.append( {'role':'system', 'content':\"\"\"\n",
    "first table:\n",
    "{\n",
    "    \"tableName\": \"Professors\",\n",
    "    \"fields\": [\n",
    "        {\n",
    "            \"name\": \"professor_id\",\n",
    "            \"type\": \"int\"\n",
    "        },\n",
    "        {\n",
    "            \"name\": \"name\",\n",
    "            \"type\": \"varchar\"\n",
    "        },\n",
    "        {\n",
    "            \"name\": \"department\",\n",
    "            \"type\": \"varchar\"\n",
    "        }\n",
    "        {\n",
    "            \"name\": \"university\",\n",
    "            \"type\": \"varchar\"\n",
    "        }\n",
    "        {\n",
    "            \"name\": \"research_interests\",\n",
    "            \"type\": \"text\"\n",
    "        }\n",
    "    ]\n",
    "}\n",
    "\"\"\"})\n",
    "\n",
    "old_context.append({'role':'system', 'content':\"\"\"                    \n",
    "second table:\n",
    "{\n",
    "    \"tableName\": \"Reviews\",\n",
    "    \"fields\": [\n",
    "        {\n",
    "            \"name\": \"review_id\",\n",
    "            \"type\": \"int\"\n",
    "        },\n",
    "        {\n",
    "            \"name\": \"professor_id\",\n",
    "            \"type\": \"int\"\n",
    "        },\n",
    "        {\n",
    "            \"name\": \"student_name\",\n",
    "            \"type\": \"varchar\"\n",
    "        },\n",
    "        {\n",
    "            \"name\": \"review_date\",\n",
    "            \"type\": \"date\"\n",
    "        },\n",
    "        {\n",
    "            \"name\": \"rating\",\n",
    "            \"type\": \"ing\"\n",
    "        },\n",
    "        {\n",
    "            \"name\": \"comments\",\n",
    "            \"type\": \"text\"\n",
    "        }\n",
    "    ]\n",
    "}  \n",
    "\"\"\"})\n",
    "\n",
    "old_context.append( {'role':'system', 'content':\"\"\"\n",
    "third table:\n",
    "{\n",
    "    \"tableName\": \"Institutes\",\n",
    "    \"fields\": [\n",
    "        {\n",
    "            \"name\": \"institute_id\",\n",
    "            \"type\": \"int\"\n",
    "        },\n",
    "        {\n",
    "            \"name\": \"name\",\n",
    "            \"type\": \"varchar\"\n",
    "        },\n",
    "        {\n",
    "            \"name\": \"location\",\n",
    "            \"type\": \"varchar\"\n",
    "        },\n",
    "        {\n",
    "            \"name\": \"type\",\n",
    "            \"type\": \"varchar\"\n",
    "        }\n",
    "    ]\n",
    "}                                 \n",
    "\"\"\"})"
   ]
  },
  {
   "cell_type": "markdown",
   "id": "377acaae-7dd0-4d13-bc68-9e33741c231c",
   "metadata": {
    "id": "377acaae-7dd0-4d13-bc68-9e33741c231c"
   },
   "source": [
    "## New Prompt.\n",
    "We are going to improve it following the instructions of a Paper from the Ohaio University: [How to Prompt LLMs for Text-to-SQL: A Study in Zero-shot, Single-domain, and Cross-domain Settings](https://arxiv.org/abs/2305.11853). I recommend you read that paper.\n",
    "\n",
    "For each table, we will define the structure using the same syntax as in a SQL create table command, and add the sample rows of the content.\n",
    "\n",
    "Finally, at the end of the prompt, we'll include some example queries with the SQL that the model should generate. This technique is called Few-Shot Samples, in which we provide the prompt with some examples to assist it in generating the correct SQL.\n"
   ]
  },
  {
   "cell_type": "code",
   "execution_count": 3,
   "id": "5334f942",
   "metadata": {
    "id": "5334f942"
   },
   "outputs": [],
   "source": [
    "context = [ {'role':'system', 'content':\"\"\"\n",
    "CREATE TABLE Professors (\n",
    "    professor_id INT PRIMARY KEY AUTO_INCREMENT,\n",
    "    name VARCHAR(100) NOT NULL,\n",
    "    department VARCHAR(100) NOT NULL,\n",
    "    university VARCHAR(100) NOT NULL,\n",
    "    research_interests TEXT\n",
    ");\n",
    "             \n",
    "CREATE TABLE Reviews (\n",
    "    review_id INT PRIMARY KEY AUTO_INCREMENT,\n",
    "    professor_id INT,\n",
    "    student_name VARCHAR(100) NOT NULL,\n",
    "    review_date DATE NOT NULL,\n",
    "    rating INT CHECK (rating BETWEEN 1 AND 5),\n",
    "    comments TEXT,\n",
    "    FOREIGN KEY (professor_id) REFERENCES Professors(professor_id)\n",
    ");\n",
    "             \n",
    "CREATE TABLE Institutes (\n",
    "    institute_id INT PRIMARY KEY AUTO_INCREMENT,\n",
    "    name VARCHAR(100) NOT NULL,\n",
    "    location VARCHAR(100) NOT NULL,\n",
    "    type VARCHAR(50) NOT NULL  -- E.g., 'University', 'Research Center', etc.\n",
    ");            \n",
    "\"\"\"} ]\n",
    "\n"
   ]
  },
  {
   "cell_type": "code",
   "execution_count": 4,
   "id": "330e69b0-3f5f-4bb2-8185-aedded2bb993",
   "metadata": {
    "id": "330e69b0-3f5f-4bb2-8185-aedded2bb993"
   },
   "outputs": [],
   "source": [
    "#FEW SHOT SAMPLES\n",
    "context.append( {'role':'system', 'content':\"\"\"\n",
    " -- Maintain the SQL order simple and efficient as you can, using valid SQL Lite, answer the following questions for the table provided above.\n",
    "INSERT INTO Professors (name, department, university, research_interests)\n",
    "VALUES \n",
    "('Dr. Alice Johnson', 'Computer Science', 'Ohio University', 'Artificial Intelligence, Machine Learning'),\n",
    "('Dr. John Smith', 'Physics', 'Harvard University', 'Quantum Mechanics, Astrophysics'),\n",
    "('Dr. Emily Wong', 'Chemistry', 'MIT', 'Organic Chemistry, Nanotechnology');\n",
    "                 \n",
    "INSERT INTO Reviews (professor_id, student_name, review_date, rating, comments)\n",
    "VALUES \n",
    "(1, 'Jane Doe', '2023-05-10', 4, 'Great teaching style but difficult exams.'),\n",
    "(2, 'Mike Brown', '2023-06-20', 5, 'Very insightful lectures and helpful during office hours.'),\n",
    "(3, 'Sarah White', '2023-07-15', 3, 'Knowledgeable but not very approachable.');\n",
    "                 \n",
    "INSERT INTO Institutes (name, location, type)\n",
    "VALUES \n",
    "('Ohio University', 'Athens, OH', 'University'),\n",
    "('Harvard University', 'Cambridge, MA', 'University'),\n",
    "('MIT Research Center', 'Cambridge, MA', 'Research Center');\"\"\"\n",
    "})"
   ]
  },
  {
   "cell_type": "code",
   "execution_count": 5,
   "id": "b90f417a",
   "metadata": {
    "id": "b90f417a"
   },
   "outputs": [],
   "source": [
    "# Function to call the model.\n",
    "def return_CCRMSQL(user_message, context):\n",
    "    client = OpenAI(\n",
    "    # This is the default and can be omitted\n",
    "    api_key=OPENAI_API_KEY,\n",
    ")\n",
    "\n",
    "    context = context.copy()\n",
    "    context.append({'role':'user', 'content':\"question: \" + user_message})\n",
    "\n",
    "    response = client.chat.completions.create(\n",
    "            model=\"gpt-3.5-turbo\",\n",
    "            messages=context,\n",
    "            temperature=0,\n",
    "        )\n",
    "\n",
    "    return (response.choices[0].message.content)"
   ]
  },
  {
   "cell_type": "markdown",
   "id": "9e0a4c11-dfe1-46fe-ac2b-3ff825f9749c",
   "metadata": {
    "id": "9e0a4c11-dfe1-46fe-ac2b-3ff825f9749c"
   },
   "source": [
    "## NL2SQL Samples\n",
    "We're going to review some examples generated with the old prompt and others with the new prompt."
   ]
  },
  {
   "cell_type": "code",
   "execution_count": 6,
   "id": "bcfa3fe0",
   "metadata": {},
   "outputs": [],
   "source": [
    "question = \"Which professor from the physics department got the best review?\""
   ]
  },
  {
   "cell_type": "code",
   "execution_count": 7,
   "id": "59e8202c-ce34-487e-9037-c65a263423ed",
   "metadata": {
    "colab": {
     "base_uri": "https://localhost:8080/"
    },
    "id": "59e8202c-ce34-487e-9037-c65a263423ed",
    "outputId": "f7a97b9f-45d7-4f78-8979-a796c5bc42fb"
   },
   "outputs": [
    {
     "name": "stdout",
     "output_type": "stream",
     "text": [
      "To find out which professor from the Physics department received the best review, we need to consider the reviews' ratings for professors in the Physics department.\n",
      "\n",
      "We can achieve this by joining the `Professors` and `Reviews` tables on the `professor_id` column and filtering for professors in the Physics department. Then, we can order the results by the rating in descending order and limit the result to the top row to get the professor with the best review.\n",
      "\n",
      "Here is the SQL query to find the professor from the Physics department who received the best review:\n",
      "\n",
      "```sql\n",
      "SELECT p.name AS professor_name, r.rating AS review_rating\n",
      "FROM Professors p\n",
      "JOIN Reviews r ON p.professor_id = r.professor_id\n",
      "WHERE p.department = 'Physics'\n",
      "ORDER BY r.rating DESC\n",
      "LIMIT 1;\n",
      "```\n",
      "\n",
      "When you run this query, it will return the name of the professor from the Physics department who received the best review along with the rating they received.\n"
     ]
    }
   ],
   "source": [
    "# new\n",
    "context_user = context.copy()\n",
    "print(return_CCRMSQL(question, context_user))"
   ]
  },
  {
   "cell_type": "code",
   "execution_count": 8,
   "id": "9c4766b1-48a9-456e-bc6c-4b6f41909aa4",
   "metadata": {
    "colab": {
     "base_uri": "https://localhost:8080/"
    },
    "id": "9c4766b1-48a9-456e-bc6c-4b6f41909aa4",
    "outputId": "029844da-5f1f-4f65-9adb-4d9c1cafacea"
   },
   "outputs": [
    {
     "name": "stdout",
     "output_type": "stream",
     "text": [
      "This is your SQL:\n",
      "```sql\n",
      "SELECT p.name, AVG(r.rating) AS avg_rating\n",
      "FROM Professors p\n",
      "JOIN Reviews r ON p.professor_id = r.professor_id\n",
      "WHERE p.department = 'Physics'\n",
      "GROUP BY p.name\n",
      "ORDER BY avg_rating DESC\n",
      "LIMIT 1;\n",
      "```\n",
      "\n",
      "This SQL query selects the name of the professor from the Physics department who received the highest average rating in reviews. It joins the Professors and Reviews tables on the professor_id, filters by the Physics department, calculates the average rating for each professor, orders the results in descending order of average rating, and limits the output to the top result.\n"
     ]
    }
   ],
   "source": [
    "#old\n",
    "old_context_user = old_context.copy()\n",
    "print(return_CCRMSQL(question, old_context_user))"
   ]
  },
  {
   "cell_type": "code",
   "execution_count": 12,
   "id": "0cd29055",
   "metadata": {},
   "outputs": [],
   "source": [
    "question = \"In which institute can we find the professors with the worst reviews?\""
   ]
  },
  {
   "cell_type": "code",
   "execution_count": 13,
   "id": "38d8d370-0524-4a28-bd54-5e5cddb08e2c",
   "metadata": {
    "colab": {
     "base_uri": "https://localhost:8080/"
    },
    "id": "38d8d370-0524-4a28-bd54-5e5cddb08e2c",
    "outputId": "2934cdec-bea0-44db-b047-33e70dcf8ae8"
   },
   "outputs": [
    {
     "name": "stdout",
     "output_type": "stream",
     "text": [
      "To find the institute where professors with the worst reviews are located, we need to consider the professors' reviews and their associated institutes. We can achieve this by first identifying the professor(s) with the lowest average rating and then determining the institute(s) they belong to.\n",
      "\n",
      "Here is the SQL query to find the institute(s) where professors with the worst reviews are located:\n",
      "\n",
      "```sql\n",
      "WITH ProfessorAvgRating AS (\n",
      "    SELECT professor_id, AVG(rating) AS avg_rating\n",
      "    FROM Reviews\n",
      "    GROUP BY professor_id\n",
      ")\n",
      "SELECT i.name AS institute_name\n",
      "FROM Professors p\n",
      "JOIN Reviews r ON p.professor_id = r.professor_id\n",
      "JOIN Institutes i ON p.university = i.name\n",
      "WHERE p.professor_id IN (\n",
      "    SELECT professor_id\n",
      "    FROM ProfessorAvgRating\n",
      "    WHERE avg_rating = (\n",
      "        SELECT MIN(avg_rating)\n",
      "        FROM ProfessorAvgRating\n",
      "    )\n",
      ");\n",
      "```\n",
      "\n",
      "This query calculates the average rating for each professor, then selects the institute(s) where the professor(s) with the lowest average rating are located.\n"
     ]
    }
   ],
   "source": [
    "#new\n",
    "print(return_CCRMSQL(question, context_user))"
   ]
  },
  {
   "cell_type": "code",
   "execution_count": 14,
   "id": "5aa318d4-dd9f-41db-8ff4-c1d87220f766",
   "metadata": {
    "colab": {
     "base_uri": "https://localhost:8080/"
    },
    "id": "5aa318d4-dd9f-41db-8ff4-c1d87220f766",
    "outputId": "605724a1-0d89-4ed9-d8ec-1aeeae6dc287"
   },
   "outputs": [
    {
     "name": "stdout",
     "output_type": "stream",
     "text": [
      "this is your SQL:\n",
      "```sql\n",
      "SELECT DISTINCT I.name AS institute_name\n",
      "FROM Professors P\n",
      "JOIN Reviews R ON P.professor_id = R.professor_id\n",
      "JOIN Institutes I ON P.university = I.name\n",
      "GROUP BY I.name\n",
      "ORDER BY AVG(R.rating) ASC\n",
      "LIMIT 1;\n",
      "```\n",
      "\n",
      "This SQL query retrieves the name of the institute where you can find the professors with the worst reviews. It joins the Professors, Reviews, and Institutes tables, calculates the average rating for each institute, orders the results in ascending order of average rating, and then selects the institute with the lowest average rating.\n"
     ]
    }
   ],
   "source": [
    "#old\n",
    "print(return_CCRMSQL(question, old_context_user))"
   ]
  },
  {
   "cell_type": "markdown",
   "id": "0f31968e-74ad-4ae2-9537-b3d550b1be47",
   "metadata": {
    "id": "0f31968e-74ad-4ae2-9537-b3d550b1be47"
   },
   "source": [
    "# Exercise\n",
    " - Complete the prompts similar to what we did in class. \n",
    "     - Try at least 3 versions\n",
    "     - Be creative\n",
    " - Write a one page report summarizing your findings.\n",
    "     - Were there variations that didn't work well? i.e., where GPT either hallucinated or wrong.\n",
    "     - What did you learn?"
   ]
  },
  {
   "cell_type": "code",
   "execution_count": 17,
   "id": "fab46eb5",
   "metadata": {},
   "outputs": [],
   "source": [
    "def compare_sql_queries(question: str) -> None: \n",
    "    \"\"\"Print both completions from the old context and the new one\n",
    "    generated from the same question.\n",
    "\n",
    "    Args:\n",
    "        question (str): question\n",
    "    \"\"\"\n",
    "\n",
    "    # old context\n",
    "    old_context_user = old_context.copy()\n",
    "    print(return_CCRMSQL(question, old_context_user))\n",
    "    \n",
    "    print(100*'-')\n",
    "\n",
    "    # new context\n",
    "    context_user = context.copy()\n",
    "    print(return_CCRMSQL(question, context_user))"
   ]
  },
  {
   "cell_type": "markdown",
   "id": "d7c5a61d",
   "metadata": {},
   "source": [
    "### Variation 1"
   ]
  },
  {
   "cell_type": "code",
   "execution_count": 19,
   "id": "792aeca6",
   "metadata": {},
   "outputs": [
    {
     "name": "stdout",
     "output_type": "stream",
     "text": [
      "this is your SQL:\n",
      "```sql\n",
      "SELECT student_name, COUNT(professor_id) AS num_reviews\n",
      "FROM Reviews\n",
      "GROUP BY student_name\n",
      "ORDER BY num_reviews DESC\n",
      "LIMIT 1;\n",
      "```\n",
      "\n",
      "This SQL query selects the student_name and counts the number of reviews they have made for professors. It then groups the results by student_name, orders them in descending order based on the number of reviews, and limits the output to only the student with the highest number of reviews.\n",
      "----------------------------------------------------------------------------------------------------\n",
      "```sql\n",
      "WITH StudentReviews AS (\n",
      "    SELECT student_name, COUNT(DISTINCT professor_id) AS num_professors_reviewed\n",
      "    FROM Reviews\n",
      "    GROUP BY student_name\n",
      ")\n",
      "SELECT student_name\n",
      "FROM StudentReviews\n",
      "WHERE num_professors_reviewed = (SELECT MAX(num_professors_reviewed) FROM StudentReviews);\n",
      "```\n"
     ]
    }
   ],
   "source": [
    "question = \"I need the name and department of the student that has reviewed the most professors\"\n",
    "compare_sql_queries(question)"
   ]
  },
  {
   "cell_type": "markdown",
   "id": "974b33ac",
   "metadata": {},
   "source": [
    "**Old context:**  \n",
    "This query is simple but likely inaccurate without counting distinct professors, which is the main drawback.\n",
    "\n",
    "**New context:**  \n",
    "This query is accurate and well-structured, though slightly more complex. The use of COUNT(DISTINCT) and a CTE addresses the problem requirements thoroughly."
   ]
  },
  {
   "cell_type": "markdown",
   "id": "4a93216b",
   "metadata": {},
   "source": [
    "### Variation 2"
   ]
  },
  {
   "cell_type": "code",
   "execution_count": 20,
   "id": "490ccd73",
   "metadata": {},
   "outputs": [
    {
     "name": "stdout",
     "output_type": "stream",
     "text": [
      "this is your SQL:\n",
      "```sql\n",
      "SELECT Institutes.name\n",
      "FROM Institutes\n",
      "JOIN Professors ON Institutes.institute_id = Professors.institute_id\n",
      "JOIN Reviews ON Professors.professor_id = Reviews.professor_id\n",
      "GROUP BY Institutes.name\n",
      "ORDER BY AVG(Reviews.rating) DESC\n",
      "LIMIT 1;\n",
      "```\n",
      "\n",
      "This SQL query retrieves the name of the institute that holds the best-reviewed teachers. It joins the Institutes, Professors, and Reviews tables, calculates the average rating for each institute, and then selects the institute with the highest average rating.\n",
      "----------------------------------------------------------------------------------------------------\n",
      "To determine which institute holds the best reviewed teachers, we need to consider the average ratings of the professors at each institute. We can achieve this by joining the `Professors` and `Reviews` tables on the `professor_id` column, then grouping by the `university` and calculating the average rating for each university. Finally, we can order the results by the average rating in descending order to find the institute with the best reviewed teachers.\n",
      "\n",
      "Here is the SQL query to achieve this:\n",
      "\n",
      "```sql\n",
      "SELECT p.university, AVG(r.rating) AS average_rating\n",
      "FROM Professors p\n",
      "JOIN Reviews r ON p.professor_id = r.professor_id\n",
      "GROUP BY p.university\n",
      "ORDER BY average_rating DESC;\n",
      "```\n",
      "\n",
      "When you run this query, it will provide you with the average ratings of professors at each institute, sorted from highest to lowest. The institute with the highest average rating will be the one that holds the best reviewed teachers.\n"
     ]
    }
   ],
   "source": [
    "question = \"What institute holds the best reviewed teachers?\"\n",
    "compare_sql_queries(question)"
   ]
  },
  {
   "cell_type": "markdown",
   "id": "54452059",
   "metadata": {},
   "source": [
    "**Old context:**  \n",
    "This query is both accurate and clear, fulfilling the requirement to identify the institute with the best-reviewed teachers.\n",
    "\n",
    "**New context:**  \n",
    "This query is clear but misses the exact answer, as it does not limit the results to the single best-reviewed institute. Adding LIMIT 1 would improve its accuracy."
   ]
  },
  {
   "cell_type": "markdown",
   "id": "3914e41b",
   "metadata": {},
   "source": [
    "### Variation 3"
   ]
  },
  {
   "cell_type": "code",
   "execution_count": 21,
   "id": "44efaeb4",
   "metadata": {},
   "outputs": [
    {
     "name": "stdout",
     "output_type": "stream",
     "text": [
      "this is your SQL:\n",
      "```sql\n",
      "SELECT student_name\n",
      "FROM Students\n",
      "LEFT JOIN Reviews ON Students.student_name = Reviews.student_name\n",
      "WHERE Reviews.student_name IS NULL;\n",
      "```\n",
      "\n",
      "This SQL query selects the names of students who have not reviewed any professor yet by performing a LEFT JOIN between the Students table and the Reviews table on the student_name column. It then filters the results to only include rows where there is no matching review for the student, indicating they have not reviewed any professor.\n",
      "----------------------------------------------------------------------------------------------------\n",
      "To find the names of students who have not reviewed any professor yet, you can use the following SQL query:\n",
      "\n",
      "```sql\n",
      "SELECT DISTINCT student_name\n",
      "FROM Reviews\n",
      "WHERE student_name NOT IN (SELECT DISTINCT student_name FROM Reviews);\n",
      "```\n",
      "\n",
      "This query will return the names of students who have not reviewed any professor yet. You can then take appropriate action based on this information.\n"
     ]
    }
   ],
   "source": [
    "question = \"Some students have not reviewed any professor yet. I want their names to ban them from the University.\"\n",
    "compare_sql_queries(question)"
   ]
  },
  {
   "cell_type": "markdown",
   "id": "3db13a30",
   "metadata": {},
   "source": [
    "**Old context:**  \n",
    "This query is accurate, efficient, and highly readable, effectively solving the problem.\n",
    "\n",
    "**New context:**  \n",
    "This query is incorrect in logic, inefficient, and less readable due to its flawed approach."
   ]
  },
  {
   "cell_type": "markdown",
   "id": "7996c03b",
   "metadata": {},
   "source": [
    "## CONCLUSION\n",
    "Both context seem to yield similar results, one being sometimes better than the other. The examples provided in the second context probably helps the model come up with a better solution sometimes (see variation 1) but not necessarely all the time (see variations 2 and 3). As usual, adding an extra layer of complexity may confuse the model."
   ]
  }
 ],
 "metadata": {
  "colab": {
   "include_colab_link": true,
   "provenance": []
  },
  "kernelspec": {
   "display_name": "ironhack",
   "language": "python",
   "name": "python3"
  },
  "language_info": {
   "codemirror_mode": {
    "name": "ipython",
    "version": 3
   },
   "file_extension": ".py",
   "mimetype": "text/x-python",
   "name": "python",
   "nbconvert_exporter": "python",
   "pygments_lexer": "ipython3",
   "version": "3.12.7"
  }
 },
 "nbformat": 4,
 "nbformat_minor": 5
}
