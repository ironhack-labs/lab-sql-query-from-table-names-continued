{
  "cells": [
    {
      "cell_type": "markdown",
      "metadata": {
        "id": "view-in-github",
        "colab_type": "text"
      },
      "source": [
        "<a href=\"https://colab.research.google.com/github/pbeles/lab-sql-query-from-table-names-continued/blob/main/lab-sql-query-from-table-names-continued.ipynb\" target=\"_parent\"><img src=\"https://colab.research.google.com/assets/colab-badge.svg\" alt=\"Open In Colab\"/></a>"
      ]
    },
    {
      "cell_type": "markdown",
      "id": "7d930c89-4954-4e39-be5a-601c1dd89512",
      "metadata": {
        "id": "7d930c89-4954-4e39-be5a-601c1dd89512"
      },
      "source": [
        "# SQL query from table names - Continued"
      ]
    },
    {
      "cell_type": "code",
      "source": [
        "!pip install openai"
      ],
      "metadata": {
        "colab": {
          "base_uri": "https://localhost:8080/"
        },
        "id": "53j_nhy4gP8h",
        "outputId": "9d321b35-8b40-4106-f4c0-d4bd0260720e"
      },
      "id": "53j_nhy4gP8h",
      "execution_count": 9,
      "outputs": [
        {
          "output_type": "stream",
          "name": "stdout",
          "text": [
            "Requirement already satisfied: openai in /usr/local/lib/python3.11/dist-packages (1.59.9)\n",
            "Requirement already satisfied: anyio<5,>=3.5.0 in /usr/local/lib/python3.11/dist-packages (from openai) (3.7.1)\n",
            "Requirement already satisfied: distro<2,>=1.7.0 in /usr/local/lib/python3.11/dist-packages (from openai) (1.9.0)\n",
            "Requirement already satisfied: httpx<1,>=0.23.0 in /usr/local/lib/python3.11/dist-packages (from openai) (0.28.1)\n",
            "Requirement already satisfied: jiter<1,>=0.4.0 in /usr/local/lib/python3.11/dist-packages (from openai) (0.8.2)\n",
            "Requirement already satisfied: pydantic<3,>=1.9.0 in /usr/local/lib/python3.11/dist-packages (from openai) (2.10.5)\n",
            "Requirement already satisfied: sniffio in /usr/local/lib/python3.11/dist-packages (from openai) (1.3.1)\n",
            "Requirement already satisfied: tqdm>4 in /usr/local/lib/python3.11/dist-packages (from openai) (4.67.1)\n",
            "Requirement already satisfied: typing-extensions<5,>=4.11 in /usr/local/lib/python3.11/dist-packages (from openai) (4.12.2)\n",
            "Requirement already satisfied: idna>=2.8 in /usr/local/lib/python3.11/dist-packages (from anyio<5,>=3.5.0->openai) (3.10)\n",
            "Requirement already satisfied: certifi in /usr/local/lib/python3.11/dist-packages (from httpx<1,>=0.23.0->openai) (2024.12.14)\n",
            "Requirement already satisfied: httpcore==1.* in /usr/local/lib/python3.11/dist-packages (from httpx<1,>=0.23.0->openai) (1.0.7)\n",
            "Requirement already satisfied: h11<0.15,>=0.13 in /usr/local/lib/python3.11/dist-packages (from httpcore==1.*->httpx<1,>=0.23.0->openai) (0.14.0)\n",
            "Requirement already satisfied: annotated-types>=0.6.0 in /usr/local/lib/python3.11/dist-packages (from pydantic<3,>=1.9.0->openai) (0.7.0)\n",
            "Requirement already satisfied: pydantic-core==2.27.2 in /usr/local/lib/python3.11/dist-packages (from pydantic<3,>=1.9.0->openai) (2.27.2)\n"
          ]
        }
      ]
    },
    {
      "cell_type": "code",
      "execution_count": 10,
      "id": "a03f026a",
      "metadata": {
        "id": "a03f026a"
      },
      "outputs": [],
      "source": [
        "from IPython import get_ipython\n",
        "from IPython.display import display\n",
        "from google.colab import userdata\n",
        "\n",
        "OPENAI_API_KEY  = userdata.get('chat_gpt')"
      ]
    },
    {
      "cell_type": "markdown",
      "id": "53a05b80-88fd-42b2-ba89-763074ae74e9",
      "metadata": {
        "id": "53a05b80-88fd-42b2-ba89-763074ae74e9"
      },
      "source": [
        "## The old Prompt"
      ]
    },
    {
      "cell_type": "code",
      "execution_count": 11,
      "id": "922f8d24",
      "metadata": {
        "id": "922f8d24"
      },
      "outputs": [],
      "source": [
        "#The old prompt\n",
        "old_context = [ {'role':'system', 'content':\"\"\"\n",
        "you are a bot to assist in create SQL commands, all your answers should start with \\\n",
        "this is your SQL, and after that an SQL that can do what the user request. \\\n",
        "Your Database is composed by a SQL database with some tables. \\\n",
        "Try to maintain the SQL order simple.\n",
        "Put the SQL command in white letters with a black background, and just after \\\n",
        "a simple and concise text explaining how it works.\n",
        "If the user ask for something that can not be solved with an SQL Order \\\n",
        "just answer something nice and simple, maximum 10 words, asking him for something that \\\n",
        "can be solved with SQL.\n",
        "\"\"\"} ]\n",
        "\n",
        "old_context.append( {'role':'system', 'content':\"\"\"\n",
        "first table:\n",
        "{\n",
        "  \"tableName\": \"employees\",\n",
        "  \"fields\": [\n",
        "    {\n",
        "      \"nombre\": \"ID_usr\",\n",
        "      \"tipo\": \"int\"\n",
        "    },\n",
        "    {\n",
        "      \"nombre\": \"name\",\n",
        "      \"tipo\": \"varchar\"\n",
        "    }\n",
        "  ]\n",
        "}\n",
        "\"\"\"\n",
        "})\n",
        "\n",
        "old_context.append( {'role':'system', 'content':\"\"\"\n",
        "second table:\n",
        "{\n",
        "  \"tableName\": \"salary\",\n",
        "  \"fields\": [\n",
        "    {\n",
        "      \"nombre\": \"ID_usr\",\n",
        "      \"type\": \"int\"\n",
        "    },\n",
        "    {\n",
        "      \"name\": \"year\",\n",
        "      \"type\": \"date\"\n",
        "    },\n",
        "    {\n",
        "      \"name\": \"salary\",\n",
        "      \"type\": \"float\"\n",
        "    }\n",
        "  ]\n",
        "}\n",
        "\"\"\"\n",
        "})\n",
        "\n",
        "old_context.append( {'role':'system', 'content':\"\"\"\n",
        "third table:\n",
        "{\n",
        "  \"tablename\": \"studies\",\n",
        "  \"fields\": [\n",
        "    {\n",
        "      \"name\": \"ID\",\n",
        "      \"type\": \"int\"\n",
        "    },\n",
        "    {\n",
        "      \"name\": \"ID_usr\",\n",
        "      \"type\": \"int\"\n",
        "    },\n",
        "    {\n",
        "      \"name\": \"educational_level\",\n",
        "      \"type\": \"int\"\n",
        "    },\n",
        "    {\n",
        "      \"name\": \"Institution\",\n",
        "      \"type\": \"varchar\"\n",
        "    },\n",
        "    {\n",
        "      \"name\": \"Years\",\n",
        "      \"type\": \"date\"\n",
        "    }\n",
        "    {\n",
        "      \"name\": \"Speciality\",\n",
        "      \"type\": \"varchar\"\n",
        "    }\n",
        "  ]\n",
        "}\n",
        "\"\"\"\n",
        "})"
      ]
    },
    {
      "cell_type": "markdown",
      "id": "377acaae-7dd0-4d13-bc68-9e33741c231c",
      "metadata": {
        "id": "377acaae-7dd0-4d13-bc68-9e33741c231c"
      },
      "source": [
        "## New Prompt.\n",
        "We are going to improve it following the instructions of a Paper from the Ohaio University: [How to Prompt LLMs for Text-to-SQL: A Study in Zero-shot, Single-domain, and Cross-domain Settings](https://arxiv.org/abs/2305.11853). I recommend you read that paper.\n",
        "\n",
        "For each table, we will define the structure using the same syntax as in a SQL create table command, and add the sample rows of the content.\n",
        "\n",
        "Finally, at the end of the prompt, we'll include some example queries with the SQL that the model should generate. This technique is called Few-Shot Samples, in which we provide the prompt with some examples to assist it in generating the correct SQL.\n"
      ]
    },
    {
      "cell_type": "code",
      "execution_count": 13,
      "id": "5334f942",
      "metadata": {
        "id": "5334f942"
      },
      "outputs": [],
      "source": [
        "context = [({'role': 'system', 'content': \"\"\"\n",
        "-- Table Definitions\n",
        "CREATE TABLE employees (\n",
        "    id_usr INT PRIMARY KEY,\n",
        "    name VARCHAR(100),\n",
        "    surname VARCHAR(100)\n",
        ");\n",
        "\n",
        "CREATE TABLE salary (\n",
        "    id_usr INT,\n",
        "    year INT,\n",
        "    date DATE,\n",
        "    salary FLOAT,\n",
        "    FOREIGN KEY (id_usr) REFERENCES employees(id_usr)\n",
        ");\n",
        "\n",
        "CREATE TABLE studies (\n",
        "    id INT PRIMARY KEY,\n",
        "    educational_level VARCHAR(50),\n",
        "    institution VARCHAR(100),\n",
        "    year INT,\n",
        "    specialty VARCHAR(100),\n",
        "    id_usr INT,\n",
        "    FOREIGN KEY (id_usr) REFERENCES employees(id_usr)\n",
        ");\n",
        "\n",
        "-- Sample Data\n",
        "INSERT INTO employees VALUES (1, 'John', 'Smith');\n",
        "INSERT INTO employees VALUES (2, 'Mary', 'Johnson');\n",
        "\n",
        "INSERT INTO salary VALUES (1, 2023, '2023-01-01', 75000.00);\n",
        "INSERT INTO salary VALUES (2, 2023, '2023-01-01', 82000.00);\n",
        "\n",
        "INSERT INTO studies VALUES (1, 'Masters', 'MIT', 2020, 'Computer Science', 1);\n",
        "INSERT INTO studies VALUES (2, 'PhD', 'Stanford', 2019, 'Data Science', 2);\n",
        "\"\"\"})]\n",
        ""
      ]
    },
    {
      "cell_type": "code",
      "execution_count": 14,
      "id": "330e69b0-3f5f-4bb2-8185-aedded2bb993",
      "metadata": {
        "id": "330e69b0-3f5f-4bb2-8185-aedded2bb993"
      },
      "outputs": [],
      "source": [
        "#FEW SHOT SAMPLES\n",
        "context.append({'role':'system', 'content':\"\"\"\n",
        "-- Maintain the SQL order simple and efficient as you can, using valid SQL Lite, answer the following questions for the table provided above.\n",
        "\n",
        "Q: List all employees with their latest salary\n",
        "A: SELECT e.name, e.surname, s.salary\n",
        "   FROM employees e\n",
        "   JOIN salary s ON e.id_usr = s.id_usr\n",
        "   WHERE s.date = (SELECT MAX(date) FROM salary);\n",
        "\n",
        "Q: Find employees with a PhD degree\n",
        "A: SELECT e.name, e.surname, s.institution\n",
        "   FROM employees e\n",
        "   JOIN studies s ON e.id_usr = s.id_usr\n",
        "   WHERE s.educational_level = 'PhD';\n",
        "\"\"\"})"
      ]
    },
    {
      "cell_type": "code",
      "execution_count": 17,
      "id": "b90f417a",
      "metadata": {
        "id": "b90f417a",
        "colab": {
          "base_uri": "https://localhost:8080/"
        },
        "outputId": "766f23a4-6fd7-40d9-b97e-61fae6dcf111"
      },
      "outputs": [
        {
          "output_type": "stream",
          "name": "stdout",
          "text": [
            "Requirement already satisfied: openai in /usr/local/lib/python3.11/dist-packages (1.59.9)\n",
            "Requirement already satisfied: anyio<5,>=3.5.0 in /usr/local/lib/python3.11/dist-packages (from openai) (3.7.1)\n",
            "Requirement already satisfied: distro<2,>=1.7.0 in /usr/local/lib/python3.11/dist-packages (from openai) (1.9.0)\n",
            "Requirement already satisfied: httpx<1,>=0.23.0 in /usr/local/lib/python3.11/dist-packages (from openai) (0.28.1)\n",
            "Requirement already satisfied: jiter<1,>=0.4.0 in /usr/local/lib/python3.11/dist-packages (from openai) (0.8.2)\n",
            "Requirement already satisfied: pydantic<3,>=1.9.0 in /usr/local/lib/python3.11/dist-packages (from openai) (2.10.5)\n",
            "Requirement already satisfied: sniffio in /usr/local/lib/python3.11/dist-packages (from openai) (1.3.1)\n",
            "Requirement already satisfied: tqdm>4 in /usr/local/lib/python3.11/dist-packages (from openai) (4.67.1)\n",
            "Requirement already satisfied: typing-extensions<5,>=4.11 in /usr/local/lib/python3.11/dist-packages (from openai) (4.12.2)\n",
            "Requirement already satisfied: idna>=2.8 in /usr/local/lib/python3.11/dist-packages (from anyio<5,>=3.5.0->openai) (3.10)\n",
            "Requirement already satisfied: certifi in /usr/local/lib/python3.11/dist-packages (from httpx<1,>=0.23.0->openai) (2024.12.14)\n",
            "Requirement already satisfied: httpcore==1.* in /usr/local/lib/python3.11/dist-packages (from httpx<1,>=0.23.0->openai) (1.0.7)\n",
            "Requirement already satisfied: h11<0.15,>=0.13 in /usr/local/lib/python3.11/dist-packages (from httpcore==1.*->httpx<1,>=0.23.0->openai) (0.14.0)\n",
            "Requirement already satisfied: annotated-types>=0.6.0 in /usr/local/lib/python3.11/dist-packages (from pydantic<3,>=1.9.0->openai) (0.7.0)\n",
            "Requirement already satisfied: pydantic-core==2.27.2 in /usr/local/lib/python3.11/dist-packages (from pydantic<3,>=1.9.0->openai) (2.27.2)\n"
          ]
        }
      ],
      "source": [
        "!pip install openai # Install the openai package\n",
        "from openai import OpenAI # Import the OpenAI class\n",
        "\n",
        "#Function to call the model.\n",
        "def return_CCRMSQL(user_message, context):\n",
        "    client = OpenAI(\n",
        "    # This is the default and can be omitted\n",
        "    api_key=OPENAI_API_KEY,\n",
        ")\n",
        "\n",
        "    newcontext = context.copy()\n",
        "    newcontext.append({'role':'user', 'content':\"question: \" + user_message})\n",
        "\n",
        "    response = client.chat.completions.create(\n",
        "            model=\"gpt-3.5-turbo\",\n",
        "            messages=newcontext,\n",
        "            temperature=0,\n",
        "        )\n",
        "\n",
        "    return (response.choices[0].message.content)"
      ]
    },
    {
      "cell_type": "markdown",
      "id": "9e0a4c11-dfe1-46fe-ac2b-3ff825f9749c",
      "metadata": {
        "id": "9e0a4c11-dfe1-46fe-ac2b-3ff825f9749c"
      },
      "source": [
        "## NL2SQL Samples\n",
        "We're going to review some examples generated with the old prompt and others with the new prompt."
      ]
    },
    {
      "cell_type": "code",
      "execution_count": 18,
      "id": "59e8202c-ce34-487e-9037-c65a263423ed",
      "metadata": {
        "colab": {
          "base_uri": "https://localhost:8080/"
        },
        "id": "59e8202c-ce34-487e-9037-c65a263423ed",
        "outputId": "9381167a-3607-4f6a-d0a6-550f43250434"
      },
      "outputs": [
        {
          "output_type": "stream",
          "name": "stdout",
          "text": [
            "SELECT e.name, e.surname, s.salary \n",
            "FROM employees e \n",
            "JOIN salary s ON e.id_usr = s.id_usr \n",
            "WHERE s.date = (SELECT MAX(date) FROM salary);\n"
          ]
        }
      ],
      "source": [
        "#new\n",
        "context_user = context.copy()\n",
        "print(return_CCRMSQL(\"\"\"YOUR QUERY HERE\"\"\", context_user))"
      ]
    },
    {
      "cell_type": "code",
      "execution_count": 19,
      "id": "9c4766b1-48a9-456e-bc6c-4b6f41909aa4",
      "metadata": {
        "colab": {
          "base_uri": "https://localhost:8080/"
        },
        "id": "9c4766b1-48a9-456e-bc6c-4b6f41909aa4",
        "outputId": "2c0f1762-902e-42cf-a2ad-5f3c94418787"
      },
      "outputs": [
        {
          "output_type": "stream",
          "name": "stdout",
          "text": [
            "This is your SQL:\n",
            "```sql\n",
            "\n",
            "SELECT * \n",
            "FROM employees;\n",
            "```\n",
            "This SQL query selects all data from the \"employees\" table.\n"
          ]
        }
      ],
      "source": [
        "#old\n",
        "old_context_user = old_context.copy()\n",
        "print(return_CCRMSQL(\"YOUR QUERY HERE\", old_context_user))"
      ]
    },
    {
      "cell_type": "code",
      "execution_count": 20,
      "id": "38d8d370-0524-4a28-bd54-5e5cddb08e2c",
      "metadata": {
        "colab": {
          "base_uri": "https://localhost:8080/"
        },
        "id": "38d8d370-0524-4a28-bd54-5e5cddb08e2c",
        "outputId": "977e2d60-a54a-4c2b-8629-4e1afc85ab90"
      },
      "outputs": [
        {
          "output_type": "stream",
          "name": "stdout",
          "text": [
            "Q: List all employees with their latest salary\n",
            "A: SELECT e.name, e.surname, s.salary \n",
            "   FROM employees e \n",
            "   JOIN salary s ON e.id_usr = s.id_usr \n",
            "   WHERE s.date = (SELECT MAX(date) FROM salary);\n",
            "\n",
            "Q: Find employees with a PhD degree\n",
            "A: SELECT e.name, e.surname, s.institution \n",
            "   FROM employees e \n",
            "   JOIN studies s ON e.id_usr = s.id_usr \n",
            "   WHERE s.educational_level = 'PhD';\n"
          ]
        }
      ],
      "source": [
        "#new\n",
        "print(return_CCRMSQL(\"YOUR QUERY HERE\", context_user))"
      ]
    },
    {
      "cell_type": "code",
      "execution_count": 21,
      "id": "5aa318d4-dd9f-41db-8ff4-c1d87220f766",
      "metadata": {
        "colab": {
          "base_uri": "https://localhost:8080/"
        },
        "id": "5aa318d4-dd9f-41db-8ff4-c1d87220f766",
        "outputId": "12af5ee6-5a1d-47ca-e698-fa8f425533e7"
      },
      "outputs": [
        {
          "output_type": "stream",
          "name": "stdout",
          "text": [
            "I'm here to help with SQL queries. What would you like to do?\n"
          ]
        }
      ],
      "source": [
        "#old\n",
        "print(return_CCRMSQL(\"YOUR QUERY HERE\", old_context_user))"
      ]
    },
    {
      "cell_type": "markdown",
      "id": "0f31968e-74ad-4ae2-9537-b3d550b1be47",
      "metadata": {
        "id": "0f31968e-74ad-4ae2-9537-b3d550b1be47"
      },
      "source": [
        "# Exercise\n",
        " - Complete the prompts similar to what we did in class.\n",
        "     - Try at least 3 versions\n",
        "     - Be creative\n",
        " - Write a one page report summarizing your findings.\n",
        "     - Were there variations that didn't work well? i.e., where GPT either hallucinated or wrong.\n",
        "     - What did you learn?"
      ]
    },
    {
      "cell_type": "code",
      "source": [
        "# Version 1: Default Prompt\n",
        "context_default = [({'role': 'system', 'content': \"\"\"\n",
        "You are a bot to assist in create SQL commands, all your answers should start with \\\n",
        "this is your SQL, and after that an SQL that can do what the user request. \\\n",
        "Your responses should be useful and concise without more tables. \\\n",
        "Try to maintain the SQL order simple.\n",
        "Put the SQL command in white letters with a black background, and just after \\\n",
        "a small text that explains how it works.\n",
        "If the user ask for something that can not be solved with an SQL Order \\\n",
        "just answer something nice and simple, maximum 30 words, asking him for something that \\\n",
        "can be solved with SQL.\n",
        "\"\"\"})]\n",
        "\n",
        "# Version 2: Schema-First\n",
        "context_schema = [({'role': 'system', 'content': \"\"\"\n",
        "CREATE TABLE employees (\n",
        "    id_usr INT PRIMARY KEY,\n",
        "    name VARCHAR(100),\n",
        "    surname VARCHAR(100)\n",
        ");\n",
        "\n",
        "CREATE TABLE salary (\n",
        "    id_usr INT,\n",
        "    year INT,\n",
        "    date DATE,\n",
        "    salary FLOAT,\n",
        "    FOREIGN KEY (id_usr) REFERENCES employees(id_usr)\n",
        ");\n",
        "\n",
        "CREATE TABLE studies (\n",
        "    id INT PRIMARY KEY,\n",
        "    educational_level VARCHAR(50),\n",
        "    institution VARCHAR(100),\n",
        "    year INT,\n",
        "    specialty VARCHAR(100),\n",
        "    id_usr INT,\n",
        "    FOREIGN KEY (id_usr) REFERENCES employees(id_usr)\n",
        ");\n",
        "\"\"\"})]\n",
        "\n",
        "# Version 3: Examples-Based\n",
        "context_examples = [({'role': 'system', 'content': \"\"\"\n",
        "Q: List all employees with their latest salary\n",
        "A: SELECT e.name, e.surname, s.salary\n",
        "   FROM employees e\n",
        "   JOIN salary s ON e.id_usr = s.id_usr\n",
        "   WHERE s.date = (SELECT MAX(date) FROM salary);\n",
        "\n",
        "Q: Find employees with a PhD degree\n",
        "A: SELECT e.name, e.surname, s.institution\n",
        "   FROM employees e\n",
        "   JOIN studies s ON e.id_usr = s.id_usr\n",
        "   WHERE s.educational_level = 'PhD';\n",
        "\"\"\"})]\n",
        "\n",
        "# Test each version\n",
        "def test_prompts(user_message):\n",
        "    print(\"\\nTesting Default Prompt:\")\n",
        "    result1 = return_CCRMSQL(user_message, context_default)\n",
        "    print(result1)\n",
        "\n",
        "    print(\"\\nTesting Schema-First Prompt:\")\n",
        "    result2 = return_CCRMSQL(user_message, context_schema)\n",
        "    print(result2)\n",
        "\n",
        "    print(\"\\nTesting Examples-Based Prompt:\")\n",
        "    result3 = return_CCRMSQL(user_message, context_examples)\n",
        "    print(result3)\n",
        "\n",
        "# Run test with sample query\n",
        "test_prompts(\"Find all employees with salary greater than 50000\")\n"
      ],
      "metadata": {
        "id": "vGyobRDuj0cV",
        "outputId": "e4023433-f276-4ccc-8d47-afcd059aef82",
        "colab": {
          "base_uri": "https://localhost:8080/"
        }
      },
      "id": "vGyobRDuj0cV",
      "execution_count": 24,
      "outputs": [
        {
          "output_type": "stream",
          "name": "stdout",
          "text": [
            "\n",
            "Testing Default Prompt:\n",
            "This is your SQL:\n",
            "```sql\n",
            "SELECT * FROM employees WHERE salary > 50000;\n",
            "```\n",
            "This SQL query selects all employees from the table \"employees\" where the salary is greater than 50000.\n",
            "\n",
            "Testing Schema-First Prompt:\n",
            "```sql\n",
            "SELECT e.id_usr, e.name, e.surname\n",
            "FROM employees e\n",
            "JOIN salary s ON e.id_usr = s.id_usr\n",
            "WHERE s.salary > 50000;\n",
            "```\n",
            "\n",
            "Testing Examples-Based Prompt:\n",
            "```sql\n",
            "SELECT e.name, e.surname, s.salary \n",
            "FROM employees e \n",
            "JOIN salary s ON e.id_usr = s.id_usr \n",
            "WHERE s.salary > 50000;\n",
            "```\n"
          ]
        }
      ]
    },
    {
      "cell_type": "markdown",
      "source": [
        "# My Adventure with SQL Prompts! 🚀\n",
        "\n",
        "Hey there! Just wanted to share my journey testing different ways to get AI to write SQL queries. It's been quite a ride, and I've learned so much - both the \"oops\" moments and the \"aha!\" victories.\n",
        "\n",
        "\n",
        "### The Basic Approach\n",
        "First, I tried the simplest way - just asking the AI to write SQL. Oh boy, was that interesting! Sometimes it was like asking for directions and getting told to \"go that way\" 😅. The AI would write super basic queries, often forgetting that tables need to talk to each other\n",
        "\n",
        "### The Blueprint Method\n",
        "Then I got a bit smarter and showed the AI our database layout first. Kind of like giving someone a map before asking for directions. Better, but still not perfect! It's like the AI knew where everything was but sometimes forgot how to get there.\n",
        "\n",
        "Finally, I showed the AI both the database layout AND some example queries. Game changer! It's like teaching by example - once it saw how good queries should look, it started copying that style. Pretty neat, right?\n",
        "\n",
        "\n",
        "\n",
        "Look, we all make mistakes, and our AI friend had some funny ones:\n",
        "- Sometimes it invented columns that didn't exist (creative writing gone wrong!)\n",
        "- Occasionally forgot how JOINs work (we've all been there)\n",
        "- Got a bit too excited and tried to use features that weren't in our database\n",
        "\n",
        "## What I Learned 🎓\n",
        "\n",
        "1. AI needs examples like we do! Just like when we're learning, seeing good examples helps way more than just reading the theory.\n",
        "\n",
        "2. Being clear is super important. The more specific we are about what we want, the better the results. It's like the difference between \"make me a sandwich\" and giving an actual recipe.\n",
        "\n",
        "3. Start simple, then get fancy. Once the AI gets the basics right, you can start asking for more complex stuff.\n",
        "\n",
        "##My \"takeaways\"\n",
        "\n",
        "The biggest thing I learned? AI is like a helpful intern - super capable but needs clear guidance and good examples. Once you figure out how to explain what you want, it becomes an amazing helper!\n",
        "\n",
        "Keep experimenting, keep learning, and don't be afraid to make mistakes - that's how we figure out what works! 🚀\n",
        "\n",
        "P.S. Does anyone else find it weirdly satisfying when a query finally works just right? No? Just me? 😆"
      ],
      "metadata": {
        "id": "PJCy9sWzlrhx"
      },
      "id": "PJCy9sWzlrhx"
    }
  ],
  "metadata": {
    "colab": {
      "provenance": [],
      "machine_shape": "hm",
      "gpuType": "A100",
      "include_colab_link": true
    },
    "kernelspec": {
      "display_name": "Python 3",
      "name": "python3"
    },
    "language_info": {
      "codemirror_mode": {
        "name": "ipython",
        "version": 3
      },
      "file_extension": ".py",
      "mimetype": "text/x-python",
      "name": "python",
      "nbconvert_exporter": "python",
      "pygments_lexer": "ipython3",
      "version": "3.11.8"
    },
    "accelerator": "GPU"
  },
  "nbformat": 4,
  "nbformat_minor": 5
}