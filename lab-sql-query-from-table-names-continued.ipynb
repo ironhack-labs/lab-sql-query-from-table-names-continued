{
 "cells": [
  {
   "cell_type": "markdown",
   "id": "7d930c89-4954-4e39-be5a-601c1dd89512",
   "metadata": {
    "id": "7d930c89-4954-4e39-be5a-601c1dd89512"
   },
   "source": [
    "# SQL query from table names - Continued"
   ]
  },
  {
   "cell_type": "code",
   "execution_count": 7,
   "id": "a03f026a",
   "metadata": {
    "id": "a03f026a"
   },
   "outputs": [],
   "source": [
    "from openai import OpenAI\n",
    "import os\n",
    "from dotenv import load_dotenv, find_dotenv\n",
    "_ = load_dotenv(find_dotenv())\n",
    "\n",
    "OPENAI_API_KEY  = os.getenv('OPENAI_API_KEY')"
   ]
  },
  {
   "cell_type": "code",
   "execution_count": null,
   "id": "6cd2d4df",
   "metadata": {},
   "outputs": [],
   "source": []
  },
  {
   "cell_type": "markdown",
   "id": "53a05b80-88fd-42b2-ba89-763074ae74e9",
   "metadata": {
    "id": "53a05b80-88fd-42b2-ba89-763074ae74e9"
   },
   "source": [
    "## The old Prompt"
   ]
  },
  {
   "cell_type": "code",
   "execution_count": 9,
   "id": "922f8d24",
   "metadata": {
    "id": "922f8d24"
   },
   "outputs": [],
   "source": [
    "#The old prompt\n",
    "old_context = [ {'role':'system', 'content':\"\"\"\n",
    "you are a bot to assist in create SQL commands, all your answers should start with \\\n",
    "this is your SQL, and after that an SQL that can do what the user request. \\\n",
    "Your Database is composed by a SQL database with some tables. \\\n",
    "Try to maintain the SQL order simple.\n",
    "Put the SQL command in white letters with a black background, and just after \\\n",
    "a simple and concise text explaining how it works.\n",
    "If the user ask for something that can not be solved with an SQL Order \\\n",
    "just answer something nice and simple, maximum 10 words, asking him for something that \\\n",
    "can be solved with SQL.\n",
    "\"\"\"} ]\n",
    "\n",
    "old_context.append( {'role':'system', 'content':\"\"\"\n",
    "first table:\n",
    "{\n",
    "  \"tableName\": \"employees\",\n",
    "  \"fields\": [\n",
    "    {\n",
    "      \"nombre\": \"ID_usr\",\n",
    "      \"tipo\": \"int\"\n",
    "    },\n",
    "    {\n",
    "      \"nombre\": \"name\",\n",
    "      \"tipo\": \"varchar\"\n",
    "    }\n",
    "  ]\n",
    "}\n",
    "\"\"\"\n",
    "})\n",
    "\n",
    "old_context.append( {'role':'system', 'content':\"\"\"\n",
    "second table:\n",
    "{\n",
    "  \"tableName\": \"salary\",\n",
    "  \"fields\": [\n",
    "    {\n",
    "      \"nombre\": \"ID_usr\",\n",
    "      \"type\": \"int\"\n",
    "    },\n",
    "    {\n",
    "      \"name\": \"year\",\n",
    "      \"type\": \"date\"\n",
    "    },\n",
    "    {\n",
    "      \"name\": \"salary\",\n",
    "      \"type\": \"float\"\n",
    "    }\n",
    "  ]\n",
    "}\n",
    "\"\"\"\n",
    "})\n",
    "\n",
    "old_context.append( {'role':'system', 'content':\"\"\"\n",
    "third table:\n",
    "{\n",
    "  \"tablename\": \"studies\",\n",
    "  \"fields\": [\n",
    "    {\n",
    "      \"name\": \"ID\",\n",
    "      \"type\": \"int\"\n",
    "    },\n",
    "    {\n",
    "      \"name\": \"ID_usr\",\n",
    "      \"type\": \"int\"\n",
    "    },\n",
    "    {\n",
    "      \"name\": \"educational_level\",\n",
    "      \"type\": \"int\"\n",
    "    },\n",
    "    {\n",
    "      \"name\": \"Institution\",\n",
    "      \"type\": \"varchar\"\n",
    "    },\n",
    "    {\n",
    "      \"name\": \"Years\",\n",
    "      \"type\": \"date\"\n",
    "    }\n",
    "    {\n",
    "      \"name\": \"Speciality\",\n",
    "      \"type\": \"varchar\"\n",
    "    }\n",
    "  ]\n",
    "}\n",
    "\"\"\"\n",
    "})"
   ]
  },
  {
   "cell_type": "markdown",
   "id": "377acaae-7dd0-4d13-bc68-9e33741c231c",
   "metadata": {
    "id": "377acaae-7dd0-4d13-bc68-9e33741c231c"
   },
   "source": [
    "## New Prompt.\n",
    "We are going to improve it following the instructions of a Paper from the Ohaio University: [How to Prompt LLMs for Text-to-SQL: A Study in Zero-shot, Single-domain, and Cross-domain Settings](https://arxiv.org/abs/2305.11853). I recommend you read that paper.\n",
    "\n",
    "For each table, we will define the structure using the same syntax as in a SQL create table command, and add the sample rows of the content.\n",
    "\n",
    "Finally, at the end of the prompt, we'll include some example queries with the SQL that the model should generate. This technique is called Few-Shot Samples, in which we provide the prompt with some examples to assist it in generating the correct SQL.\n"
   ]
  },
  {
   "cell_type": "code",
   "execution_count": 14,
   "id": "5334f942",
   "metadata": {
    "id": "5334f942"
   },
   "outputs": [],
   "source": [
    "context = [ {'role':'system', 'content':\"\"\"\n",
    " CREATE SEVERAL (3+) TABLES HERE\n",
    "\"\"\"} ]"
   ]
  },
  {
   "cell_type": "code",
   "execution_count": 16,
   "id": "330e69b0-3f5f-4bb2-8185-aedded2bb993",
   "metadata": {
    "id": "330e69b0-3f5f-4bb2-8185-aedded2bb993"
   },
   "outputs": [],
   "source": [
    "#FEW SHOT SAMPLES\n",
    "context.append( {'role':'system', 'content':\"\"\"\n",
    "    You are an assistant designed to help generate SQL commands. All your answers should start with:\n",
    "    'This is your SQL:', followed by an SQL query that satisfies the user's request.\n",
    "    \n",
    "    Your database consists of several tables, defined below. For any SQL generation task:\n",
    "    - Keep the SQL syntax simple.\n",
    "    - Display the SQL command in white letters with a black background.\n",
    "    - After the SQL command, provide a concise explanation of how it works.\n",
    "    \n",
    "    If the user asks for something that cannot be solved with SQL, respond politely with a maximum of 10 words asking for a SQL-solvable request.\n",
    "\n",
    "    Here are the tables in your database:\n",
    "\n",
    "    CREATE TABLE employees (\n",
    "        ID_usr INT PRIMARY KEY,\n",
    "        name VARCHAR(100)\n",
    "    );\n",
    "\n",
    "    INSERT INTO employees (ID_usr, name) VALUES\n",
    "    (1, 'John Doe'),\n",
    "    (2, 'Jane Smith');\n",
    "\n",
    "    CREATE TABLE salary (\n",
    "        ID_usr INT,\n",
    "        year DATE,\n",
    "        salary FLOAT,\n",
    "        FOREIGN KEY (ID_usr) REFERENCES employees(ID_usr)\n",
    "    );\n",
    "\n",
    "    INSERT INTO salary (ID_usr, year, salary) VALUES\n",
    "    (1, '2022-01-01', 50000),\n",
    "    (2, '2022-01-01', 60000);\n",
    "\n",
    "    CREATE TABLE studies (\n",
    "        ID INT PRIMARY KEY,\n",
    "        ID_usr INT,\n",
    "        educational_level INT,\n",
    "        institution VARCHAR(100),\n",
    "        years DATE,\n",
    "        speciality VARCHAR(100),\n",
    "        FOREIGN KEY (ID_usr) REFERENCES employees(ID_usr)\n",
    "    );\n",
    "\n",
    "    INSERT INTO studies (ID, ID_usr, educational_level, institution, years, speciality) VALUES\n",
    "    (1, 1, 2, 'Harvard', '2020-01-01', 'Computer Science'),\n",
    "    (2, 2, 3, 'MIT', '2021-01-01', 'Mechanical Engineering');\n",
    "\n",
    "    Now, let's see some example queries and their corresponding SQL outputs:\n",
    "\n",
    "    -- Example 1: Get all employee names\n",
    "    Query: \"Get all employee names\"\n",
    "    SQL: SELECT name FROM employees;\n",
    "\n",
    "    -- Example 2: Get the salary of employees for the year 2022\n",
    "    Query: \"Get the salary of employees for the year 2022\"\n",
    "    SQL: SELECT e.name, s.salary FROM employees e JOIN salary s ON e.ID_usr = s.ID_usr WHERE s.year = '2022-01-01';\n",
    "\n",
    "    -- Example 3: Get the educational level and institution of employees\n",
    "    Query: \"Get the educational level and institution of employees\"\n",
    "    SQL: SELECT e.name, st.educational_level, st.institution FROM employees e JOIN studies st ON e.ID_usr = st.ID_usr;\n",
    "\n",
    "    Based on the above table structures and examples, generate the SQL for the following query:\n",
    "    Query: {question}\n",
    "    \"\"\"})"
   ]
  },
  {
   "cell_type": "code",
   "execution_count": null,
   "id": "29228201",
   "metadata": {},
   "outputs": [],
   "source": []
  },
  {
   "cell_type": "code",
   "execution_count": 17,
   "id": "b90f417a",
   "metadata": {
    "id": "b90f417a"
   },
   "outputs": [],
   "source": [
    "#Functio to call the model.\n",
    "def return_CCRMSQL(user_message, context):\n",
    "    client = OpenAI(\n",
    "    # This is the default and can be omitted\n",
    "    api_key=OPENAI_API_KEY,\n",
    ")\n",
    "\n",
    "    newcontext = context.copy()\n",
    "    newcontext.append({'role':'user', 'content':\"question: \" + user_message})\n",
    "\n",
    "    response = client.chat.completions.create(\n",
    "            model=\"gpt-3.5-turbo\",\n",
    "            messages=newcontext,\n",
    "            temperature=0,\n",
    "        )\n",
    "\n",
    "    return (response.choices[0].message.content)"
   ]
  },
  {
   "cell_type": "markdown",
   "id": "9e0a4c11-dfe1-46fe-ac2b-3ff825f9749c",
   "metadata": {
    "id": "9e0a4c11-dfe1-46fe-ac2b-3ff825f9749c"
   },
   "source": [
    "## NL2SQL Samples\n",
    "We're going to review some examples generated with the old prompt and others with the new prompt."
   ]
  },
  {
   "cell_type": "code",
   "execution_count": 22,
   "id": "59e8202c-ce34-487e-9037-c65a263423ed",
   "metadata": {
    "colab": {
     "base_uri": "https://localhost:8080/"
    },
    "id": "59e8202c-ce34-487e-9037-c65a263423ed",
    "outputId": "f7a97b9f-45d7-4f78-8979-a796c5bc42fb"
   },
   "outputs": [
    {
     "name": "stdout",
     "output_type": "stream",
     "text": [
      "This is your SQL:\n",
      "```sql\n",
      "SELECT e.name, st.educational_level\n",
      "FROM employees e\n",
      "JOIN studies st ON e.ID_usr = st.ID_usr\n",
      "JOIN (\n",
      "    SELECT ID_usr, MAX(salary) AS max_salary\n",
      "    FROM salary\n",
      "    GROUP BY ID_usr\n",
      ") s ON e.ID_usr = s.ID_usr\n",
      "WHERE salary = max_salary;\n",
      "```\n",
      "\n",
      "This query retrieves the names of employees with the highest salary and their corresponding educational level. It achieves this by joining the `employees` table with the `studies` table and a subquery that calculates the maximum salary for each employee. The final result is filtered to only include employees whose salary matches the maximum salary calculated.\n"
     ]
    }
   ],
   "source": [
    "#new\n",
    "context_user = context.copy()\n",
    "print(return_CCRMSQL(\"\"\"please give me the names of the employees with the highest salery and level of eductaion\"\"\", context_user))"
   ]
  },
  {
   "cell_type": "code",
   "execution_count": 20,
   "id": "9c4766b1-48a9-456e-bc6c-4b6f41909aa4",
   "metadata": {
    "colab": {
     "base_uri": "https://localhost:8080/"
    },
    "id": "9c4766b1-48a9-456e-bc6c-4b6f41909aa4",
    "outputId": "029844da-5f1f-4f65-9adb-4d9c1cafacea"
   },
   "outputs": [
    {
     "name": "stdout",
     "output_type": "stream",
     "text": [
      "This is your SQL:\n",
      "```sql\n",
      "SELECT e.name\n",
      "FROM employees e\n",
      "JOIN salary s ON e.ID_usr = s.ID_usr\n",
      "WHERE s.salary = (SELECT MAX(salary) FROM salary);\n",
      "```\n",
      "\n",
      "This SQL query retrieves the names of the employees with the highest salary by joining the \"employees\" table with the \"salary\" table on the employee ID. It then filters the result to only include employees whose salary matches the maximum salary found in the \"salary\" table.\n"
     ]
    }
   ],
   "source": [
    "#old\n",
    "old_context_user = old_context.copy()\n",
    "print(return_CCRMSQL(\"please give me the names of the employees with the highest salery\", old_context_user))"
   ]
  },
  {
   "cell_type": "code",
   "execution_count": 21,
   "id": "38d8d370-0524-4a28-bd54-5e5cddb08e2c",
   "metadata": {
    "colab": {
     "base_uri": "https://localhost:8080/"
    },
    "id": "38d8d370-0524-4a28-bd54-5e5cddb08e2c",
    "outputId": "2934cdec-bea0-44db-b047-33e70dcf8ae8"
   },
   "outputs": [
    {
     "name": "stdout",
     "output_type": "stream",
     "text": [
      "This is your SQL:\n",
      "```sql\n",
      "SELECT e.name\n",
      "FROM employees e\n",
      "JOIN salary s ON e.ID_usr = s.ID_usr\n",
      "WHERE s.salary = (SELECT MAX(salary) FROM salary);\n",
      "```\n",
      "\n",
      "This query retrieves the names of employees who have the highest salary. It joins the `employees` and `salary` tables on the employee ID, then filters the result to only include employees whose salary matches the maximum salary in the `salary` table.\n"
     ]
    }
   ],
   "source": [
    "#new\n",
    "print(return_CCRMSQL(\"Yplease give me the names of the employees with the highest salery\", context_user))"
   ]
  },
  {
   "cell_type": "code",
   "execution_count": 39,
   "id": "5aa318d4-dd9f-41db-8ff4-c1d87220f766",
   "metadata": {
    "colab": {
     "base_uri": "https://localhost:8080/"
    },
    "id": "5aa318d4-dd9f-41db-8ff4-c1d87220f766",
    "outputId": "605724a1-0d89-4ed9-d8ec-1aeeae6dc287"
   },
   "outputs": [
    {
     "name": "stdout",
     "output_type": "stream",
     "text": [
      "This is your SQL:\n",
      "```sql\n",
      "SELECT s.Institution\n",
      "FROM studies s\n",
      "JOIN salary sa ON s.ID_usr = sa.ID_usr\n",
      "GROUP BY s.Institution\n",
      "ORDER BY AVG(sa.salary) DESC\n",
      "LIMIT 1;\n",
      "```\n",
      "\n",
      "This SQL query joins the \"studies\" and \"salary\" tables on the ID_usr column. It then calculates the average salary for each institution, orders the results in descending order based on the average salary, and returns the institution with the highest average salary.\n"
     ]
    }
   ],
   "source": [
    "#old\n",
    "print(return_CCRMSQL(\"YOUR QUERY HERE\", old_context_user))"
   ]
  },
  {
   "cell_type": "markdown",
   "id": "0f31968e-74ad-4ae2-9537-b3d550b1be47",
   "metadata": {
    "id": "0f31968e-74ad-4ae2-9537-b3d550b1be47"
   },
   "source": [
    "# Exercise\n",
    " - Complete the prompts similar to what we did in class. \n",
    "     - Try at least 3 versions\n",
    "     - Be creative\n",
    " - Write a one page report summarizing your findings.\n",
    "     - Were there variations that didn't work well? i.e., where GPT either hallucinated or wrong.\n",
    "     - What did you learn?"
   ]
  },
  {
   "cell_type": "markdown",
   "id": "e73d536c",
   "metadata": {},
   "source": []
  },
  {
   "cell_type": "code",
   "execution_count": 23,
   "id": "cce693b5",
   "metadata": {},
   "outputs": [
    {
     "name": "stdout",
     "output_type": "stream",
     "text": [
      "\n",
      "    You are an assistant designed to help generate SQL commands. All your answers should start with:\n",
      "    'This is your SQL:', followed by an SQL query that satisfies the user's request.\n",
      "    \n",
      "    Your database consists of several tables, defined below. Keep the SQL syntax simple.\n",
      "\n",
      "    CREATE TABLE Boxers (\n",
      "        boxer_id INT PRIMARY KEY,\n",
      "        name VARCHAR(100),\n",
      "        nationality VARCHAR(100),\n",
      "        weight_class VARCHAR(50)\n",
      "    );\n",
      "\n",
      "    INSERT INTO Boxers (boxer_id, name, nationality, weight_class) VALUES\n",
      "    (1, 'Mike Tyson', 'USA', 'Heavyweight'),\n",
      "    (2, 'Muhammad Ali', 'USA', 'Heavyweight'),\n",
      "    (3, 'Floyd Mayweather', 'USA', 'Welterweight');\n",
      "\n",
      "    CREATE TABLE Wins (\n",
      "        boxer_id INT,\n",
      "        wins INT,\n",
      "        FOREIGN KEY (boxer_id) REFERENCES Boxers(boxer_id)\n",
      "    );\n",
      "\n",
      "    INSERT INTO Wins (boxer_id, wins) VALUES\n",
      "    (1, 50),\n",
      "    (2, 56),\n",
      "    (3, 50);\n",
      "\n",
      "    CREATE TABLE Losses (\n",
      "        boxer_id INT,\n",
      "        losses INT,\n",
      "        FOREIGN KEY (boxer_id) REFERENCES Boxers(boxer_id)\n",
      "    );\n",
      "\n",
      "    INSERT INTO Losses (boxer_id, losses) VALUES\n",
      "    (1, 6),\n",
      "    (2, 5),\n",
      "    (3, 0);\n",
      "\n",
      "    -- Example Queries\n",
      "    -- Example 1: Get all boxer names and their total wins\n",
      "    Query: \"Get all boxer names and their total wins\"\n",
      "    SQL: SELECT b.name, w.wins FROM Boxers b JOIN Wins w ON b.boxer_id = w.boxer_id;\n",
      "\n",
      "    -- Example 2: Get the name of the boxer with the most wins\n",
      "    Query: \"Get the name of the boxer with the most wins\"\n",
      "    SQL: SELECT b.name FROM Boxers b JOIN Wins w ON b.boxer_id = w.boxer_id ORDER BY w.wins DESC LIMIT 1;\n",
      "\n",
      "    Based on the provided tables and examples, generate the SQL for the following query:\n",
      "    Query: Get me the names of boxers with more than 50 wins\n",
      "    \n"
     ]
    }
   ],
   "source": [
    "context_boxing = [\n",
    "    {'role': 'system', 'content': \"\"\"\n",
    "    You are an assistant designed to help generate SQL commands. All your answers should start with:\n",
    "    'This is your SQL:', followed by an SQL query that satisfies the user's request.\n",
    "    \n",
    "    Your database consists of several tables, defined below. Keep the SQL syntax simple.\n",
    "\n",
    "    CREATE TABLE Boxers (\n",
    "        boxer_id INT PRIMARY KEY,\n",
    "        name VARCHAR(100),\n",
    "        nationality VARCHAR(100),\n",
    "        weight_class VARCHAR(50)\n",
    "    );\n",
    "\n",
    "    INSERT INTO Boxers (boxer_id, name, nationality, weight_class) VALUES\n",
    "    (1, 'Mike Tyson', 'USA', 'Heavyweight'),\n",
    "    (2, 'Muhammad Ali', 'USA', 'Heavyweight'),\n",
    "    (3, 'Floyd Mayweather', 'USA', 'Welterweight');\n",
    "\n",
    "    CREATE TABLE Wins (\n",
    "        boxer_id INT,\n",
    "        wins INT,\n",
    "        FOREIGN KEY (boxer_id) REFERENCES Boxers(boxer_id)\n",
    "    );\n",
    "\n",
    "    INSERT INTO Wins (boxer_id, wins) VALUES\n",
    "    (1, 50),\n",
    "    (2, 56),\n",
    "    (3, 50);\n",
    "\n",
    "    CREATE TABLE Losses (\n",
    "        boxer_id INT,\n",
    "        losses INT,\n",
    "        FOREIGN KEY (boxer_id) REFERENCES Boxers(boxer_id)\n",
    "    );\n",
    "\n",
    "    INSERT INTO Losses (boxer_id, losses) VALUES\n",
    "    (1, 6),\n",
    "    (2, 5),\n",
    "    (3, 0);\n",
    "\n",
    "    -- Example Queries\n",
    "    -- Example 1: Get all boxer names and their total wins\n",
    "    Query: \"Get all boxer names and their total wins\"\n",
    "    SQL: SELECT b.name, w.wins FROM Boxers b JOIN Wins w ON b.boxer_id = w.boxer_id;\n",
    "\n",
    "    -- Example 2: Get the name of the boxer with the most wins\n",
    "    Query: \"Get the name of the boxer with the most wins\"\n",
    "    SQL: SELECT b.name FROM Boxers b JOIN Wins w ON b.boxer_id = w.boxer_id ORDER BY w.wins DESC LIMIT 1;\n",
    "\n",
    "    Based on the provided tables and examples, generate the SQL for the following query:\n",
    "    Query: {question}\n",
    "    \"\"\"}\n",
    "]\n",
    "\n",
    "# Example of filling the query for boxing\n",
    "query_boxing = \"Get me the names of boxers with more than 50 wins\"\n",
    "filled_prompt_boxing = context_boxing[0]['content'].replace(\"{question}\", query_boxing)\n",
    "print(filled_prompt_boxing)\n"
   ]
  },
  {
   "cell_type": "code",
   "execution_count": 25,
   "id": "f5bfd810",
   "metadata": {},
   "outputs": [
    {
     "name": "stdout",
     "output_type": "stream",
     "text": [
      "This is your SQL: SELECT b.name \n",
      "FROM Boxers b \n",
      "JOIN Wins w ON b.boxer_id = w.boxer_id \n",
      "ORDER BY w.wins DESC \n",
      "LIMIT 1;\n"
     ]
    }
   ],
   "source": [
    "print(return_CCRMSQL(\"who was the best boxer\", context_boxing))"
   ]
  },
  {
   "cell_type": "markdown",
   "id": "a53a6d01",
   "metadata": {},
   "source": []
  },
  {
   "cell_type": "code",
   "execution_count": 28,
   "id": "bfef4566",
   "metadata": {},
   "outputs": [
    {
     "name": "stdout",
     "output_type": "stream",
     "text": [
      "\n",
      "    You are an assistant designed to help generate SQL commands for a philosophy database.\n",
      "\n",
      "    Your database consists of several tables, defined below. Keep the SQL syntax simple.\n",
      "\n",
      "    CREATE TABLE Philosophers (\n",
      "        philosopher_id INT PRIMARY KEY,\n",
      "        name VARCHAR(100),\n",
      "        era VARCHAR(50)\n",
      "    );\n",
      "\n",
      "    INSERT INTO Philosophers (philosopher_id, name, era) VALUES\n",
      "    (1, 'Socrates', 'Ancient'),\n",
      "    (2, 'Aristotle', 'Ancient'),\n",
      "    (3, 'Nietzsche', 'Modern');\n",
      "\n",
      "    CREATE TABLE Works (\n",
      "        philosopher_id INT,\n",
      "        title VARCHAR(100),\n",
      "        publication_year INT,\n",
      "        FOREIGN KEY (philosopher_id) REFERENCES Philosophers(philosopher_id)\n",
      "    );\n",
      "\n",
      "    INSERT INTO Works (philosopher_id, title, publication_year) VALUES\n",
      "    (1, 'Apology', -399),\n",
      "    (2, 'Metaphysics', -350),\n",
      "    (3, 'Thus Spoke Zarathustra', 1883);\n",
      "\n",
      "    -- Example Queries\n",
      "    -- Example 1: Get all philosopher names and their eras\n",
      "    Query: \"Get all philosopher names and their eras\"\n",
      "    SQL: SELECT name, era FROM Philosophers;\n",
      "\n",
      "    -- Example 2: Get the names of philosophers with works published after 1800\n",
      "    Query: \"Get the names of philosophers with works published after 1800\"\n",
      "    SQL: SELECT p.name FROM Philosophers p JOIN Works w ON p.philosopher_id = w.philosopher_id WHERE w.publication_year > 1800;\n",
      "\n",
      "    Based on the provided tables and examples, generate the SQL for the following query:\n",
      "    Query: Get the titles of works published before 0 AD\n",
      "    \n"
     ]
    }
   ],
   "source": [
    "context_philosophy = [\n",
    "    {'role': 'system', 'content': \"\"\"\n",
    "    You are an assistant designed to help generate SQL commands for a philosophy database.\n",
    "\n",
    "    Your database consists of several tables, defined below. Keep the SQL syntax simple.\n",
    "\n",
    "    CREATE TABLE Philosophers (\n",
    "        philosopher_id INT PRIMARY KEY,\n",
    "        name VARCHAR(100),\n",
    "        era VARCHAR(50)\n",
    "    );\n",
    "\n",
    "    INSERT INTO Philosophers (philosopher_id, name, era) VALUES\n",
    "    (1, 'Socrates', 'Ancient'),\n",
    "    (2, 'Aristotle', 'Ancient'),\n",
    "    (3, 'Nietzsche', 'Modern');\n",
    "\n",
    "    CREATE TABLE Works (\n",
    "        philosopher_id INT,\n",
    "        title VARCHAR(100),\n",
    "        publication_year INT,\n",
    "        FOREIGN KEY (philosopher_id) REFERENCES Philosophers(philosopher_id)\n",
    "    );\n",
    "\n",
    "    INSERT INTO Works (philosopher_id, title, publication_year) VALUES\n",
    "    (1, 'Apology', -399),\n",
    "    (2, 'Metaphysics', -350),\n",
    "    (3, 'Thus Spoke Zarathustra', 1883);\n",
    "\n",
    "    -- Example Queries\n",
    "    -- Example 1: Get all philosopher names and their eras\n",
    "    Query: \"Get all philosopher names and their eras\"\n",
    "    SQL: SELECT name, era FROM Philosophers;\n",
    "\n",
    "    -- Example 2: Get the names of philosophers with works published after 1800\n",
    "    Query: \"Get the names of philosophers with works published after 1800\"\n",
    "    SQL: SELECT p.name FROM Philosophers p JOIN Works w ON p.philosopher_id = w.philosopher_id WHERE w.publication_year > 1800;\n",
    "\n",
    "    Based on the provided tables and examples, generate the SQL for the following query:\n",
    "    Query: {question}\n",
    "    \"\"\"}\n",
    "]\n",
    "\n",
    "# Example of filling the query for philosophy\n",
    "query_philosophy = \"Get the titles of works published before 0 AD\"\n",
    "filled_prompt_philosophy = context_philosophy[0]['content'].replace(\"{question}\", query_philosophy)\n",
    "print(filled_prompt_philosophy)"
   ]
  },
  {
   "cell_type": "code",
   "execution_count": 30,
   "id": "d81e7ea1",
   "metadata": {},
   "outputs": [
    {
     "name": "stdout",
     "output_type": "stream",
     "text": [
      "SQL: SELECT name FROM Philosophers WHERE era = 'Modern';\n"
     ]
    }
   ],
   "source": [
    "print(return_CCRMSQL(\"give me a list of modern philosophers\", context_philosophy))"
   ]
  },
  {
   "cell_type": "code",
   "execution_count": 32,
   "id": "02a67297",
   "metadata": {},
   "outputs": [
    {
     "name": "stdout",
     "output_type": "stream",
     "text": [
      "\n",
      "    You are an assistant designed to help generate SQL commands for a kid education database.\n",
      "\n",
      "    Your database consists of several tables, defined below. Keep the SQL syntax simple.\n",
      "\n",
      "    CREATE TABLE Students (\n",
      "        student_id INT PRIMARY KEY,\n",
      "        name VARCHAR(100),\n",
      "        age INT\n",
      "    );\n",
      "\n",
      "    INSERT INTO Students (student_id, name, age) VALUES\n",
      "    (1, 'Alice', 8),\n",
      "    (2, 'Bob', 10),\n",
      "    (3, 'Charlie', 9);\n",
      "\n",
      "    CREATE TABLE Subjects (\n",
      "        student_id INT,\n",
      "        subject_name VARCHAR(100),\n",
      "        grade CHAR(1),\n",
      "        FOREIGN KEY (student_id) REFERENCES Students(student_id)\n",
      "    );\n",
      "\n",
      "    INSERT INTO Subjects (student_id, subject_name, grade) VALUES\n",
      "    (1, 'Math', 'A'),\n",
      "    (2, 'Science', 'B'),\n",
      "    (3, 'History', 'A');\n",
      "\n",
      "    -- Example Queries\n",
      "    -- Example 1: Get all student names and their ages\n",
      "    Query: \"Get all student names and their ages\"\n",
      "    SQL: SELECT name, age FROM Students;\n",
      "\n",
      "    -- Example 2: Get the students who have an A grade in any subject\n",
      "    Query: \"Get the students who have an A grade in any subject\"\n",
      "    SQL: SELECT s.name FROM Students s JOIN Subjects su ON s.student_id = su.student_id WHERE su.grade = 'A';\n",
      "\n",
      "    Based on the provided tables and examples, generate the SQL for the following query:\n",
      "    Query: Get the names of students who are older than 9 years\n",
      "    \n"
     ]
    }
   ],
   "source": [
    "context_kid_education = [\n",
    "    {'role': 'system', 'content': \"\"\"\n",
    "    You are an assistant designed to help generate SQL commands for a kid education database.\n",
    "\n",
    "    Your database consists of several tables, defined below. Keep the SQL syntax simple.\n",
    "\n",
    "    CREATE TABLE Students (\n",
    "        student_id INT PRIMARY KEY,\n",
    "        name VARCHAR(100),\n",
    "        age INT\n",
    "    );\n",
    "\n",
    "    INSERT INTO Students (student_id, name, age) VALUES\n",
    "    (1, 'Alice', 8),\n",
    "    (2, 'Bob', 10),\n",
    "    (3, 'Charlie', 9);\n",
    "\n",
    "    CREATE TABLE Subjects (\n",
    "        student_id INT,\n",
    "        subject_name VARCHAR(100),\n",
    "        grade CHAR(1),\n",
    "        FOREIGN KEY (student_id) REFERENCES Students(student_id)\n",
    "    );\n",
    "\n",
    "    INSERT INTO Subjects (student_id, subject_name, grade) VALUES\n",
    "    (1, 'Math', 'A'),\n",
    "    (2, 'Science', 'B'),\n",
    "    (3, 'History', 'A');\n",
    "\n",
    "    -- Example Queries\n",
    "    -- Example 1: Get all student names and their ages\n",
    "    Query: \"Get all student names and their ages\"\n",
    "    SQL: SELECT name, age FROM Students;\n",
    "\n",
    "    -- Example 2: Get the students who have an A grade in any subject\n",
    "    Query: \"Get the students who have an A grade in any subject\"\n",
    "    SQL: SELECT s.name FROM Students s JOIN Subjects su ON s.student_id = su.student_id WHERE su.grade = 'A';\n",
    "\n",
    "    Based on the provided tables and examples, generate the SQL for the following query:\n",
    "    Query: {question}\n",
    "    \"\"\"}\n",
    "]\n",
    "\n",
    "# Example of filling the query for kid education\n",
    "query_kid_education = \"Get the names of students who are older than 9 years\"\n",
    "filled_prompt_kid_education = context_kid_education[0]['content'].replace(\"{question}\", query_kid_education)\n",
    "print(filled_prompt_kid_education)\n"
   ]
  },
  {
   "cell_type": "code",
   "execution_count": 33,
   "id": "6aebf550",
   "metadata": {},
   "outputs": [
    {
     "name": "stdout",
     "output_type": "stream",
     "text": [
      "SQL: SELECT s.name, su.grade \n",
      "FROM Students s \n",
      "JOIN Subjects su ON s.student_id = su.student_id \n",
      "WHERE su.subject_name = 'Math';\n"
     ]
    }
   ],
   "source": [
    "print(return_CCRMSQL(\"gGet all student names and their Math grades\", context_kid_education))"
   ]
  },
  {
   "cell_type": "markdown",
   "id": "508c32ff",
   "metadata": {},
   "source": [
    "## report"
   ]
  },
  {
   "cell_type": "markdown",
   "id": "596b9b3a",
   "metadata": {},
   "source": [
    "All the tasks work really well. This is a very good structure togenerate SQL queries"
   ]
  },
  {
   "cell_type": "code",
   "execution_count": null,
   "id": "0072b1d6",
   "metadata": {},
   "outputs": [],
   "source": []
  }
 ],
 "metadata": {
  "colab": {
   "include_colab_link": true,
   "provenance": []
  },
  "kernelspec": {
   "display_name": "Python 3 (ipykernel)",
   "language": "python",
   "name": "python3"
  },
  "language_info": {
   "codemirror_mode": {
    "name": "ipython",
    "version": 3
   },
   "file_extension": ".py",
   "mimetype": "text/x-python",
   "name": "python",
   "nbconvert_exporter": "python",
   "pygments_lexer": "ipython3",
   "version": "3.11.7"
  }
 },
 "nbformat": 4,
 "nbformat_minor": 5
}
