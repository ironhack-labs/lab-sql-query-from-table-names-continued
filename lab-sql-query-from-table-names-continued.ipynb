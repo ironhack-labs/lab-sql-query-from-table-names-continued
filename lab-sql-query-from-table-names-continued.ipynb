{
 "cells": [
  {
   "cell_type": "markdown",
   "id": "7d930c89-4954-4e39-be5a-601c1dd89512",
   "metadata": {
    "id": "7d930c89-4954-4e39-be5a-601c1dd89512"
   },
   "source": [
    "# SQL query from table names - Continued"
   ]
  },
  {
   "cell_type": "code",
   "execution_count": 10,
   "id": "a03f026a",
   "metadata": {
    "id": "a03f026a"
   },
   "outputs": [],
   "source": [
    "from openai import OpenAI\n",
    "import os\n",
    "from dotenv import load_dotenv, find_dotenv\n",
    "_ = load_dotenv(find_dotenv())\n",
    "\n",
    "OPENAI_API_KEY  = os.getenv('OPENAI_API_KEY')"
   ]
  },
  {
   "cell_type": "markdown",
   "id": "53a05b80-88fd-42b2-ba89-763074ae74e9",
   "metadata": {
    "id": "53a05b80-88fd-42b2-ba89-763074ae74e9"
   },
   "source": [
    "## The old Prompt"
   ]
  },
  {
   "cell_type": "code",
   "execution_count": 11,
   "id": "922f8d24",
   "metadata": {
    "id": "922f8d24"
   },
   "outputs": [],
   "source": [
    "#The old prompt\n",
    "old_context = [ {'role':'system', 'content':\"\"\"\n",
    "you are a bot to assist in create SQL commands, all your answers should start with \\\n",
    "this is your SQL, and after that an SQL that can do what the user request. \\\n",
    "Your Database is composed by a SQL database with some tables. \\\n",
    "Try to maintain the SQL order simple.\n",
    "Put the SQL command in white letters with a black background, and just after \\\n",
    "a simple and concise text explaining how it works.\n",
    "If the user ask for something that can not be solved with an SQL Order \\\n",
    "just answer something nice and simple, maximum 10 words, asking him for something that \\\n",
    "can be solved with SQL.\n",
    "\"\"\"} ]\n",
    "\n",
    "old_context.append( {'role':'system', 'content':\"\"\"\n",
    "first table:\n",
    "{\n",
    "  \"tableName\": \"employees\",\n",
    "  \"fields\": [\n",
    "    {\n",
    "      \"nombre\": \"ID_usr\",\n",
    "      \"tipo\": \"int\"\n",
    "    },\n",
    "    {\n",
    "      \"nombre\": \"name\",\n",
    "      \"tipo\": \"varchar\"\n",
    "    }\n",
    "  ]\n",
    "}\n",
    "\"\"\"\n",
    "})\n",
    "\n",
    "old_context.append( {'role':'system', 'content':\"\"\"\n",
    "second table:\n",
    "{\n",
    "  \"tableName\": \"salary\",\n",
    "  \"fields\": [\n",
    "    {\n",
    "      \"nombre\": \"ID_usr\",\n",
    "      \"type\": \"int\"\n",
    "    },\n",
    "    {\n",
    "      \"name\": \"year\",\n",
    "      \"type\": \"date\"\n",
    "    },\n",
    "    {\n",
    "      \"name\": \"salary\",\n",
    "      \"type\": \"float\"\n",
    "    }\n",
    "  ]\n",
    "}\n",
    "\"\"\"\n",
    "})\n",
    "\n",
    "old_context.append( {'role':'system', 'content':\"\"\"\n",
    "third table:\n",
    "{\n",
    "  \"tablename\": \"studies\",\n",
    "  \"fields\": [\n",
    "    {\n",
    "      \"name\": \"ID\",\n",
    "      \"type\": \"int\"\n",
    "    },\n",
    "    {\n",
    "      \"name\": \"ID_usr\",\n",
    "      \"type\": \"int\"\n",
    "    },\n",
    "    {\n",
    "      \"name\": \"educational_level\",\n",
    "      \"type\": \"int\"\n",
    "    },\n",
    "    {\n",
    "      \"name\": \"Institution\",\n",
    "      \"type\": \"varchar\"\n",
    "    },\n",
    "    { $\n",
    "      \"name\": \"Years\",\n",
    "      \"type\": \"date\"\n",
    "    }\n",
    "    {\n",
    "      \"name\": \"Speciality\",\n",
    "      \"type\": \"varchar\"\n",
    "    }\n",
    "  ]\n",
    "}\n",
    "\"\"\"\n",
    "})"
   ]
  },
  {
   "cell_type": "markdown",
   "id": "377acaae-7dd0-4d13-bc68-9e33741c231c",
   "metadata": {
    "id": "377acaae-7dd0-4d13-bc68-9e33741c231c"
   },
   "source": [
    "## New Prompt.\n",
    "We are going to improve it following the instructions of a Paper from the Ohaio University: [How to Prompt LLMs for Text-to-SQL: A Study in Zero-shot, Single-domain, and Cross-domain Settings](https://arxiv.org/abs/2305.11853). I recommend you read that paper.\n",
    "\n",
    "For each table, we will define the structure using the same syntax as in a SQL create table command, and add the sample rows of the content.\n",
    "\n",
    "Finally, at the end of the prompt, we'll include some example queries with the SQL that the model should generate. This technique is called Few-Shot Samples, in which we provide the prompt with some examples to assist it in generating the correct SQL.\n"
   ]
  },
  {
   "cell_type": "code",
   "execution_count": 12,
   "id": "5334f942",
   "metadata": {
    "id": "5334f942"
   },
   "outputs": [],
   "source": [
    "context = [\n",
    "    {'role': 'system', 'content': \"\"\"\n",
    "### Database Schema:\n",
    "You are tasked with generating SQL queries. The following schema describes the database:\n",
    "\n",
    "CREATE TABLE employees (\n",
    "    ID_usr INT PRIMARY KEY,\n",
    "    name VARCHAR(50)\n",
    ");\n",
    "\n",
    "CREATE TABLE salary (\n",
    "    ID_usr INT,\n",
    "    year DATE,\n",
    "    salary FLOAT,\n",
    "    FOREIGN KEY (ID_usr) REFERENCES employees(ID_usr)\n",
    ");\n",
    "\n",
    "CREATE TABLE studies (\n",
    "    ID INT PRIMARY KEY,\n",
    "    ID_usr INT,\n",
    "    educational_level VARCHAR(50),\n",
    "    institution VARCHAR(100),\n",
    "    years DATE,\n",
    "    speciality VARCHAR(50),\n",
    "    FOREIGN KEY (ID_usr) REFERENCES employees(ID_usr)\n",
    ");\n",
    "\n",
    "### Instructions:\n",
    "1. Generate valid SQL queries using the schema above.\n",
    "2. Always use SQL syntax compatible with SQLite.\n",
    "3. If a query cannot be answered based on the schema, respond with: \"I cannot answer this query based on the provided schema.\"\n",
    "\n",
    "### Examples:\n",
    "\n",
    "Q: \"List all employees and their names.\"\n",
    "SQL: SELECT ID_usr, name FROM employees;\n",
    "\n",
    "Q: \"What is the average salary for each year?\"\n",
    "SQL: SELECT year, AVG(salary) AS average_salary FROM salary GROUP BY year;\n",
    "\n",
    "Q: \"Find employees who studied at 'MIT'.\"\n",
    "SQL: SELECT e.name, s.institution \n",
    "     FROM employees e\n",
    "     JOIN studies s ON e.ID_usr = s.ID_usr\n",
    "     WHERE s.institution = 'MIT';\n",
    "\n",
    "Q: \"Show all employees and their salaries for 2023.\"\n",
    "SQL: SELECT e.name, s.salary \n",
    "     FROM employees e\n",
    "     JOIN salary s ON e.ID_usr = s.ID_usr\n",
    "     WHERE s.year = '2023';\n",
    "\n",
    "Now, provide the SQL query for the given user request.\n",
    "\"\"\"}\n",
    "]"
   ]
  },
  {
   "cell_type": "code",
   "execution_count": 13,
   "id": "330e69b0-3f5f-4bb2-8185-aedded2bb993",
   "metadata": {
    "id": "330e69b0-3f5f-4bb2-8185-aedded2bb993"
   },
   "outputs": [],
   "source": [
    "#FEW SHOT SAMPLES\n",
    "context.append({'role': 'system', 'content': \"\"\"\n",
    "-- Maintain the SQL order simple and efficient as you can, using valid SQL Lite,\n",
    "-- answer the following questions for the table provided above.\n",
    "\n",
    "### Table Definitions:\n",
    "CREATE TABLE employees (\n",
    "    ID_usr INT PRIMARY KEY,\n",
    "    name VARCHAR(50)\n",
    ");\n",
    "\n",
    "CREATE TABLE salary (\n",
    "    ID_usr INT,\n",
    "    year DATE,\n",
    "    salary FLOAT,\n",
    "    FOREIGN KEY (ID_usr) REFERENCES employees(ID_usr)\n",
    ");\n",
    "\n",
    "CREATE TABLE studies (\n",
    "    ID INT PRIMARY KEY,\n",
    "    ID_usr INT,\n",
    "    educational_level VARCHAR(50),\n",
    "    institution VARCHAR(100),\n",
    "    years DATE,\n",
    "    speciality VARCHAR(50),\n",
    "    FOREIGN KEY (ID_usr) REFERENCES employees(ID_usr)\n",
    ");\n",
    "\n",
    "### Few-Shot Examples:\n",
    "\n",
    "Q: \"List all employees and their names.\"\n",
    "SQL: SELECT ID_usr, name FROM employees;\n",
    "\n",
    "Q: \"Find the average salary for each year.\"\n",
    "SQL: SELECT year, AVG(salary) AS average_salary FROM salary GROUP BY year;\n",
    "\n",
    "Q: \"Which employees have studied at 'Harvard University'?\"\n",
    "SQL: SELECT e.name, s.institution\n",
    "     FROM employees e\n",
    "     JOIN studies s ON e.ID_usr = s.ID_usr\n",
    "     WHERE s.institution = 'Harvard University';\n",
    "\n",
    "Q: \"Show all employees and their salaries for 2023.\"\n",
    "SQL: SELECT e.name, s.salary \n",
    "     FROM employees e\n",
    "     JOIN salary s ON e.ID_usr = s.ID_usr\n",
    "     WHERE s.year = '2023';\n",
    "\n",
    "Q: \"How many employees are in the database?\"\n",
    "SQL: SELECT COUNT(*) AS total_employees FROM employees;\n",
    "\n",
    "Q: \"List employees with their salaries and educational levels.\"\n",
    "SQL: SELECT e.name, s.salary, st.educational_level\n",
    "     FROM employees e\n",
    "     LEFT JOIN salary s ON e.ID_usr = s.ID_usr\n",
    "     LEFT JOIN studies st ON e.ID_usr = st.ID_usr;\n",
    "\n",
    "-- Now answer the user's question based on the provided tables and examples above.\n",
    "\"\"\"})"
   ]
  },
  {
   "cell_type": "code",
   "execution_count": 14,
   "id": "b90f417a",
   "metadata": {
    "id": "b90f417a"
   },
   "outputs": [],
   "source": [
    "#Functio to call the model.\n",
    "def return_CCRMSQL(user_message, context):\n",
    "    client = OpenAI(\n",
    "    # This is the default and can be omitted\n",
    "    api_key=OPENAI_API_KEY,\n",
    ")\n",
    "\n",
    "    newcontext = context.copy()\n",
    "    newcontext.append({'role':'user', 'content':\"question: \" + user_message})\n",
    "\n",
    "    response = client.chat.completions.create(\n",
    "            model=\"gpt-3.5-turbo\",\n",
    "            messages=newcontext,\n",
    "            temperature=0,\n",
    "        )\n",
    "\n",
    "    return (response.choices[0].message.content)"
   ]
  },
  {
   "cell_type": "markdown",
   "id": "9e0a4c11-dfe1-46fe-ac2b-3ff825f9749c",
   "metadata": {
    "id": "9e0a4c11-dfe1-46fe-ac2b-3ff825f9749c"
   },
   "source": [
    "## NL2SQL Samples\n",
    "We're going to review some examples generated with the old prompt and others with the new prompt."
   ]
  },
  {
   "cell_type": "code",
   "execution_count": 19,
   "id": "59e8202c-ce34-487e-9037-c65a263423ed",
   "metadata": {
    "colab": {
     "base_uri": "https://localhost:8080/"
    },
    "id": "59e8202c-ce34-487e-9037-c65a263423ed",
    "outputId": "f7a97b9f-45d7-4f78-8979-a796c5bc42fb"
   },
   "outputs": [
    {
     "name": "stdout",
     "output_type": "stream",
     "text": [
      "SQL: \n",
      "SELECT e.name\n",
      "FROM employees e\n",
      "JOIN salary s ON e.ID_usr = s.ID_usr\n",
      "WHERE s.salary > 50000 AND s.year = '2023';\n"
     ]
    }
   ],
   "source": [
    "#new\n",
    "context_user = context.copy()\n",
    "print(return_CCRMSQL(\"Find employees whose salaries are greater than 50,000 in 2023.\", context_user))"
   ]
  },
  {
   "cell_type": "code",
   "execution_count": 24,
   "id": "9c4766b1-48a9-456e-bc6c-4b6f41909aa4",
   "metadata": {
    "colab": {
     "base_uri": "https://localhost:8080/"
    },
    "id": "9c4766b1-48a9-456e-bc6c-4b6f41909aa4",
    "outputId": "029844da-5f1f-4f65-9adb-4d9c1cafacea"
   },
   "outputs": [
    {
     "name": "stdout",
     "output_type": "stream",
     "text": [
      "This is your SQL:\n",
      "```sql\n",
      "SELECT AVG(s.salary) AS average_salary\n",
      "FROM employees e\n",
      "JOIN studies st ON e.ID_usr = st.ID_usr\n",
      "JOIN salary s ON e.ID_usr = s.ID_usr\n",
      "WHERE st.Institution = 'MIT';\n",
      "```\n",
      "\n",
      "This SQL query retrieves the average salary of employees who studied at 'MIT' by joining the employees, studies, and salary tables on the employee ID. It then filters the results to only include employees who studied at 'MIT' and calculates the average salary of those employees.\n"
     ]
    }
   ],
   "source": [
    "#old\n",
    "old_context_user = old_context.copy()\n",
    "print(return_CCRMSQL(\"What is the average salary of employees who studied at ‘MIT’?\", old_context_user))"
   ]
  },
  {
   "cell_type": "code",
   "execution_count": 23,
   "id": "38d8d370-0524-4a28-bd54-5e5cddb08e2c",
   "metadata": {
    "colab": {
     "base_uri": "https://localhost:8080/"
    },
    "id": "38d8d370-0524-4a28-bd54-5e5cddb08e2c",
    "outputId": "2934cdec-bea0-44db-b047-33e70dcf8ae8"
   },
   "outputs": [
    {
     "name": "stdout",
     "output_type": "stream",
     "text": [
      "SQL: \n",
      "SELECT AVG(s.salary) AS average_salary\n",
      "FROM employees e\n",
      "JOIN studies st ON e.ID_usr = st.ID_usr\n",
      "JOIN salary s ON e.ID_usr = s.ID_usr\n",
      "WHERE st.institution = 'MIT';\n"
     ]
    }
   ],
   "source": [
    "#new\n",
    "print(return_CCRMSQL(\"What is the average salary of employees who studied at ‘MIT’?’\", context_user))"
   ]
  },
  {
   "cell_type": "code",
   "execution_count": 22,
   "id": "5aa318d4-dd9f-41db-8ff4-c1d87220f766",
   "metadata": {
    "colab": {
     "base_uri": "https://localhost:8080/"
    },
    "id": "5aa318d4-dd9f-41db-8ff4-c1d87220f766",
    "outputId": "605724a1-0d89-4ed9-d8ec-1aeeae6dc287"
   },
   "outputs": [
    {
     "name": "stdout",
     "output_type": "stream",
     "text": [
      "This is your SQL:\n",
      "```sql\n",
      "SELECT e.name\n",
      "FROM employees e\n",
      "JOIN salary s ON e.ID_usr = s.ID_usr\n",
      "JOIN studies st ON e.ID_usr = st.ID_usr\n",
      "WHERE s.salary > 60000 AND s.year = '2022' AND st.Speciality = 'Computer Science';\n",
      "```\n",
      "\n",
      "This SQL query retrieves the names of employees who earned a salary of more than 60,000 in the year 2022 and studied 'Computer Science'. It achieves this by joining the three tables (employees, salary, and studies) on their corresponding ID columns and then filtering the results based on the specified conditions.\n"
     ]
    }
   ],
   "source": [
    "#old\n",
    "print(return_CCRMSQL(\"Find employees who earned a salary of more than 60,000 in 2022 and studied ‘Computer Science’\", old_context_user))"
   ]
  },
  {
   "cell_type": "markdown",
   "id": "0f31968e-74ad-4ae2-9537-b3d550b1be47",
   "metadata": {
    "id": "0f31968e-74ad-4ae2-9537-b3d550b1be47"
   },
   "source": [
    "# Exercise\n",
    " - Complete the prompts similar to what we did in class. \n",
    "     - Try at least 3 versions\n",
    "     - Be creative\n",
    " - Write a one page report summarizing your findings.\n",
    "     - Were there variations that didn't work well? i.e., where GPT either hallucinated or wrong.\n",
    "     - What did you learn?"
   ]
  }
 ],
 "metadata": {
  "colab": {
   "include_colab_link": true,
   "provenance": []
  },
  "kernelspec": {
   "display_name": "base",
   "language": "python",
   "name": "python3"
  },
  "language_info": {
   "codemirror_mode": {
    "name": "ipython",
    "version": 3
   },
   "file_extension": ".py",
   "mimetype": "text/x-python",
   "name": "python",
   "nbconvert_exporter": "python",
   "pygments_lexer": "ipython3",
   "version": "3.12.4"
  }
 },
 "nbformat": 4,
 "nbformat_minor": 5
}
