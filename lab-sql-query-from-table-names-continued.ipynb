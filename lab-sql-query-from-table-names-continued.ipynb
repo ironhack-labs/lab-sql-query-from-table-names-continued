{
 "cells": [
  {
   "cell_type": "markdown",
   "id": "7d930c89-4954-4e39-be5a-601c1dd89512",
   "metadata": {
    "id": "7d930c89-4954-4e39-be5a-601c1dd89512"
   },
   "source": [
    "# SQL query from table names - Continued"
   ]
  },
  {
   "cell_type": "code",
   "execution_count": 1,
   "id": "a03f026a",
   "metadata": {
    "id": "a03f026a"
   },
   "outputs": [],
   "source": [
    "from openai import OpenAI\n",
    "import os\n",
    "from dotenv import load_dotenv, find_dotenv\n",
    "_ = load_dotenv(find_dotenv())\n",
    "\n",
    "OPENAI_API_KEY  = os.getenv('OPENAI_API_KEY')"
   ]
  },
  {
   "cell_type": "markdown",
   "id": "53a05b80-88fd-42b2-ba89-763074ae74e9",
   "metadata": {
    "id": "53a05b80-88fd-42b2-ba89-763074ae74e9"
   },
   "source": [
    "## The old Prompt"
   ]
  },
  {
   "cell_type": "code",
   "execution_count": 2,
   "id": "922f8d24",
   "metadata": {
    "id": "922f8d24"
   },
   "outputs": [],
   "source": [
    "#The old prompt\n",
    "old_context = [ {'role':'system', 'content':\"\"\"\n",
    "you are a bot to assist in create SQL commands, all your answers should start with \\\n",
    "this is your SQL, and after that an SQL that can do what the user request. \\\n",
    "Your Database is composed by a SQL database with some tables. \\\n",
    "Try to maintain the SQL order simple.\n",
    "Put the SQL command in white letters with a black background, and just after \\\n",
    "a simple and concise text explaining how it works.\n",
    "If the user ask for something that can not be solved with an SQL Order \\\n",
    "just answer something nice and simple, maximum 10 words, asking him for something that \\\n",
    "can be solved with SQL.\n",
    "\"\"\"} ]\n",
    "\n",
    "old_context.append( {'role':'system', 'content':\"\"\"\n",
    "first table:\n",
    "{\n",
    "  \"tableName\": \"employees\",\n",
    "                     \n",
    "  \"fields\": [\n",
    "    {\n",
    "      \"nombre\": \"ID_usr\",\n",
    "      \"tipo\": \"int\"\n",
    "    },\n",
    "    {\n",
    "      \"nombre\": \"name\",\n",
    "      \"tipo\": \"varchar\"\n",
    "    }\n",
    "  ]\n",
    "}\n",
    "\"\"\"\n",
    "})\n",
    "\n",
    "old_context.append( {'role':'system', 'content':\"\"\"\n",
    "second table:\n",
    "{\n",
    "  \"tableName\": \"salary\",\n",
    "                     \n",
    "  \"fields\": [\n",
    "    {\n",
    "      \"nombre\": \"ID_usr\",\n",
    "      \"type\": \"int\"\n",
    "    },\n",
    "    {\n",
    "      \"name\": \"year\",\n",
    "      \"type\": \"date\"\n",
    "    },\n",
    "    {\n",
    "      \"name\": \"salary\",\n",
    "      \"type\": \"float\"\n",
    "    }\n",
    "  ]\n",
    "}\n",
    "\"\"\"\n",
    "})\n",
    "\n",
    "old_context.append( {'role':'system', 'content':\"\"\"\n",
    "third table:\n",
    "{\n",
    "  \"tablename\": \"studies\",\n",
    "                     \n",
    "  \"fields\": [\n",
    "    {\n",
    "      \"name\": \"ID\",\n",
    "      \"type\": \"int\"\n",
    "    },\n",
    "    {\n",
    "      \"name\": \"ID_usr\",\n",
    "      \"type\": \"int\"\n",
    "    },\n",
    "    {\n",
    "      \"name\": \"educational_level\",\n",
    "      \"type\": \"int\"\n",
    "    },\n",
    "    {\n",
    "      \"name\": \"Institution\",\n",
    "      \"type\": \"varchar\"\n",
    "    },\n",
    "    {\n",
    "      \"name\": \"Years\",\n",
    "      \"type\": \"date\"\n",
    "    }\n",
    "    {\n",
    "      \"name\": \"Speciality\",\n",
    "      \"type\": \"varchar\"\n",
    "    }\n",
    "  ]\n",
    "}\n",
    "\"\"\"\n",
    "})"
   ]
  },
  {
   "cell_type": "markdown",
   "id": "377acaae-7dd0-4d13-bc68-9e33741c231c",
   "metadata": {
    "id": "377acaae-7dd0-4d13-bc68-9e33741c231c"
   },
   "source": [
    "## New Prompt.\n",
    "We are going to improve it following the instructions of a Paper from the Ohaio University: [How to Prompt LLMs for Text-to-SQL: A Study in Zero-shot, Single-domain, and Cross-domain Settings](https://arxiv.org/abs/2305.11853). I recommend you read that paper.\n",
    "\n",
    "For each table, we will define the structure using the same syntax as in a SQL create table command, and add the sample rows of the content.\n",
    "\n",
    "Finally, at the end of the prompt, we'll include some example queries with the SQL that the model should generate. This technique is called Few-Shot Samples, in which we provide the prompt with some examples to assist it in generating the correct SQL.\n"
   ]
  },
  {
   "cell_type": "code",
   "execution_count": 8,
   "id": "5334f942",
   "metadata": {
    "id": "5334f942"
   },
   "outputs": [],
   "source": [
    "context = [ {'role':'system', 'content':\"\"\"\n",
    " CREATE SEVERAL (3+) TABLES HERE\n",
    "             \n",
    "\"tableName\": \"clients\",\n",
    "                     \n",
    "  \"fields\": [\n",
    "    {\n",
    "      \"name\": \"client_id\",\n",
    "      \"type\": \"int\"\n",
    "    },\n",
    "    {\n",
    "      \"name\": \"first_name\",\n",
    "      \"type\": \"varchar\"\n",
    "    },\n",
    "    {\n",
    "      \"name\": \"last_name\",\n",
    "      \"type\": \"varchar\"\n",
    "    }\n",
    "  ]\n",
    "\n",
    "\"tableName\": \"memberships\",\n",
    "                     \n",
    "  \"fields\": [\n",
    "    {\n",
    "      \"name\": \"client_id\",\n",
    "      \"type\": \"int\"\n",
    "    },\n",
    "    {\n",
    "      \"name\": \"days_left\",\n",
    "      \"type\": \"int\"\n",
    "    },\n",
    "    {\n",
    "      \"name\": \"first_name\",\n",
    "      \"type\": \"varchar\"\n",
    "    }\n",
    "  ]\n",
    "\n",
    "\"tableName\": \"locations\",\n",
    "                     \n",
    "  \"fields\": [\n",
    "    {\n",
    "      \"name\": \"client_id\",\n",
    "      \"type\": \"int\"\n",
    "    },\n",
    "    {\n",
    "      \"name\": \"country\",\n",
    "      \"type\": \"varchar\"\n",
    "    },\n",
    "    {\n",
    "      \"name\": \"city\",\n",
    "      \"type\": \"varchar\"\n",
    "    },\n",
    "    {\n",
    "      \"name\": \"street\",\n",
    "      \"type\": \"varchar\"\n",
    "    }\n",
    "  ]\n",
    "\"\"\"} ]\n",
    "\n"
   ]
  },
  {
   "cell_type": "code",
   "execution_count": 10,
   "id": "330e69b0-3f5f-4bb2-8185-aedded2bb993",
   "metadata": {
    "id": "330e69b0-3f5f-4bb2-8185-aedded2bb993"
   },
   "outputs": [],
   "source": [
    "# FEW SHOT SAMPLES\n",
    "context.append( {'role':'system', 'content':\"\"\"\n",
    " -- Maintain the SQL order simple and efficient as you can, using valid SQL Lite, answer the following questions for the table provided above.\n",
    "WRITE IN YOUR CONTEXT QUERIES HERE\n",
    "Give me a qury such that I can find the days left of clients membership\n",
    "\"\"\"\n",
    "})"
   ]
  },
  {
   "cell_type": "code",
   "execution_count": 11,
   "id": "b90f417a",
   "metadata": {
    "id": "b90f417a"
   },
   "outputs": [],
   "source": [
    "#Functio to call the model.\n",
    "def return_CCRMSQL(user_message, context):\n",
    "    client = OpenAI(\n",
    "    # This is the default and can be omitted\n",
    "    api_key = OPENAI_API_KEY,\n",
    ")\n",
    "\n",
    "    newcontext = context.copy()\n",
    "    newcontext.append({'role':'user', 'content':\"question: \" + user_message})\n",
    "\n",
    "    response = client.chat.completions.create(\n",
    "            model = \"gpt-3.5-turbo\",\n",
    "            messages = newcontext,\n",
    "            temperature = 0,\n",
    "        )\n",
    "\n",
    "    return (response.choices[0].message.content)"
   ]
  },
  {
   "cell_type": "markdown",
   "id": "9e0a4c11-dfe1-46fe-ac2b-3ff825f9749c",
   "metadata": {
    "id": "9e0a4c11-dfe1-46fe-ac2b-3ff825f9749c"
   },
   "source": [
    "## NL2SQL Samples\n",
    "We're going to review some examples generated with the old prompt and others with the new prompt."
   ]
  },
  {
   "cell_type": "code",
   "execution_count": 12,
   "id": "59e8202c-ce34-487e-9037-c65a263423ed",
   "metadata": {
    "colab": {
     "base_uri": "https://localhost:8080/"
    },
    "id": "59e8202c-ce34-487e-9037-c65a263423ed",
    "outputId": "f7a97b9f-45d7-4f78-8979-a796c5bc42fb"
   },
   "outputs": [
    {
     "name": "stdout",
     "output_type": "stream",
     "text": [
      "SELECT c.first_name, c.last_name, m.days_left\n",
      "FROM clients c\n",
      "JOIN memberships m ON c.first_name = m.first_name;\n"
     ]
    }
   ],
   "source": [
    "# new\n",
    "context_user = context.copy()\n",
    "print(return_CCRMSQL(\"\"\"YOUR QUERY HERE\"\"\", context_user))"
   ]
  },
  {
   "cell_type": "code",
   "execution_count": null,
   "id": "9c4766b1-48a9-456e-bc6c-4b6f41909aa4",
   "metadata": {
    "colab": {
     "base_uri": "https://localhost:8080/"
    },
    "id": "9c4766b1-48a9-456e-bc6c-4b6f41909aa4",
    "outputId": "029844da-5f1f-4f65-9adb-4d9c1cafacea"
   },
   "outputs": [
    {
     "name": "stdout",
     "output_type": "stream",
     "text": [
      "This is your SQL:\n",
      "```sql\n",
      "SELECT Institution, educational_level\n",
      "FROM studies;\n",
      "```\n",
      "\n",
      "This SQL query selects the columns \"Institution\" and \"educational_level\" from the \"studies\" table, allowing you to see the institutions and their corresponding educational levels.\n"
     ]
    }
   ],
   "source": [
    "# old\n",
    "old_context_user = old_context.copy()\n",
    "print(return_CCRMSQL(\"Give me a query such that I can find the institutions and their educational level.\", old_context_user))"
   ]
  },
  {
   "cell_type": "code",
   "execution_count": 20,
   "id": "38d8d370-0524-4a28-bd54-5e5cddb08e2c",
   "metadata": {
    "colab": {
     "base_uri": "https://localhost:8080/"
    },
    "id": "38d8d370-0524-4a28-bd54-5e5cddb08e2c",
    "outputId": "2934cdec-bea0-44db-b047-33e70dcf8ae8"
   },
   "outputs": [
    {
     "name": "stdout",
     "output_type": "stream",
     "text": [
      "To find the days left of clients' membership, you would typically need to join the \"clients\" table with the \"memberships\" table on a common field, such as the client's first name. Here is a sample query that achieves this:\n",
      "\n",
      "```sql\n",
      "SELECT c.first_name, c.last_name, m.days_left\n",
      "FROM clients c\n",
      "JOIN memberships m ON c.first_name = m.first_name;\n",
      "```\n",
      "\n",
      "This query selects the first name and last name of clients along with the days left in their membership. It joins the \"clients\" table with the \"memberships\" table based on the common field \"first_name\".\n"
     ]
    }
   ],
   "source": [
    "# new\n",
    "print(return_CCRMSQL(\"Give me a query such that I can find the days left of clients membership\", context_user))"
   ]
  },
  {
   "cell_type": "code",
   "execution_count": null,
   "id": "5aa318d4-dd9f-41db-8ff4-c1d87220f766",
   "metadata": {
    "colab": {
     "base_uri": "https://localhost:8080/"
    },
    "id": "5aa318d4-dd9f-41db-8ff4-c1d87220f766",
    "outputId": "605724a1-0d89-4ed9-d8ec-1aeeae6dc287"
   },
   "outputs": [
    {
     "name": "stdout",
     "output_type": "stream",
     "text": [
      "This is your SQL:\n",
      "```sql\n",
      "SELECT educational_level\n",
      "FROM (\n",
      "    SELECT educational_level,\n",
      "           ROW_NUMBER() OVER (ORDER BY educational_level) AS RowAsc,\n",
      "           ROW_NUMBER() OVER (ORDER BY educational_level DESC) AS RowDesc\n",
      "    FROM studies\n",
      ") AS subquery\n",
      "WHERE RowAsc = RowDesc\n",
      "   OR RowAsc + 1 = RowDesc\n",
      "   OR RowAsc = RowDesc + 1;\n",
      "```\n",
      "\n",
      "This query calculates the median of the educational level of the users by ordering the educational levels in ascending and descending order, then selecting the row that falls in the middle or the average of the two middle rows.\n"
     ]
    }
   ],
   "source": [
    "# old\n",
    "print(return_CCRMSQL(\"Give me a query such that I can find the median of the educational level of the users.\", old_context_user))"
   ]
  },
  {
   "cell_type": "markdown",
   "id": "0f31968e-74ad-4ae2-9537-b3d550b1be47",
   "metadata": {
    "id": "0f31968e-74ad-4ae2-9537-b3d550b1be47"
   },
   "source": [
    "# Exercise\n",
    " - Complete the prompts similar to what we did in class. \n",
    "     - Try at least 3 versions\n",
    "     - Be creative\n",
    " - Write a one page report summarizing your findings.\n",
    "     - Were there variations that didn't work well? i.e., where GPT either hallucinated or wrong.\n",
    "     - What did you learn?"
   ]
  },
  {
   "cell_type": "code",
   "execution_count": 23,
   "id": "35935be8",
   "metadata": {},
   "outputs": [
    {
     "name": "stdout",
     "output_type": "stream",
     "text": [
      "To find the days left of clients' membership by city, you can use the following SQL query:\n",
      "\n",
      "```sql\n",
      "SELECT c.first_name, c.last_name, m.days_left, l.city\n",
      "FROM clients c\n",
      "JOIN memberships m ON c.first_name = m.first_name\n",
      "JOIN locations l ON c.city = l.city;\n",
      "```\n",
      "\n",
      "This query will retrieve the first name, last name, days left of membership, and city of the clients. It assumes that the `first_name` in the `memberships` table corresponds to the `first_name` in the `clients` table, and that the `city` in the `clients` table corresponds to the `city` in the `locations` table.\n"
     ]
    }
   ],
   "source": [
    "print(return_CCRMSQL(\"\"\"Give me a query such that I can find the days left of clients membership by city\"\"\", context_user))"
   ]
  },
  {
   "cell_type": "code",
   "execution_count": 25,
   "id": "c6dd0da0",
   "metadata": {},
   "outputs": [
    {
     "name": "stdout",
     "output_type": "stream",
     "text": [
      "To find the clients with memberships in more than one city, you can use the following SQL query:\n",
      "\n",
      "```sql\n",
      "SELECT c.first_name, c.last_name\n",
      "FROM clients c\n",
      "JOIN memberships m ON c.first_name = m.first_name\n",
      "GROUP BY c.first_name, c.last_name\n",
      "HAVING COUNT(DISTINCT m.city) > 1;\n",
      "```\n",
      "\n",
      "This query will retrieve the first name and last name of clients who have memberships in more than one city.\n"
     ]
    }
   ],
   "source": [
    "print(return_CCRMSQL(\"\"\"Give me a query such that I can find the clients with membership in more than one city\"\"\", context_user))"
   ]
  },
  {
   "cell_type": "code",
   "execution_count": 26,
   "id": "683a91a3",
   "metadata": {},
   "outputs": [
    {
     "name": "stdout",
     "output_type": "stream",
     "text": [
      "```sql\n",
      "SELECT c.first_name, c.last_name\n",
      "FROM clients c\n",
      "LEFT JOIN memberships m ON c.first_name = m.first_name\n",
      "WHERE m.first_name IS NULL;\n",
      "```\n"
     ]
    }
   ],
   "source": [
    "print(return_CCRMSQL(\"\"\"Give me a query such that I can find the clients with no membership\"\"\", context_user))"
   ]
  },
  {
   "cell_type": "code",
   "execution_count": null,
   "id": "2fd6ce7a",
   "metadata": {},
   "outputs": [],
   "source": [
    "# Report Writing\n",
    "print(\"\"\"It creates the queries with accuracy to whatI ask it to.\"\"\")"
   ]
  }
 ],
 "metadata": {
  "colab": {
   "include_colab_link": true,
   "provenance": []
  },
  "kernelspec": {
   "display_name": "base",
   "language": "python",
   "name": "python3"
  },
  "language_info": {
   "codemirror_mode": {
    "name": "ipython",
    "version": 3
   },
   "file_extension": ".py",
   "mimetype": "text/x-python",
   "name": "python",
   "nbconvert_exporter": "python",
   "pygments_lexer": "ipython3",
   "version": "3.12.3"
  }
 },
 "nbformat": 4,
 "nbformat_minor": 5
}
