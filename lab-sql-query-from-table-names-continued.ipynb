{
 "cells": [
  {
   "cell_type": "markdown",
   "id": "7d930c89-4954-4e39-be5a-601c1dd89512",
   "metadata": {
    "id": "7d930c89-4954-4e39-be5a-601c1dd89512"
   },
   "source": [
    "# SQL query from table names - Continued"
   ]
  },
  {
   "cell_type": "code",
   "execution_count": null,
   "id": "a03f026a",
   "metadata": {
    "id": "a03f026a"
   },
   "outputs": [],
   "source": [
    "import os\n",
    "\n",
    "from openai import OpenAI\n",
    "from dotenv import load_dotenv, find_dotenv\n",
    "\n",
    "_ = load_dotenv(find_dotenv('../IHAI-lessons/000_lesson_data/044_llm/.env'))\n",
    "\n",
    "OPENAI_API_KEY  = os.getenv('OPENAI_API_KEY')"
   ]
  },
  {
   "cell_type": "markdown",
   "id": "53a05b80-88fd-42b2-ba89-763074ae74e9",
   "metadata": {
    "id": "53a05b80-88fd-42b2-ba89-763074ae74e9"
   },
   "source": [
    "## The old Prompt"
   ]
  },
  {
   "cell_type": "code",
   "execution_count": null,
   "id": "922f8d24",
   "metadata": {
    "id": "922f8d24"
   },
   "outputs": [],
   "source": [
    "#The old prompt\n",
    "old_context = [ {'role':'system', 'content':\"\"\"\n",
    "you are a bot to assist in create SQL commands, all your answers should start with \\\n",
    "this is your SQL, and after that an SQL that can do what the user requests. \\\n",
    "Your Database is composed by a SQL database with some tables. \\\n",
    "Try to maintain the SQL order simple.\n",
    "Put the SQL command in white letters with a black background, and just after \\\n",
    "a simple and concise text explaining how it works.\n",
    "If the user asks for something that can not be solved with an SQL Order \\\n",
    "just answer something nice and simple, maximum 10 words, asking him for something that \\\n",
    "can be solved with SQL.\n",
    "\"\"\"} ]\n",
    "\n",
    "old_context.append( {'role':'system', 'content':\"\"\"\n",
    "first table:\n",
    "{\n",
    "  \"tableName\": \"employees\",\n",
    "  \"fields\": [\n",
    "    {\n",
    "      \"employee_ID\": \"ID_usr\",\n",
    "      \"type\": \"int\"\n",
    "    },\n",
    "    {\n",
    "      \"employee_name\": \"name\",\n",
    "      \"type\": \"varchar\"\n",
    "    }\n",
    "  ]\n",
    "}\n",
    "\"\"\"\n",
    "})\n",
    "\n",
    "old_context.append( {'role':'system', 'content':\"\"\"\n",
    "second table:\n",
    "{\n",
    "  \"tableName\": \"salary\",\n",
    "  \"fields\": [\n",
    "    {\n",
    "      \"employee_ID\": \"ID_usr\",\n",
    "      \"type\": \"int\"\n",
    "    },\n",
    "    {\n",
    "      \"year\": \"year\",\n",
    "      \"type\": \"date\"\n",
    "    },\n",
    "    {\n",
    "      \"salary\": \"salary\",\n",
    "      \"type\": \"float\"\n",
    "    }\n",
    "  ]\n",
    "}\n",
    "\"\"\"\n",
    "})\n",
    "\n",
    "old_context.append( {'role':'system', 'content':\"\"\"\n",
    "third table:\n",
    "{\n",
    "  \"tablename\": \"studies\",\n",
    "  \"fields\": [\n",
    "    {\n",
    "      \"study_ID\": \"ID\",\n",
    "      \"type\": \"int\"\n",
    "    },\n",
    "    {\n",
    "      \"employee_ID\": \"ID_usr\",\n",
    "      \"type\": \"int\"\n",
    "    },\n",
    "    {\n",
    "      \"edu_level\": \"educational_level\",\n",
    "      \"type\": \"int\"\n",
    "    },\n",
    "    {\n",
    "      \"institution\": \"Institution\",\n",
    "      \"type\": \"varchar\"\n",
    "    },\n",
    "    {\n",
    "      \"years\": \"Years\",\n",
    "      \"type\": \"date\"\n",
    "    }\n",
    "    {\n",
    "      \"speciality\": \"Speciality\",\n",
    "      \"type\": \"varchar\"\n",
    "    }\n",
    "  ]\n",
    "}\n",
    "\"\"\"\n",
    "})"
   ]
  },
  {
   "cell_type": "markdown",
   "id": "377acaae-7dd0-4d13-bc68-9e33741c231c",
   "metadata": {
    "id": "377acaae-7dd0-4d13-bc68-9e33741c231c"
   },
   "source": [
    "## New Prompt.\n",
    "We are going to improve it following the instructions of a Paper from the Ohio University: [How to Prompt LLMs for Text-to-SQL: A Study in Zero-shot, Single-domain, and Cross-domain Settings](https://arxiv.org/abs/2305.11853). I recommend you read that paper.\n",
    "\n",
    "For each table, we will define the structure using the same syntax as in a SQL create table command, and add the sample rows of the content.\n",
    "\n",
    "Finally, at the end of the prompt, we'll include some example queries with the SQL that the model should generate. This technique is called Few-Shot Samples, in which we provide the prompt with some examples to assist it in generating the correct SQL.\n"
   ]
  },
  {
   "cell_type": "code",
   "execution_count": null,
   "id": "5334f942",
   "metadata": {
    "id": "5334f942"
   },
   "outputs": [],
   "source": [
    "context = [ {'role':'system', 'content':\"\"\"\n",
    "you are a bot to assist in create SQL commands, all your answers should start with\n",
    "this is your SQL, and after that an SQL that can do what the user requests.\n",
    "Your Database is composed by a SQL database with some tables.\n",
    "Try to maintain the SQL order simple.\n",
    "Put the SQL command in white letters with a black background, and just after\n",
    "a simple and concise text explaining how it works.\n",
    "If the user asks for something that can not be solved with an SQL Order\n",
    "just answer something nice and simple, maximum 10 words, asking him for something that\n",
    "can be solved with SQL.\n",
    "\"\"\"} ]\n",
    "\n",
    "context.append( {'role':'system', 'content':\"\"\"\n",
    "             \n",
    "create table employees(\n",
    "    ID_Usr INT primary key,\n",
    "    name VARCHAR);\n",
    "             \n",
    "    /*3 example rows\n",
    "    select * from employees limit 3;\n",
    "    ID_Usr    name\n",
    "    1456      Amanda Nunes\n",
    "    2345      Khabib Nurmagomedov\n",
    "    1678      Israel Adesanya\n",
    "    */\n",
    "\n",
    "create table salary(\n",
    "    ID_Usr INT,\n",
    "    year DATE,\n",
    "    salary FLOAT,\n",
    "    foreign key (ID_Usr) references employees(ID_Usr));\n",
    "             \n",
    "    /*3 example rows\n",
    "    select * from salary limit 3;\n",
    "    ID_Usr    year          salary\n",
    "    1456      01/01/2022    72000\n",
    "    2345      01/01/2023    85000\n",
    "    1678      01/01/2023    65000\n",
    "    */\n",
    "\n",
    "create table studies(\n",
    "    ID_study INT,\n",
    "    ID_Usr INT,\n",
    "    educational_level INT,  /* 5=phd, 4=Master, 3=Bachelor */\n",
    "    Institution VARCHAR,\n",
    "    Years DATE,\n",
    "    Speciality VARCHAR,\n",
    "    primary key (ID_study, ID_Usr),\n",
    "    foreign key(ID_Usr) references employees (ID_Usr));\n",
    "             \n",
    "    /*3 example rows\n",
    "    select * from studies limit 3\n",
    "    ID_Study ID_Usr educational_level Institution         Years       Speciality\n",
    "    3451     1456   3                 University of Miami 01/01/2011  Bachelor of Arts in Sociology\n",
    "    4567     2345   5                 Stanford University 01/01/2019  PhD in Computer Science\n",
    "    5678     1678   4                 Oxford University   01/01/2021  Master of Business Administration\n",
    "    */\n",
    "\"\"\"} )"
   ]
  },
  {
   "cell_type": "code",
   "execution_count": null,
   "id": "330e69b0-3f5f-4bb2-8185-aedded2bb993",
   "metadata": {
    "id": "330e69b0-3f5f-4bb2-8185-aedded2bb993"
   },
   "outputs": [],
   "source": [
    "context.append({'role': 'system', 'content': \"\"\"\n",
    "-- Maintain the SQL order simple and efficient as you can, using valid SQL Lite, answer the following questions for the tables provided above.\n",
    "\n",
    "Question: What is the average salary for employees with a PhD?\n",
    "SELECT AVG(s.salary) AS average_salary\n",
    "FROM employees e\n",
    "INNER JOIN salary s ON e.ID_Usr = s.ID_Usr\n",
    "INNER JOIN studies st ON e.ID_Usr = st.ID_Usr\n",
    "WHERE st.educational_level = 5;\n",
    "\n",
    "Question: List all employees who graduated from 'Stanford University' and their corresponding salary.\n",
    "SELECT e.name, s.salary\n",
    "FROM employees e\n",
    "INNER JOIN salary s ON e.ID_Usr = s.ID_Usr\n",
    "INNER JOIN studies st ON e.ID_Usr = st.ID_Usr\n",
    "WHERE st.Institution = 'Stanford University';\n",
    "\"\"\"\n",
    "})"
   ]
  },
  {
   "cell_type": "code",
   "execution_count": null,
   "id": "b90f417a",
   "metadata": {
    "id": "b90f417a"
   },
   "outputs": [],
   "source": [
    "# Function to call the model\n",
    "\n",
    "def return_CCRMSQL(user_message, context):\n",
    "    client = OpenAI(\n",
    "    api_key = OPENAI_API_KEY,\n",
    ")\n",
    "\n",
    "    newcontext = context.copy()\n",
    "    newcontext.append({'role': 'user', 'content': 'question: ' + user_message})\n",
    "\n",
    "    response = client.chat.completions.create(\n",
    "            model = 'gpt-3.5-turbo',\n",
    "            messages = newcontext,\n",
    "            temperature = 0\n",
    "        )\n",
    "\n",
    "    return (response.choices[0].message.content)"
   ]
  },
  {
   "cell_type": "markdown",
   "id": "9e0a4c11-dfe1-46fe-ac2b-3ff825f9749c",
   "metadata": {
    "id": "9e0a4c11-dfe1-46fe-ac2b-3ff825f9749c"
   },
   "source": [
    "## NL2SQL Samples\n",
    "We're going to review some examples generated with the old prompt and others with the new prompt."
   ]
  },
  {
   "cell_type": "code",
   "execution_count": null,
   "id": "fd07e07e",
   "metadata": {},
   "outputs": [],
   "source": [
    "question_1 = 'Name the employees who earned more than 70000 in the year 2023 and their education.'"
   ]
  },
  {
   "cell_type": "code",
   "execution_count": null,
   "id": "59e8202c-ce34-487e-9037-c65a263423ed",
   "metadata": {
    "colab": {
     "base_uri": "https://localhost:8080/"
    },
    "id": "59e8202c-ce34-487e-9037-c65a263423ed",
    "outputId": "f7a97b9f-45d7-4f78-8979-a796c5bc42fb"
   },
   "outputs": [],
   "source": [
    "# new\n",
    "print(return_CCRMSQL(question_1, context))"
   ]
  },
  {
   "cell_type": "code",
   "execution_count": null,
   "id": "9c4766b1-48a9-456e-bc6c-4b6f41909aa4",
   "metadata": {
    "colab": {
     "base_uri": "https://localhost:8080/"
    },
    "id": "9c4766b1-48a9-456e-bc6c-4b6f41909aa4",
    "outputId": "029844da-5f1f-4f65-9adb-4d9c1cafacea"
   },
   "outputs": [],
   "source": [
    "# old\n",
    "print(return_CCRMSQL(question_1, old_context))"
   ]
  },
  {
   "cell_type": "code",
   "execution_count": null,
   "id": "b1a68bc5",
   "metadata": {},
   "outputs": [],
   "source": [
    "question_2 = 'Find the total number of employees with a Master’s degree and a salary less than 60000.'"
   ]
  },
  {
   "cell_type": "code",
   "execution_count": null,
   "id": "38d8d370-0524-4a28-bd54-5e5cddb08e2c",
   "metadata": {
    "colab": {
     "base_uri": "https://localhost:8080/"
    },
    "id": "38d8d370-0524-4a28-bd54-5e5cddb08e2c",
    "outputId": "2934cdec-bea0-44db-b047-33e70dcf8ae8"
   },
   "outputs": [],
   "source": [
    "# new\n",
    "print(return_CCRMSQL(question_2, context))"
   ]
  },
  {
   "cell_type": "code",
   "execution_count": null,
   "id": "5aa318d4-dd9f-41db-8ff4-c1d87220f766",
   "metadata": {
    "colab": {
     "base_uri": "https://localhost:8080/"
    },
    "id": "5aa318d4-dd9f-41db-8ff4-c1d87220f766",
    "outputId": "605724a1-0d89-4ed9-d8ec-1aeeae6dc287"
   },
   "outputs": [],
   "source": [
    "# old\n",
    "print(return_CCRMSQL(question_2, old_context))"
   ]
  },
  {
   "cell_type": "markdown",
   "id": "0f31968e-74ad-4ae2-9537-b3d550b1be47",
   "metadata": {
    "id": "0f31968e-74ad-4ae2-9537-b3d550b1be47"
   },
   "source": [
    "# Exercise\n",
    " - Complete the prompts similar to what we did in class. \n",
    "     - Try at least 3 versions\n",
    "     - Be creative"
   ]
  },
  {
   "cell_type": "code",
   "execution_count": null,
   "id": "4427afa1",
   "metadata": {},
   "outputs": [],
   "source": [
    "# VERSION 1\n",
    "\n",
    "question_v1 = 'List the names of employees who graduated in 2020 and their corresponding salaries.'\n",
    "\n",
    "print('USING NEW CONTEXT:\\n', return_CCRMSQL(question_v1, context), '\\n')\n",
    "print('USING OLD CONTEXT:\\n', return_CCRMSQL(question_v1, old_context))"
   ]
  },
  {
   "cell_type": "code",
   "execution_count": null,
   "id": "a4aafbc3",
   "metadata": {},
   "outputs": [],
   "source": [
    "# VERSION 2\n",
    "\n",
    "question_v2 = \"What is the highest salary earned by an employee with a Bachelor's degree?\"\n",
    "\n",
    "print('USING NEW CONTEXT:\\n', return_CCRMSQL(question_v2, context), '\\n')\n",
    "print('USING OLD CONTEXT:\\n', return_CCRMSQL(question_v2, old_context))"
   ]
  },
  {
   "cell_type": "code",
   "execution_count": null,
   "id": "d50b3a2e",
   "metadata": {},
   "outputs": [],
   "source": [
    "# VERSION 3\n",
    "\n",
    "question_v3 = 'Retrieve the employees who have worked for more than 10 years since their graduation.'\n",
    "\n",
    "print('USING NEW CONTEXT:\\n', return_CCRMSQL(question_v3, context), '\\n')\n",
    "print('USING OLD CONTEXT:\\n', return_CCRMSQL(question_v3, old_context))"
   ]
  },
  {
   "cell_type": "markdown",
   "id": "deedf812",
   "metadata": {},
   "source": [
    " - Write a report summarizing your findings.\n",
    "     - Were there variations that didn't work well? i.e., where GPT either hallucinated or wrong.\n",
    "     - What did you learn?"
   ]
  },
  {
   "cell_type": "code",
   "execution_count": null,
   "id": "232c4111",
   "metadata": {},
   "outputs": [],
   "source": [
    "# REPORT AND FINDINGS\n",
    "\n",
    "# The old approach makes the model more flexible and reusable for generating SQL commands.\n",
    "# Without example rows, the model works more abstractly, which might lead to less accurate outputs.\n",
    "\n",
    "# The new approach helps the model better understand table relationships, making queries more context-aware.  \n",
    "# Including example rows in the new approach improves query accuracy."
   ]
  }
 ],
 "metadata": {
  "colab": {
   "include_colab_link": true,
   "provenance": []
  },
  "kernelspec": {
   "display_name": "Python 3",
   "language": "python",
   "name": "python3"
  },
  "language_info": {
   "codemirror_mode": {
    "name": "ipython",
    "version": 3
   },
   "file_extension": ".py",
   "mimetype": "text/x-python",
   "name": "python",
   "nbconvert_exporter": "python",
   "pygments_lexer": "ipython3",
   "version": "3.11.10"
  }
 },
 "nbformat": 4,
 "nbformat_minor": 5
}
