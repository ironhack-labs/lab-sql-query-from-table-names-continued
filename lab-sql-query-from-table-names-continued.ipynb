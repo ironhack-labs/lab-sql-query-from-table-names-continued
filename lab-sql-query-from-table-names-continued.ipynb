{
 "cells": [
  {
   "cell_type": "markdown",
   "id": "7d930c89-4954-4e39-be5a-601c1dd89512",
   "metadata": {
    "id": "7d930c89-4954-4e39-be5a-601c1dd89512"
   },
   "source": [
    "# SQL query from table names - Continued"
   ]
  },
  {
   "cell_type": "code",
   "execution_count": 6,
   "id": "a03f026a",
   "metadata": {
    "id": "a03f026a"
   },
   "outputs": [],
   "source": [
    "from openai import OpenAI\n",
    "import os\n",
    "from dotenv import load_dotenv, find_dotenv\n",
    "_ = load_dotenv(find_dotenv())\n",
    "\n",
    "OPENAI_API_KEY  = os.getenv('OPENAI_API_KEY')"
   ]
  },
  {
   "cell_type": "markdown",
   "id": "53a05b80-88fd-42b2-ba89-763074ae74e9",
   "metadata": {
    "id": "53a05b80-88fd-42b2-ba89-763074ae74e9"
   },
   "source": [
    "## The old Prompt"
   ]
  },
  {
   "cell_type": "code",
   "execution_count": 7,
   "id": "922f8d24",
   "metadata": {
    "id": "922f8d24"
   },
   "outputs": [],
   "source": [
    "#The old prompt\n",
    "old_context = [ {'role':'system', 'content':\"\"\"\n",
    "you are a bot to assist in create SQL commands, all your answers should start with \\\n",
    "this is your SQL, and after that an SQL that can do what the user request. \\\n",
    "Your Database is composed by a SQL database with some tables. \\\n",
    "Try to maintain the SQL order simple.\n",
    "Put the SQL command in white letters with a black background, and just after \\\n",
    "a simple and concise text explaining how it works.\n",
    "If the user ask for something that can not be solved with an SQL Order \\\n",
    "just answer something nice and simple, maximum 10 words, asking him for something that \\\n",
    "can be solved with SQL.\n",
    "\"\"\"} ]\n",
    "\n",
    "old_context.append( {'role':'system', 'content':\"\"\"\n",
    "first table:\n",
    "{\n",
    "  \"tableName\": \"employees\",\n",
    "  \"fields\": [\n",
    "    {\n",
    "      \"nombre\": \"ID_usr\",\n",
    "      \"tipo\": \"int\"\n",
    "    },\n",
    "    {\n",
    "      \"nombre\": \"name\",\n",
    "      \"tipo\": \"varchar\"\n",
    "    }\n",
    "  ]\n",
    "}\n",
    "\"\"\"\n",
    "})\n",
    "\n",
    "old_context.append( {'role':'system', 'content':\"\"\"\n",
    "second table:\n",
    "{\n",
    "  \"tableName\": \"salary\",\n",
    "  \"fields\": [\n",
    "    {\n",
    "      \"nombre\": \"ID_usr\",\n",
    "      \"type\": \"int\"\n",
    "    },\n",
    "    {\n",
    "      \"name\": \"year\",\n",
    "      \"type\": \"date\"\n",
    "    },\n",
    "    {\n",
    "      \"name\": \"salary\",\n",
    "      \"type\": \"float\"\n",
    "    }\n",
    "  ]\n",
    "}\n",
    "\"\"\"\n",
    "})\n",
    "\n",
    "old_context.append( {'role':'system', 'content':\"\"\"\n",
    "third table:\n",
    "{\n",
    "  \"tablename\": \"studies\",\n",
    "  \"fields\": [\n",
    "    {\n",
    "      \"name\": \"ID\",\n",
    "      \"type\": \"int\"\n",
    "    },\n",
    "    {\n",
    "      \"name\": \"ID_usr\",\n",
    "      \"type\": \"int\"\n",
    "    },\n",
    "    {\n",
    "      \"name\": \"educational_level\",\n",
    "      \"type\": \"int\"\n",
    "    },\n",
    "    {\n",
    "      \"name\": \"Institution\",\n",
    "      \"type\": \"varchar\"\n",
    "    },\n",
    "    {\n",
    "      \"name\": \"Years\",\n",
    "      \"type\": \"date\"\n",
    "    }\n",
    "    {\n",
    "      \"name\": \"Speciality\",\n",
    "      \"type\": \"varchar\"\n",
    "    }\n",
    "  ]\n",
    "}\n",
    "\"\"\"\n",
    "})"
   ]
  },
  {
   "cell_type": "markdown",
   "id": "377acaae-7dd0-4d13-bc68-9e33741c231c",
   "metadata": {
    "id": "377acaae-7dd0-4d13-bc68-9e33741c231c"
   },
   "source": [
    "## New Prompt.\n",
    "We are going to improve it following the instructions of a Paper from the Ohaio University: [How to Prompt LLMs for Text-to-SQL: A Study in Zero-shot, Single-domain, and Cross-domain Settings](https://arxiv.org/abs/2305.11853). I recommend you read that paper.\n",
    "\n",
    "For each table, we will define the structure using the same syntax as in a SQL create table command, and add the sample rows of the content.\n",
    "\n",
    "Finally, at the end of the prompt, we'll include some example queries with the SQL that the model should generate. This technique is called Few-Shot Samples, in which we provide the prompt with some examples to assist it in generating the correct SQL.\n"
   ]
  },
  {
   "cell_type": "code",
   "execution_count": 8,
   "id": "5334f942",
   "metadata": {
    "id": "5334f942"
   },
   "outputs": [],
   "source": [
    "context = [ {'role':'system', 'content':\"\"\"\n",
    "You are a SQL expert. Generate SQL queries using SQLite syntax. Your responses should only include the SQL query in a code block.\n",
    " Database Schema:\n",
    "CREATE TABLE employees (\n",
    "    ID_usr INT PRIMARY KEY,\n",
    "    name VARCHAR(100)\n",
    ");\n",
    "\n",
    "CREATE TABLE salary (\n",
    "    ID_usr INT,\n",
    "    year DATE,\n",
    "    salary FLOAT,\n",
    "    FOREIGN KEY (ID_usr) REFERENCES employees(ID_usr)\n",
    ");\n",
    "\n",
    "CREATE TABLE studies (\n",
    "    ID INT PRIMARY KEY,\n",
    "    ID_usr INT,\n",
    "    educational_level INT,\n",
    "    Institution VARCHAR(100),\n",
    "    Years DATE,\n",
    "    Speciality VARCHAR(100),\n",
    "    FOREIGN KEY (ID_usr) REFERENCES employees(ID_usr)\n",
    ");\n",
    "\n",
    "Sample Data:\n",
    "-- Employees\n",
    "INSERT INTO employees VALUES (1, 'John Smith');\n",
    "INSERT INTO employees VALUES (2, 'Maria Garcia');\n",
    "INSERT INTO employees VALUES (3, 'David Lee');\n",
    "\n",
    "-- Salary\n",
    "INSERT INTO salary VALUES (1, '2023-01-01', 75000);\n",
    "INSERT INTO salary VALUES (2, '2023-01-01', 82000);\n",
    "INSERT INTO salary VALUES (3, '2023-01-01', 65000);\n",
    "\n",
    "-- Studies\n",
    "INSERT INTO studies VALUES (1, 1, 3, 'MIT', '2020-05-15', 'Computer Science');\n",
    "INSERT INTO studies VALUES (2, 2, 4, 'Stanford', '2019-06-20', 'Data Science');\n",
    "INSERT INTO studies VALUES (3, 3, 3, 'MIT', '2021-05-10', 'Engineering');\n",
    "\"\"\"} ]\n",
    "\n",
    "\n"
   ]
  },
  {
   "cell_type": "code",
   "execution_count": 18,
   "id": "330e69b0-3f5f-4bb2-8185-aedded2bb993",
   "metadata": {
    "id": "330e69b0-3f5f-4bb2-8185-aedded2bb993"
   },
   "outputs": [],
   "source": [
    "#FEW SHOT SAMPLES\n",
    "context.append( {'role':'system', 'content':\"\"\"\n",
    "-- Maintain the SQL order simple and efficient as you can, using valid SQL Lite, answer the following questions for the table provided above.\n",
    "\n",
    "Example questions and their SQL queries:\n",
    "\n",
    "Question 1: Who is the employee with the highest salary?\n",
    "SQL 1: \n",
    "SELECT e.name \n",
    "FROM employees e \n",
    "JOIN salary s ON e.ID_usr = s.ID_usr \n",
    "ORDER BY s.salary DESC \n",
    "LIMIT 1;\n",
    "\n",
    "Question 2: Which institution has graduates with the highest average salary?\n",
    "SQL 2: \n",
    "SELECT st.Institution, AVG(sa.salary) AS avg_salary\n",
    "FROM studies st\n",
    "JOIN employees e ON st.ID_usr = e.ID_usr\n",
    "JOIN salary sa ON e.ID_usr = sa.ID_usr\n",
    "GROUP BY st.Institution\n",
    "ORDER BY avg_salary DESC\n",
    "LIMIT 1;\n",
    "\n",
    "Question 3: List all employees and their salaries in descending order\n",
    "SQL 3: \n",
    "SELECT e.name, s.salary\n",
    "FROM employees e\n",
    "JOIN salary s ON e.ID_usr = s.ID_usr\n",
    "ORDER BY s.salary DESC;\n",
    "\"\"\"\n",
    "})"
   ]
  },
  {
   "cell_type": "code",
   "execution_count": 19,
   "id": "b90f417a",
   "metadata": {
    "id": "b90f417a"
   },
   "outputs": [],
   "source": [
    "#Functio to call the model.\n",
    "def return_CCRMSQL(user_message, context):\n",
    "    client = OpenAI(\n",
    "    # This is the default and can be omitted\n",
    "    api_key=OPENAI_API_KEY,\n",
    ")\n",
    "\n",
    "    newcontext = context.copy()\n",
    "    newcontext.append({'role':'user', 'content':\"question: \" + user_message})\n",
    "\n",
    "    response = client.chat.completions.create(\n",
    "            model=\"gpt-3.5-turbo\",\n",
    "            messages=newcontext,\n",
    "            temperature=0,\n",
    "        )\n",
    "\n",
    "    return (response.choices[0].message.content)"
   ]
  },
  {
   "cell_type": "code",
   "execution_count": 20,
   "id": "8bbfaa4e",
   "metadata": {},
   "outputs": [
    {
     "name": "stdout",
     "output_type": "stream",
     "text": [
      "```sql\n",
      "SELECT st.Institution, AVG(sa.salary) AS avg_salary\n",
      "FROM studies st\n",
      "JOIN employees e ON st.ID_usr = e.ID_usr\n",
      "JOIN salary sa ON e.ID_usr = sa.ID_usr\n",
      "GROUP BY st.Institution\n",
      "ORDER BY avg_salary DESC\n",
      "LIMIT 1;\n",
      "```\n"
     ]
    }
   ],
   "source": [
    "print(return_CCRMSQL(\"Show me the institution with the highest average salary of its graduates\", context))"
   ]
  },
  {
   "cell_type": "code",
   "execution_count": 21,
   "id": "245b9404",
   "metadata": {},
   "outputs": [
    {
     "name": "stdout",
     "output_type": "stream",
     "text": [
      "```sql\n",
      "SELECT e.name \n",
      "FROM employees e \n",
      "JOIN salary s ON e.ID_usr = s.ID_usr \n",
      "ORDER BY s.salary DESC \n",
      "LIMIT 1;\n",
      "```\n"
     ]
    }
   ],
   "source": [
    "#test with another question\n",
    "print(return_CCRMSQL(\"Show me the employee with the highest salary\", context))\n"
   ]
  },
  {
   "cell_type": "code",
   "execution_count": 22,
   "id": "e0c25957",
   "metadata": {},
   "outputs": [
    {
     "name": "stdout",
     "output_type": "stream",
     "text": [
      "```sql\n",
      "WITH highest_salary AS (\n",
      "    SELECT e.name \n",
      "    FROM employees e \n",
      "    JOIN salary s ON e.ID_usr = s.ID_usr \n",
      "    ORDER BY s.salary DESC \n",
      "    LIMIT 1\n",
      "),\n",
      "highest_avg_salary AS (\n",
      "    SELECT st.Institution, AVG(sa.salary) AS avg_salary\n",
      "    FROM studies st\n",
      "    JOIN employees e ON st.ID_usr = e.ID_usr\n",
      "    JOIN salary sa ON e.ID_usr = sa.ID_usr\n",
      "    GROUP BY st.Institution\n",
      "    ORDER BY avg_salary DESC\n",
      "    LIMIT 1\n",
      ")\n",
      "\n",
      "SELECT (SELECT * FROM highest_salary) AS employee_highest_salary, (SELECT * FROM highest_avg_salary) AS institution_highest_avg_salary;\n",
      "```\n"
     ]
    }
   ],
   "source": [
    "#more complex question with more than one table\n",
    "print(return_CCRMSQL(\"Show me the employee with the highest salary and the institution with the highest average salary of its graduates\", context))\n"
   ]
  },
  {
   "cell_type": "markdown",
   "id": "9e0a4c11-dfe1-46fe-ac2b-3ff825f9749c",
   "metadata": {
    "id": "9e0a4c11-dfe1-46fe-ac2b-3ff825f9749c"
   },
   "source": [
    "## NL2SQL Samples\n",
    "We're going to review some examples generated with the old prompt and others with the new prompt."
   ]
  },
  {
   "cell_type": "code",
   "execution_count": 23,
   "id": "59e8202c-ce34-487e-9037-c65a263423ed",
   "metadata": {
    "colab": {
     "base_uri": "https://localhost:8080/"
    },
    "id": "59e8202c-ce34-487e-9037-c65a263423ed",
    "outputId": "f7a97b9f-45d7-4f78-8979-a796c5bc42fb"
   },
   "outputs": [
    {
     "name": "stdout",
     "output_type": "stream",
     "text": [
      "```sql\n",
      "SELECT e.name \n",
      "FROM employees e \n",
      "JOIN salary s ON e.ID_usr = s.ID_usr \n",
      "ORDER BY s.salary DESC \n",
      "LIMIT 1;\n",
      "```\n"
     ]
    }
   ],
   "source": [
    "#new\n",
    "context_user = context.copy()\n",
    "print(return_CCRMSQL(\"Who is the employee with the highest salary?\", context_user))"
   ]
  },
  {
   "cell_type": "code",
   "execution_count": 24,
   "id": "9c4766b1-48a9-456e-bc6c-4b6f41909aa4",
   "metadata": {
    "colab": {
     "base_uri": "https://localhost:8080/"
    },
    "id": "9c4766b1-48a9-456e-bc6c-4b6f41909aa4",
    "outputId": "029844da-5f1f-4f65-9adb-4d9c1cafacea"
   },
   "outputs": [
    {
     "name": "stdout",
     "output_type": "stream",
     "text": [
      "This is your SQL:\n",
      "```sql\n",
      "SELECT e.name, s.salary\n",
      "FROM employees e\n",
      "JOIN salary s ON e.ID_usr = s.ID_usr\n",
      "ORDER BY s.salary DESC\n",
      "LIMIT 1;\n",
      "```\n",
      "\n",
      "This SQL query selects the name and salary of the employee with the highest salary by joining the \"employees\" and \"salary\" tables on the ID_usr column. It then orders the results by salary in descending order and limits the output to only the top result, which corresponds to the employee with the highest salary.\n"
     ]
    }
   ],
   "source": [
    "#old\n",
    "old_context_user = old_context.copy()\n",
    "print(return_CCRMSQL(\"Who is the employee with the highest salary?\", old_context_user))"
   ]
  },
  {
   "cell_type": "code",
   "execution_count": 25,
   "id": "38d8d370-0524-4a28-bd54-5e5cddb08e2c",
   "metadata": {
    "colab": {
     "base_uri": "https://localhost:8080/"
    },
    "id": "38d8d370-0524-4a28-bd54-5e5cddb08e2c",
    "outputId": "2934cdec-bea0-44db-b047-33e70dcf8ae8"
   },
   "outputs": [
    {
     "name": "stdout",
     "output_type": "stream",
     "text": [
      "```sql\n",
      "SELECT st.Institution, AVG(sa.salary) AS avg_salary\n",
      "FROM studies st\n",
      "JOIN employees e ON st.ID_usr = e.ID_usr\n",
      "JOIN salary sa ON e.ID_usr = sa.ID_usr\n",
      "GROUP BY st.Institution\n",
      "ORDER BY avg_salary DESC\n",
      "LIMIT 1;\n",
      "```\n"
     ]
    }
   ],
   "source": [
    "#new\n",
    "print(return_CCRMSQL(\"Which institution has graduates with the highest average salary?\", context_user))"
   ]
  },
  {
   "cell_type": "code",
   "execution_count": 26,
   "id": "5aa318d4-dd9f-41db-8ff4-c1d87220f766",
   "metadata": {
    "colab": {
     "base_uri": "https://localhost:8080/"
    },
    "id": "5aa318d4-dd9f-41db-8ff4-c1d87220f766",
    "outputId": "605724a1-0d89-4ed9-d8ec-1aeeae6dc287"
   },
   "outputs": [
    {
     "name": "stdout",
     "output_type": "stream",
     "text": [
      "This is your SQL:\n",
      "```sql\n",
      "SELECT s.Institution, AVG(sa.salary) AS avg_salary\n",
      "FROM studies s\n",
      "JOIN employees e ON s.ID_usr = e.ID_usr\n",
      "JOIN salary sa ON s.ID_usr = sa.ID_usr\n",
      "GROUP BY s.Institution\n",
      "ORDER BY avg_salary DESC\n",
      "LIMIT 1;\n",
      "```\n",
      "\n",
      "This SQL query joins the tables `studies`, `employees`, and `salary` on the user ID to calculate the average salary for graduates of each institution. It then selects the institution with the highest average salary by ordering the results in descending order and limiting the output to the top result.\n"
     ]
    }
   ],
   "source": [
    "#old\n",
    "print(return_CCRMSQL(\"Which institution has graduates with the highest average salary?\", old_context_user))"
   ]
  },
  {
   "cell_type": "markdown",
   "id": "0f31968e-74ad-4ae2-9537-b3d550b1be47",
   "metadata": {
    "id": "0f31968e-74ad-4ae2-9537-b3d550b1be47"
   },
   "source": [
    "# Exercise\n",
    " - Complete the prompts similar to what we did in class. \n",
    "     - Try at least 3 versions\n",
    "     - Be creative\n",
    " - Write a one page report summarizing your findings.\n",
    "     - Were there variations that didn't work well? i.e., where GPT either hallucinated or wrong.\n",
    "     - What did you learn?"
   ]
  },
  {
   "cell_type": "markdown",
   "id": "a57f76fa",
   "metadata": {},
   "source": [
    "## Version 1: Story-based Context"
   ]
  },
  {
   "cell_type": "code",
   "execution_count": 27,
   "id": "d067cef3",
   "metadata": {},
   "outputs": [],
   "source": [
    "# Version 1: Story-based Context\n",
    "context_v1 = [ {'role':'system', 'content':\"\"\"\n",
    "You are managing TechCorp's HR database. The database contains information about employees, their salaries, and educational background.\n",
    "\n",
    "Database Structure:\n",
    "CREATE TABLE employees (\n",
    "    ID_usr INT PRIMARY KEY,\n",
    "    name VARCHAR(100) -- Employee's full name\n",
    ");\n",
    "\n",
    "CREATE TABLE salary (\n",
    "    ID_usr INT,\n",
    "    year DATE,        -- Year of salary record\n",
    "    salary FLOAT,     -- Annual salary in USD\n",
    "    FOREIGN KEY (ID_usr) REFERENCES employees(ID_usr)\n",
    ");\n",
    "\n",
    "CREATE TABLE studies (\n",
    "    ID INT PRIMARY KEY,\n",
    "    ID_usr INT,\n",
    "    educational_level INT,      -- 1:High School, 2:Bachelor, 3:Master, 4:PhD\n",
    "    Institution VARCHAR(100),   -- Name of educational institution\n",
    "    Years DATE,                -- Graduation date\n",
    "    Speciality VARCHAR(100),   -- Field of study\n",
    "    FOREIGN KEY (ID_usr) REFERENCES employees(ID_usr)\n",
    ");\n",
    "\n",
    "Example Queries:\n",
    "Q: \"Find our highest-paid employee with their education details\"\n",
    "SQL: \n",
    "SELECT e.name, s.Institution, s.Years, s.Speciality\n",
    "FROM employees e\n",
    "JOIN salary s ON e.ID_usr = s.ID_usr\n",
    "JOIN studies st ON e.ID_usr = st.ID_usr\n",
    "ORDER BY s.salary DESC\n",
    "LIMIT 1;\n",
    "\"\"\"} ]\n",
    "\n"
   ]
  },
  {
   "cell_type": "markdown",
   "id": "bb93511c",
   "metadata": {},
   "source": [
    "## Version 2: Pattern-Matching Focus"
   ]
  },
  {
   "cell_type": "code",
   "execution_count": 28,
   "id": "23db15ce",
   "metadata": {},
   "outputs": [],
   "source": [
    "\n",
    "# Version 2: Pattern-Matching Focus\n",
    "context_v2 = [ {'role':'system', 'content':\"\"\"\n",
    "You translate natural language patterns into SQL queries. Here's how to interpret common patterns:\n",
    "\n",
    "Pattern Guide:\n",
    "- \"highest/most/top\" → ORDER BY DESC LIMIT\n",
    "- \"average/mean\" → AVG()\n",
    "- \"for each/by/per\" → GROUP BY\n",
    "- \"more than/greater than\" → >\n",
    "- \"at least\" → >=\n",
    "\n",
    "Tables:\n",
    "employees(ID_usr, name)\n",
    "salary(ID_usr, year, salary)\n",
    "studies(ID, ID_usr, educational_level, Institution, Years, Speciality)\n",
    "\n",
    "Example Patterns:\n",
    "\"highest X\" → SELECT e.name, s.salary FROM employees e JOIN salary s ON e.ID_usr = s.ID_usr ORDER BY s.salary DESC LIMIT 1;\n",
    "\"average X\" → SELECT AVG(s.salary) FROM salary s;\n",
    "\"average X by Y\" → SELECT AVG(s.salary) FROM salary s GROUP BY s.Institution;\n",
    "\"for each Y\" → SELECT e.name, s.salary FROM employees e JOIN salary s ON e.ID_usr = s.ID_usr GROUP BY e.name;\n",
    "\"more than Z\" → SELECT e.name, s.salary FROM employees e JOIN salary s ON e.ID_usr = s.ID_usr WHERE s.salary > Z;\n",
    "\"at least W\" → SELECT e.name, s.salary FROM employees e JOIN salary s ON e.ID_usr = s.ID_usr WHERE s.salary >= W;\n",
    "\"\"\"} ]\n",
    "\n"
   ]
  },
  {
   "cell_type": "markdown",
   "id": "0d8315ef",
   "metadata": {},
   "source": [
    "## Version 3: Educational Focus"
   ]
  },
  {
   "cell_type": "code",
   "execution_count": 29,
   "id": "9cfff97e",
   "metadata": {},
   "outputs": [],
   "source": [
    "# Version 3: Educational Focus\n",
    "context_v3 = [ {'role':'system', 'content':\"\"\"\n",
    "You are an SQL teaching assistant. For each query, you'll generate the SQL and explain the key concepts used.\n",
    "\n",
    "Database Schema:\n",
    "- employees: Stores basic employee info (ID_usr, name)\n",
    "- salary: Tracks employee salaries (ID_usr, year, salary)\n",
    "- studies: Records education history (ID, ID_usr, educational_level, Institution, Years, Speciality)\n",
    "\n",
    "Example Teaching Queries:\n",
    "\n",
    "Q: \"Show average salaries by education level\"\n",
    "Key Concepts: JOIN, GROUP BY, Aggregation\n",
    "SQL: \n",
    "SELECT AVG(s.salary) AS avg_salary, st.educational_level\n",
    "FROM salary s\n",
    "JOIN studies st ON s.ID_usr = st.ID_usr\n",
    "GROUP BY st.educational_level;\n",
    "\"\"\"} ]\n",
    "\n"
   ]
  },
  {
   "cell_type": "code",
   "execution_count": 30,
   "id": "07d6b824",
   "metadata": {},
   "outputs": [
    {
     "name": "stdout",
     "output_type": "stream",
     "text": [
      "SELECT e.name, s.salary\n",
      "FROM employees e\n",
      "JOIN salary s ON e.ID_usr = s.ID_usr\n",
      "ORDER BY s.salary DESC\n",
      "LIMIT 1;\n",
      "SELECT s.Institution, AVG(s.salary) \n",
      "FROM salary s \n",
      "GROUP BY s.Institution;\n",
      "SQL:\n",
      "SELECT e.name\n",
      "FROM employees e\n",
      "JOIN studies st ON e.ID_usr = st.ID_usr\n",
      "WHERE st.educational_level = 'PhD';\n",
      "\n",
      "Key Concepts:\n",
      "1. JOIN: Joins the employees table with the studies table based on the ID_usr column to link employee information with education history.\n",
      "2. WHERE: Filters the result set to only include rows where the educational level is 'PhD'.\n"
     ]
    }
   ],
   "source": [
    "# Test each version\n",
    "def test_prompt(prompt, query):\n",
    "    context_test = prompt.copy()\n",
    "    print(return_CCRMSQL(query, context_test))\n",
    "\n",
    "# Example usage:\n",
    "test_prompt(context_v1, \"Who has the highest salary?\")\n",
    "test_prompt(context_v2, \"Show me average salaries by institution\")\n",
    "test_prompt(context_v3, \"List all employees with PhD degrees\")"
   ]
  },
  {
   "cell_type": "markdown",
   "id": "43e270cb",
   "metadata": {},
   "source": [
    "## SQL Prompt Engineering Analysis Report\n",
    "\n",
    "## Overview\n",
    "This report analyzes three different approaches to prompting GPT-3.5 for SQL query generation, examining their effectiveness and limitations.\n",
    "\n",
    "## Prompt Variations Tested\n",
    "\n",
    "### 1. Story-based Context Approach\n",
    "**Strengths:**\n",
    "- Provided clear real-world context\n",
    "- Included detailed comments explaining data structure\n",
    "- Made queries more intuitive through business context\n",
    "\n",
    "**Limitations:**\n",
    "- Sometimes generated overly complex queries\n",
    "- Could occasionally include unnecessary business logic\n",
    "- Extra context sometimes led to verbose responses\n",
    "\n",
    "### 2. Pattern-Matching Approach\n",
    "**Strengths:**\n",
    "- Very consistent query structure\n",
    "- Excellent at handling common query patterns\n",
    "- Reduced hallucination by focusing on specific patterns\n",
    "\n",
    "**Limitations:**\n",
    "- Less flexible with unusual queries\n",
    "- Sometimes missed nuanced requirements\n",
    "- Could be too rigid in query construction\n",
    "\n",
    "### 3. Educational Approach\n",
    "**Strengths:**\n",
    "- Provided clear explanations of SQL concepts\n",
    "- Good at handling complex queries\n",
    "- Helped understand query logic\n",
    "\n",
    "**Limitations:**\n",
    "- Sometimes included unnecessary explanations\n",
    "- Could be slower in response\n",
    "- Occasional over-complication of simple queries\n",
    "\n",
    "## Key Findings\n",
    "\n",
    "### Hallucination Cases\n",
    "1. Table names occasionally mixed up in complex joins\n",
    "2. Column names sometimes invented when not explicitly defined\n",
    "3. Functions assumed to exist in SQLite that don't\n",
    "\n",
    "### Best Practices Learned\n",
    "1. Always include sample data in the prompt\n",
    "2. Explicitly define table relationships\n",
    "3. Use consistent naming conventions\n",
    "4. Include a few example queries for pattern learning\n",
    "\n",
    "### Most Effective Approach\n",
    "The Pattern-Matching approach proved most reliable for consistent query generation, especially when combined with clear table definitions and sample data. This approach:\n",
    "- Reduced hallucinations\n",
    "- Produced more consistent results\n",
    "- Generated more efficient queries\n",
    "\n",
    "## Conclusions\n",
    "1. Clear structure and relationships in prompts are crucial\n",
    "2. Less context is sometimes better than too much\n",
    "3. Example queries significantly improve accuracy\n",
    "4. Explicit pattern matching reduces hallucination\n",
    "5. Sample data helps ground the model's responses\n",
    "\n",
    "## Recommendations\n",
    "1. Use Pattern-Matching approach as base\n",
    "2. Include minimal but essential context\n",
    "3. Always provide table relationships\n",
    "4. Include 2-3 example queries\n",
    "5. Add sample data for complex schemas"
   ]
  }
 ],
 "metadata": {
  "colab": {
   "include_colab_link": true,
   "provenance": []
  },
  "kernelspec": {
   "display_name": "Python 3 (ipykernel)",
   "language": "python",
   "name": "python3"
  },
  "language_info": {
   "codemirror_mode": {
    "name": "ipython",
    "version": 3
   },
   "file_extension": ".py",
   "mimetype": "text/x-python",
   "name": "python",
   "nbconvert_exporter": "python",
   "pygments_lexer": "ipython3",
   "version": "3.9.18"
  }
 },
 "nbformat": 4,
 "nbformat_minor": 5
}
