{
 "cells": [
  {
   "cell_type": "markdown",
   "id": "7d930c89-4954-4e39-be5a-601c1dd89512",
   "metadata": {
    "id": "7d930c89-4954-4e39-be5a-601c1dd89512"
   },
   "source": [
    "# SQL query from table names - Continued"
   ]
  },
  {
   "cell_type": "code",
   "execution_count": 1,
   "id": "a03f026a",
   "metadata": {
    "id": "a03f026a"
   },
   "outputs": [],
   "source": [
    "from openai import OpenAI\n",
    "import os\n",
    "from dotenv import load_dotenv, find_dotenv\n",
    "_ = load_dotenv(find_dotenv())\n",
    "\n",
    "OPENAI_API_KEY  = os.getenv('OPENAI_API_KEY')"
   ]
  },
  {
   "cell_type": "markdown",
   "id": "53a05b80-88fd-42b2-ba89-763074ae74e9",
   "metadata": {
    "id": "53a05b80-88fd-42b2-ba89-763074ae74e9"
   },
   "source": [
    "## The old Prompt"
   ]
  },
  {
   "cell_type": "code",
   "execution_count": 2,
   "id": "922f8d24",
   "metadata": {
    "id": "922f8d24"
   },
   "outputs": [],
   "source": [
    "#The old prompt\n",
    "old_context = [ {'role':'system', 'content':\"\"\"\n",
    "you are a bot to assist in create SQL commands, all your answers should start with \\\n",
    "this is your SQL, and after that an SQL that can do what the user request. \\\n",
    "Your Database is composed by a SQL database with some tables. \\\n",
    "Try to maintain the SQL order simple.\n",
    "Put the SQL command in white letters with a black background, and just after \\\n",
    "a simple and concise text explaining how it works.\n",
    "If the user ask for something that can not be solved with an SQL Order \\\n",
    "just answer something nice and simple, maximum 10 words, asking him for something that \\\n",
    "can be solved with SQL.\n",
    "\"\"\"} ]\n",
    "\n",
    "old_context.append( {'role':'system', 'content':\"\"\"\n",
    "first table:\n",
    "{\n",
    "  \"tableName\": \"employees\",\n",
    "  \"fields\": [\n",
    "    {\n",
    "      \"nombre\": \"ID_usr\",\n",
    "      \"tipo\": \"int\"\n",
    "    },\n",
    "    {\n",
    "      \"nombre\": \"name\",\n",
    "      \"tipo\": \"varchar\"\n",
    "    }\n",
    "  ]\n",
    "}\n",
    "\"\"\"\n",
    "})\n",
    "\n",
    "old_context.append( {'role':'system', 'content':\"\"\"\n",
    "second table:\n",
    "{\n",
    "  \"tableName\": \"salary\",\n",
    "  \"fields\": [\n",
    "    {\n",
    "      \"nombre\": \"ID_usr\",\n",
    "      \"type\": \"int\"\n",
    "    },\n",
    "    {\n",
    "      \"name\": \"year\",\n",
    "      \"type\": \"date\"\n",
    "    },\n",
    "    {\n",
    "      \"name\": \"salary\",\n",
    "      \"type\": \"float\"\n",
    "    }\n",
    "  ]\n",
    "}\n",
    "\"\"\"\n",
    "})\n",
    "\n",
    "old_context.append( {'role':'system', 'content':\"\"\"\n",
    "third table:\n",
    "{\n",
    "  \"tablename\": \"studies\",\n",
    "  \"fields\": [\n",
    "    {\n",
    "      \"name\": \"ID\",\n",
    "      \"type\": \"int\"\n",
    "    },\n",
    "    {\n",
    "      \"name\": \"ID_usr\",\n",
    "      \"type\": \"int\"\n",
    "    },\n",
    "    {\n",
    "      \"name\": \"educational_level\",\n",
    "      \"type\": \"int\"\n",
    "    },\n",
    "    {\n",
    "      \"name\": \"Institution\",\n",
    "      \"type\": \"varchar\"\n",
    "    },\n",
    "    {\n",
    "      \"name\": \"Years\",\n",
    "      \"type\": \"date\"\n",
    "    }\n",
    "    {\n",
    "      \"name\": \"Speciality\",\n",
    "      \"type\": \"varchar\"\n",
    "    }\n",
    "  ]\n",
    "}\n",
    "\"\"\"\n",
    "})"
   ]
  },
  {
   "cell_type": "markdown",
   "id": "377acaae-7dd0-4d13-bc68-9e33741c231c",
   "metadata": {
    "id": "377acaae-7dd0-4d13-bc68-9e33741c231c"
   },
   "source": [
    "## New Prompt.\n",
    "We are going to improve it following the instructions of a Paper from the Ohaio University: [How to Prompt LLMs for Text-to-SQL: A Study in Zero-shot, Single-domain, and Cross-domain Settings](https://arxiv.org/abs/2305.11853). I recommend you read that paper.\n",
    "\n",
    "For each table, we will define the structure using the same syntax as in a SQL create table command, and add the sample rows of the content.\n",
    "\n",
    "Finally, at the end of the prompt, we'll include some example queries with the SQL that the model should generate. This technique is called Few-Shot Samples, in which we provide the prompt with some examples to assist it in generating the correct SQL.\n"
   ]
  },
  {
   "cell_type": "code",
   "execution_count": 9,
   "id": "5334f942",
   "metadata": {
    "id": "5334f942"
   },
   "outputs": [],
   "source": [
    "context = [ {'role':'system', 'content':\"\"\"\n",
    "-- Normalized Database Schema with Relationships\n",
    "CREATE TABLE employees (\n",
    "    ID_usr INT PRIMARY KEY,\n",
    "    name VARCHAR(100)\n",
    ");\n",
    "\n",
    "CREATE TABLE salary (\n",
    "    ID_usr INT,\n",
    "    year DATE,\n",
    "    salary FLOAT,\n",
    "    FOREIGN KEY (ID_usr) REFERENCES employees(ID_usr)\n",
    ");\n",
    "\n",
    "CREATE TABLE studies (\n",
    "    ID INT PRIMARY KEY,\n",
    "    ID_usr INT,\n",
    "    educational_level INT,\n",
    "    Institution VARCHAR(100),\n",
    "    Years DATE,\n",
    "    Speciality VARCHAR(100),\n",
    "    FOREIGN KEY (ID_usr) REFERENCES employees(ID_usr)\n",
    ");\n",
    "\n",
    "-- Sample Rows\n",
    "INSERT INTO employees (ID_usr, name) VALUES (1, 'Alice'), (2, 'Bob'), (3, 'Charlie');\n",
    "INSERT INTO salary (ID_usr, year, salary) VALUES (1, '2022-01-01', 70000), (2, '2022-01-01', 80000), (3, '2022-01-01', 90000);\n",
    "INSERT INTO studies (ID, ID_usr, educational_level, Institution, Years, Speciality) VALUES \n",
    "(1, 1, 5, 'University A', '2015-01-01', 'Engineering'), \n",
    "(2, 2, 6, 'University B', '2016-01-01', 'Science'), \n",
    "(3, 3, 4, 'University C', '2017-01-01', 'Arts');\n",
    "\n",
    "-- Column Values (SelectCol)\n",
    "employees.ID_usr: [1, 2, 3]\n",
    "employees.name: [STRING]\n",
    "salary.year: [DATE]\n",
    "salary.salary: [FLOAT]\n",
    "studies.educational_level: [1-6]\n",
    "studies.Institution: [STRING]\n",
    "studies.Speciality: [STRING]\n",
    "\"\"\"}]\n",
    "\n"
   ]
  },
  {
   "cell_type": "code",
   "execution_count": 10,
   "id": "330e69b0-3f5f-4bb2-8185-aedded2bb993",
   "metadata": {
    "id": "330e69b0-3f5f-4bb2-8185-aedded2bb993"
   },
   "outputs": [],
   "source": [
    "#FEW SHOT SAMPLES\n",
    "context.append({'role':'system', 'content':\"\"\"\n",
    "-- Maintain the SQL order simple and efficient as you can, using valid SQLite, answer the following questions for the table provided above.\n",
    "\n",
    "-- Query 1: Find highest salary\n",
    "-- this is your SQL\n",
    "SELECT MAX(salary) AS highest_salary\n",
    "FROM salary;\n",
    "-- how it works\n",
    "-- This query finds the maximum salary value in the salary table.\n",
    "\n",
    "-- Query 2: Find institution with highest average salary\n",
    "-- this is your SQL\n",
    "SELECT st.Institution, AVG(s.salary) AS avg_salary\n",
    "FROM studies st\n",
    "JOIN salary s ON st.ID_usr = s.ID_usr\n",
    "GROUP BY st.Institution\n",
    "ORDER BY avg_salary DESC\n",
    "LIMIT 1;\n",
    "-- how it works\n",
    "-- Joins studies and salary tables, calculates average salary per institution, returns highest.\n",
    "\n",
    "-- Query 3: Count employees with highest salary\n",
    "-- this is your SQL\n",
    "SELECT COUNT(*) AS count_highest_salary\n",
    "FROM salary\n",
    "WHERE salary = (SELECT MAX(salary) FROM salary);\n",
    "-- how it works\n",
    "-- Counts how many employees have the maximum salary value.\n",
    "\n",
    "-- Query 4: Average salary by years of experience\n",
    "-- this is your SQL\n",
    "WITH experience AS (\n",
    "    SELECT ID_usr,\n",
    "           (julianday('now') - julianday(MIN(Years))) / 365.25 AS years_exp\n",
    "    FROM studies\n",
    "    GROUP BY ID_usr\n",
    ")\n",
    "SELECT ROUND(AVG(s.salary), 2) AS avg_salary,\n",
    "       ROUND(e.years_exp, 0) AS years_experience\n",
    "FROM experience e\n",
    "JOIN salary s ON e.ID_usr = s.ID_usr\n",
    "GROUP BY ROUND(e.years_exp, 0)\n",
    "ORDER BY years_experience;\n",
    "-- how it works\n",
    "-- Calculates years of experience from studies dates, then finds average salary per experience group.\n",
    "\"\"\"})"
   ]
  },
  {
   "cell_type": "code",
   "execution_count": 11,
   "id": "b90f417a",
   "metadata": {
    "id": "b90f417a"
   },
   "outputs": [],
   "source": [
    "#Function to call the model.\n",
    "def return_CCRMSQL(user_message, context):\n",
    "    client = OpenAI(\n",
    "    # This is the default and can be omitted\n",
    "    api_key=OPENAI_API_KEY,\n",
    ")\n",
    "\n",
    "    newcontext = context.copy()\n",
    "    newcontext.append({'role':'user', 'content':\"question: \" + user_message})\n",
    "\n",
    "    response = client.chat.completions.create(\n",
    "            model=\"gpt-3.5-turbo\",\n",
    "            messages=newcontext,\n",
    "            temperature=0,\n",
    "        )\n",
    "\n",
    "    return (response.choices[0].message.content)"
   ]
  },
  {
   "cell_type": "markdown",
   "id": "9e0a4c11-dfe1-46fe-ac2b-3ff825f9749c",
   "metadata": {
    "id": "9e0a4c11-dfe1-46fe-ac2b-3ff825f9749c"
   },
   "source": [
    "## NL2SQL Samples\n",
    "We're going to review some examples generated with the old prompt and others with the new prompt."
   ]
  },
  {
   "cell_type": "code",
   "execution_count": 12,
   "id": "59e8202c-ce34-487e-9037-c65a263423ed",
   "metadata": {
    "colab": {
     "base_uri": "https://localhost:8080/"
    },
    "id": "59e8202c-ce34-487e-9037-c65a263423ed",
    "outputId": "f7a97b9f-45d7-4f78-8979-a796c5bc42fb"
   },
   "outputs": [
    {
     "name": "stdout",
     "output_type": "stream",
     "text": [
      "highest_salary: 90000.0\n"
     ]
    }
   ],
   "source": [
    "#new\n",
    "context_user = context.copy()\n",
    "print(return_CCRMSQL(\"Whats the highest salary?\", context_user))"
   ]
  },
  {
   "cell_type": "code",
   "execution_count": 13,
   "id": "9c4766b1-48a9-456e-bc6c-4b6f41909aa4",
   "metadata": {
    "colab": {
     "base_uri": "https://localhost:8080/"
    },
    "id": "9c4766b1-48a9-456e-bc6c-4b6f41909aa4",
    "outputId": "029844da-5f1f-4f65-9adb-4d9c1cafacea"
   },
   "outputs": [
    {
     "name": "stdout",
     "output_type": "stream",
     "text": [
      "This is your SQL:\n",
      "```sql\n",
      "SELECT MAX(salary) AS highest_salary FROM salary;\n",
      "```\n",
      "\n",
      "This SQL query selects the maximum (highest) salary from the \"salary\" table and aliases it as \"highest_salary\".\n"
     ]
    }
   ],
   "source": [
    "#old\n",
    "old_context_user = old_context.copy()\n",
    "print(return_CCRMSQL(\"Whats the highest salary?\", old_context_user))"
   ]
  },
  {
   "cell_type": "code",
   "execution_count": 14,
   "id": "38d8d370-0524-4a28-bd54-5e5cddb08e2c",
   "metadata": {
    "colab": {
     "base_uri": "https://localhost:8080/"
    },
    "id": "38d8d370-0524-4a28-bd54-5e5cddb08e2c",
    "outputId": "2934cdec-bea0-44db-b047-33e70dcf8ae8"
   },
   "outputs": [
    {
     "name": "stdout",
     "output_type": "stream",
     "text": [
      "The institution with the highest average salary is \"University C\" with an average salary of $90,000.\n"
     ]
    }
   ],
   "source": [
    "#new\n",
    "print(return_CCRMSQL(\"Whats the Institution with a higher average salary\", context_user))"
   ]
  },
  {
   "cell_type": "code",
   "execution_count": 15,
   "id": "5aa318d4-dd9f-41db-8ff4-c1d87220f766",
   "metadata": {
    "colab": {
     "base_uri": "https://localhost:8080/"
    },
    "id": "5aa318d4-dd9f-41db-8ff4-c1d87220f766",
    "outputId": "605724a1-0d89-4ed9-d8ec-1aeeae6dc287"
   },
   "outputs": [
    {
     "name": "stdout",
     "output_type": "stream",
     "text": [
      "This is your SQL:\n",
      "```sql\n",
      "SELECT s.Institution, AVG(s.salary) AS avg_salary\n",
      "FROM salary s\n",
      "JOIN employees e ON s.ID_usr = e.ID_usr\n",
      "GROUP BY s.Institution\n",
      "ORDER BY avg_salary DESC\n",
      "LIMIT 1;\n",
      "```\n",
      "\n",
      "This SQL query retrieves the institution with the highest average salary by joining the `salary` table with the `employees` table on the `ID_usr` column. It calculates the average salary for each institution, orders the results in descending order of average salary, and limits the output to the institution with the highest average salary.\n"
     ]
    }
   ],
   "source": [
    "#old\n",
    "print(return_CCRMSQL(\"Whats the Institution with a higher average salary\", old_context_user))"
   ]
  },
  {
   "cell_type": "code",
   "execution_count": 16,
   "id": "51121f10",
   "metadata": {},
   "outputs": [
    {
     "name": "stdout",
     "output_type": "stream",
     "text": [
      "There is 1 employee who has the highest salary.\n"
     ]
    }
   ],
   "source": [
    "#new \n",
    "print(return_CCRMSQL(\"How many have a highest salary?\", context_user))"
   ]
  },
  {
   "cell_type": "code",
   "execution_count": 17,
   "id": "5ec1c02c",
   "metadata": {},
   "outputs": [
    {
     "name": "stdout",
     "output_type": "stream",
     "text": [
      "This is your SQL:\n",
      "```sql\n",
      "SELECT COUNT(*) \n",
      "FROM salary \n",
      "WHERE salary = (SELECT MAX(salary) FROM salary);\n",
      "```\n",
      "\n",
      "This SQL query counts the number of employees who have the highest salary in the `salary` table. It uses a subquery to find the maximum salary in the table and then compares each employee's salary to that maximum value to count how many employees have the highest salary.\n"
     ]
    }
   ],
   "source": [
    "#old\n",
    "print(return_CCRMSQL(\"How many have a highest salary?\", old_context_user))\n"
   ]
  },
  {
   "cell_type": "code",
   "execution_count": 19,
   "id": "946a205f",
   "metadata": {},
   "outputs": [
    {
     "name": "stdout",
     "output_type": "stream",
     "text": [
      "```sql\n",
      "WITH experience AS (\n",
      "    SELECT ID_usr,\n",
      "           (julianday('now') - julianday(MIN(Years))) / 365.25 AS years_exp\n",
      "    FROM studies\n",
      "    GROUP BY ID_usr\n",
      ")\n",
      "SELECT ROUND(AVG(s.salary), 2) AS avg_salary,\n",
      "       ROUND(e.years_exp, 0) AS years_experience\n",
      "FROM experience e\n",
      "JOIN salary s ON e.ID_usr = s.ID_usr\n",
      "GROUP BY ROUND(e.years_exp, 0)\n",
      "ORDER BY years_experience;\n",
      "```\n"
     ]
    }
   ],
   "source": [
    "#new \n",
    "print(return_CCRMSQL(\"Find average salary by years of experience\", context_user))"
   ]
  },
  {
   "cell_type": "code",
   "execution_count": 21,
   "id": "3c7de1ca",
   "metadata": {},
   "outputs": [
    {
     "name": "stdout",
     "output_type": "stream",
     "text": [
      "This is your SQL:\n",
      "```sql\n",
      "SELECT AVG(s.salary) AS average_salary, e.Years\n",
      "FROM salary s\n",
      "JOIN employees e ON s.ID_usr = e.ID_usr\n",
      "GROUP BY e.Years;\n",
      "```\n",
      "\n",
      "This SQL query retrieves the average salary of employees based on their years of experience. It joins the \"salary\" table with the \"employees\" table on the employee ID, calculates the average salary for each group of years of experience, and displays the result.\n"
     ]
    }
   ],
   "source": [
    "#old\n",
    "print(return_CCRMSQL(\"Find average salary by years of experience\", old_context_user))"
   ]
  },
  {
   "cell_type": "code",
   "execution_count": 23,
   "id": "8ce12e57",
   "metadata": {},
   "outputs": [
    {
     "name": "stdout",
     "output_type": "stream",
     "text": [
      "-- Query 4: Average salary by years of experience\n",
      "WITH experience AS (\n",
      "    SELECT ID_usr,\n",
      "           (julianday('now') - julianday(MIN(Years))) / 365.25 AS years_exp\n",
      "    FROM studies\n",
      "    GROUP BY ID_usr\n",
      ")\n",
      "SELECT ROUND(AVG(s.salary), 2) AS avg_salary,\n",
      "       ROUND(e.years_exp, 0) AS years_experience\n",
      "FROM experience e\n",
      "JOIN salary s ON e.ID_usr = s.ID_usr\n",
      "GROUP BY ROUND(e.years_exp, 0)\n",
      "ORDER BY years_experience;\n",
      "\n",
      "-- how it works\n",
      "-- This query calculates the years of experience for each employee based on their earliest study year, then calculates the average salary for each group of years of experience.\n"
     ]
    }
   ],
   "source": [
    "#new \n",
    "print(return_CCRMSQL(\"Find average salary by years of experience\", context_user))\n"
   ]
  },
  {
   "cell_type": "code",
   "execution_count": 24,
   "id": "5f430638",
   "metadata": {},
   "outputs": [
    {
     "name": "stdout",
     "output_type": "stream",
     "text": [
      "This is your SQL:\n",
      "```sql\n",
      "SELECT year, AVG(salary) AS average_salary\n",
      "FROM salary\n",
      "GROUP BY year\n",
      "ORDER BY year;\n",
      "```\n",
      "\n",
      "This SQL query selects the year and the average salary for each year from the \"salary\" table. It calculates the average salary for each year and groups the results by year, then orders the results by year in ascending order.\n"
     ]
    }
   ],
   "source": [
    "#old\n",
    "print(return_CCRMSQL(\"Show me the salary trend over time \", old_context_user))"
   ]
  },
  {
   "cell_type": "code",
   "execution_count": 25,
   "id": "1a83cfe5",
   "metadata": {},
   "outputs": [
    {
     "name": "stdout",
     "output_type": "stream",
     "text": [
      "-- Query: Salary trend over time\n",
      "SELECT s.year, AVG(s.salary) AS avg_salary\n",
      "FROM salary s\n",
      "GROUP BY s.year\n",
      "ORDER BY s.year;\n",
      "-- This query calculates the average salary for each year, showing the salary trend over time.\n"
     ]
    }
   ],
   "source": [
    "#new\n",
    "print(return_CCRMSQL(\"Show me the salary trend over time \", context_user))"
   ]
  },
  {
   "cell_type": "markdown",
   "id": "0f31968e-74ad-4ae2-9537-b3d550b1be47",
   "metadata": {
    "id": "0f31968e-74ad-4ae2-9537-b3d550b1be47"
   },
   "source": [
    "# Exercise\n",
    " - Complete the prompts similar to what we did in class. \n",
    "     - Try at least 3 versions\n",
    "     - Be creative\n",
    " - Write a one page report summarizing your findings.\n",
    "     - Were there variations that didn't work well? i.e., where GPT either hallucinated or wrong.\n",
    "     - What did you learn?"
   ]
  },
  {
   "cell_type": "markdown",
   "id": "findings-report",
   "metadata": {},
   "source": [
    "\n",
    "## What i learned \n",
    "\n",
    "The New prompts create more accurate and detailed SQL queries than old ones.\n",
    "\n",
    "The New prompts explain the query step-by-step and format them nicely and are easier to understand \n",
    "\n",
    "Issues: Both prompts sometimes guess table relationships or make mistakes, but old prompts make more errors, like using wrong columns. \n",
    "\n",
    "What Works Best:\n",
    "Clear table info helps.\n",
    "Writing clear, detailed prompts with examples leads to better SQL queries."
   ]
  }
 ],
 "metadata": {
  "colab": {
   "include_colab_link": true,
   "provenance": []
  },
  "kernelspec": {
   "display_name": "Python 3",
   "language": "python",
   "name": "python3"
  },
  "language_info": {
   "codemirror_mode": {
    "name": "ipython",
    "version": 3
   },
   "file_extension": ".py",
   "mimetype": "text/x-python",
   "name": "python",
   "nbconvert_exporter": "python",
   "pygments_lexer": "ipython3",
   "version": "3.9.20"
  }
 },
 "nbformat": 4,
 "nbformat_minor": 5
}
