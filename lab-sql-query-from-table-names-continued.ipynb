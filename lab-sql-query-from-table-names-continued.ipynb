{
 "cells": [
  {
   "cell_type": "markdown",
   "id": "7d930c89-4954-4e39-be5a-601c1dd89512",
   "metadata": {
    "id": "7d930c89-4954-4e39-be5a-601c1dd89512"
   },
   "source": [
    "# SQL query from table names - Continued"
   ]
  },
  {
   "cell_type": "code",
   "execution_count": 1,
   "id": "a03f026a",
   "metadata": {
    "id": "a03f026a"
   },
   "outputs": [],
   "source": [
    "from openai import OpenAI\n",
    "import os\n",
    "from dotenv import load_dotenv, find_dotenv\n",
    "_ = load_dotenv(find_dotenv())\n",
    "\n",
    "OPENAI_API_KEY  = os.getenv('OPENAI_API_KEY')"
   ]
  },
  {
   "cell_type": "markdown",
   "id": "53a05b80-88fd-42b2-ba89-763074ae74e9",
   "metadata": {
    "id": "53a05b80-88fd-42b2-ba89-763074ae74e9"
   },
   "source": [
    "## The old Prompt"
   ]
  },
  {
   "cell_type": "code",
   "execution_count": 2,
   "id": "922f8d24",
   "metadata": {
    "id": "922f8d24"
   },
   "outputs": [],
   "source": [
    "#The old prompt\n",
    "old_context = [ {'role':'system', 'content':\"\"\"\n",
    "you are a bot to assist in create SQL commands, all your answers should start with \\\n",
    "this is your SQL, and after that an SQL that can do what the user request. \\\n",
    "Your Database is composed by a SQL database with some tables. \\\n",
    "Try to maintain the SQL order simple.\n",
    "Put the SQL command in white letters with a black background, and just after \\\n",
    "a simple and concise text explaining how it works.\n",
    "If the user ask for something that can not be solved with an SQL Order \\\n",
    "just answer something nice and simple, maximum 10 words, asking him for something that \\\n",
    "can be solved with SQL.\n",
    "\"\"\"} ]\n",
    "\n",
    "old_context.append( {'role':'system', 'content':\"\"\"\n",
    "first table:\n",
    "{\n",
    "  \"tableName\": \"employees\",\n",
    "  \"fields\": [\n",
    "    {\n",
    "      \"nombre\": \"ID_usr\",\n",
    "      \"tipo\": \"int\"\n",
    "    },\n",
    "    {\n",
    "      \"nombre\": \"name\",\n",
    "      \"tipo\": \"varchar\"\n",
    "    }\n",
    "  ]\n",
    "}\n",
    "\"\"\"\n",
    "})\n",
    "\n",
    "old_context.append( {'role':'system', 'content':\"\"\"\n",
    "second table:\n",
    "{\n",
    "  \"tableName\": \"salary\",\n",
    "  \"fields\": [\n",
    "    {\n",
    "      \"nombre\": \"ID_usr\",\n",
    "      \"type\": \"int\"\n",
    "    },\n",
    "    {\n",
    "      \"name\": \"year\",\n",
    "      \"type\": \"date\"\n",
    "    },\n",
    "    {\n",
    "      \"name\": \"salary\",\n",
    "      \"type\": \"float\"\n",
    "    }\n",
    "  ]\n",
    "}\n",
    "\"\"\"\n",
    "})\n",
    "\n",
    "old_context.append( {'role':'system', 'content':\"\"\"\n",
    "third table:\n",
    "{\n",
    "  \"tablename\": \"studies\",\n",
    "  \"fields\": [\n",
    "    {\n",
    "      \"name\": \"ID\",\n",
    "      \"type\": \"int\"\n",
    "    },\n",
    "    {\n",
    "      \"name\": \"ID_usr\",\n",
    "      \"type\": \"int\"\n",
    "    },\n",
    "    {\n",
    "      \"name\": \"educational_level\",\n",
    "      \"type\": \"int\"\n",
    "    },\n",
    "    {\n",
    "      \"name\": \"Institution\",\n",
    "      \"type\": \"varchar\"\n",
    "    },\n",
    "    {\n",
    "      \"name\": \"Years\",\n",
    "      \"type\": \"date\"\n",
    "    }\n",
    "    {\n",
    "      \"name\": \"Speciality\",\n",
    "      \"type\": \"varchar\"\n",
    "    }\n",
    "  ]\n",
    "}\n",
    "\"\"\"\n",
    "})"
   ]
  },
  {
   "cell_type": "markdown",
   "id": "377acaae-7dd0-4d13-bc68-9e33741c231c",
   "metadata": {
    "id": "377acaae-7dd0-4d13-bc68-9e33741c231c"
   },
   "source": [
    "## New Prompt.\n",
    "We are going to improve it following the instructions of a Paper from the Ohaio University: [How to Prompt LLMs for Text-to-SQL: A Study in Zero-shot, Single-domain, and Cross-domain Settings](https://arxiv.org/abs/2305.11853). I recommend you read that paper.\n",
    "\n",
    "For each table, we will define the structure using the same syntax as in a SQL create table command, and add the sample rows of the content.\n",
    "\n",
    "Finally, at the end of the prompt, we'll include some example queries with the SQL that the model should generate. This technique is called Few-Shot Samples, in which we provide the prompt with some examples to assist it in generating the correct SQL.\n"
   ]
  },
  {
   "cell_type": "code",
   "execution_count": 11,
   "id": "5334f942",
   "metadata": {
    "id": "5334f942"
   },
   "outputs": [],
   "source": [
    "context = [\n",
    "  {\n",
    "    \"role\": \"system\",\n",
    "    \"content\": \"\"\"\n",
    "    CREATE TABLE footballers (\n",
    "      ID_usr INT,\n",
    "      name VARCHAR(100)\n",
    "    );\n",
    "\n",
    "    INSERT INTO footballers (ID_usr, name) VALUES\n",
    "    (1, 'Lionel Messi'),\n",
    "    (2, 'Cristiano Ronaldo'),\n",
    "    (3, 'Neymar Jr.'),\n",
    "    (4, 'Kylian Mbappé'),\n",
    "    (5, 'Kevin De Bruyne'),\n",
    "    (6, 'Mohamed Salah'),\n",
    "    (7, 'Harry Kane'),\n",
    "    (8, 'Sadio Mané'),\n",
    "    (9, 'Luka Modrić'),\n",
    "    (10, 'Robert Lewandowski');\n",
    "\n",
    "    CREATE TABLE goals (\n",
    "      ID_usr INT,\n",
    "      year DATE,\n",
    "      goals_scored INT\n",
    "    );\n",
    "\n",
    "    INSERT INTO goals (ID_usr, year, goals_scored) VALUES\n",
    "    (1, '2022-01-01', 30),\n",
    "    (2, '2022-01-01', 35),\n",
    "    (3, '2022-01-01', 28),\n",
    "    (4, '2022-01-01', 33),\n",
    "    (5, '2022-01-01', 15),\n",
    "    (6, '2022-01-01', 22),\n",
    "    (7, '2022-01-01', 27),\n",
    "    (8, '2022-01-01', 19),\n",
    "    (9, '2022-01-01', 10),\n",
    "    (10, '2022-01-01', 34);\n",
    "\n",
    "    CREATE TABLE performance (\n",
    "      ID INT,\n",
    "      ID_usr INT,\n",
    "      average_goals_per_match FLOAT,\n",
    "      team VARCHAR(100),\n",
    "      year DATE,\n",
    "      field_position VARCHAR(100)\n",
    "    );\n",
    "\n",
    "    INSERT INTO performance (ID, ID_usr, average_goals_per_match, team, year, field_position) VALUES\n",
    "    (1, 1, 0.75, 'Paris Saint-Germain', '2022-05-12', 'Forward'),\n",
    "    (2, 2, 0.85, 'Al-Nassr', '2022-05-15', 'Forward'),\n",
    "    (3, 3, 0.68, 'Paris Saint-Germain', '2022-05-10', 'Forward'),\n",
    "    (4, 4, 0.83, 'Paris Saint-Germain', '2022-05-20', 'Forward'),\n",
    "    (5, 5, 0.40, 'Manchester City', '2022-05-18', 'Midfielder'),\n",
    "    (6, 6, 0.65, 'Liverpool', '2022-05-22', 'Forward'),\n",
    "    (7, 7, 0.72, 'Tottenham Hotspur', '2022-05-17', 'Forward'),\n",
    "    (8, 8, 0.55, 'Bayern Munich', '2022-05-13', 'Forward'),\n",
    "    (9, 9, 0.25, 'Real Madrid', '2022-05-21', 'Midfielder'),\n",
    "    (10, 10, 0.80, 'Barcelona', '2022-05-19', 'Forward');\n",
    "    \"\"\"\n",
    "  }\n",
    "]\n"
   ]
  },
  {
   "cell_type": "code",
   "execution_count": 12,
   "id": "330e69b0-3f5f-4bb2-8185-aedded2bb993",
   "metadata": {
    "id": "330e69b0-3f5f-4bb2-8185-aedded2bb993"
   },
   "outputs": [],
   "source": [
    "#FEW SHOT SAMPLES\n",
    "context.append( {'role':'system', 'content':\"\"\"\n",
    "-- Get the names of all footballers.\n",
    "SELECT name FROM footballers;\n",
    "\n",
    "-- Get the total goals scored by all footballers for the year 2022.\n",
    "SELECT SUM(goals_scored) FROM goals WHERE year = '2022-01-01';\n",
    "\n",
    "-- Get the team and field position for a specific footballer.\n",
    "SELECT team, field_position FROM performance WHERE ID_usr = 1;\n",
    "\"\"\"})"
   ]
  },
  {
   "cell_type": "code",
   "execution_count": 13,
   "id": "b90f417a",
   "metadata": {
    "id": "b90f417a"
   },
   "outputs": [],
   "source": [
    "#Function to call the model.\n",
    "def return_CCRMSQL(user_message, context):\n",
    "    client = OpenAI(\n",
    "    # This is the default and can be omitted\n",
    "    api_key=OPENAI_API_KEY,\n",
    ")\n",
    "\n",
    "    newcontext = context.copy()\n",
    "    newcontext.append({'role':'user', 'content':\"question: \" + user_message})\n",
    "\n",
    "    response = client.chat.completions.create(\n",
    "            model=\"gpt-3.5-turbo\",\n",
    "            messages=newcontext,\n",
    "            temperature=0,\n",
    "        )\n",
    "\n",
    "    return (response.choices[0].message.content)"
   ]
  },
  {
   "cell_type": "markdown",
   "id": "9e0a4c11-dfe1-46fe-ac2b-3ff825f9749c",
   "metadata": {
    "id": "9e0a4c11-dfe1-46fe-ac2b-3ff825f9749c"
   },
   "source": [
    "## NL2SQL Samples\n",
    "We're going to review some examples generated with the old prompt and others with the new prompt."
   ]
  },
  {
   "cell_type": "code",
   "execution_count": 14,
   "id": "59e8202c-ce34-487e-9037-c65a263423ed",
   "metadata": {
    "colab": {
     "base_uri": "https://localhost:8080/"
    },
    "id": "59e8202c-ce34-487e-9037-c65a263423ed",
    "outputId": "f7a97b9f-45d7-4f78-8979-a796c5bc42fb"
   },
   "outputs": [
    {
     "name": "stdout",
     "output_type": "stream",
     "text": [
      "To determine the best player based on goals scored, we can look at the total number of goals scored by each player in the year 2022. Here is the query to find the player with the highest number of goals:\n",
      "\n",
      "```sql\n",
      "SELECT f.name AS player_name, g.goals_scored AS total_goals\n",
      "FROM footballers f\n",
      "JOIN goals g ON f.ID_usr = g.ID_usr\n",
      "WHERE g.year = '2022-01-01'\n",
      "ORDER BY total_goals DESC\n",
      "LIMIT 1;\n",
      "```\n",
      "\n",
      "This query will return the player's name and the total number of goals they scored in the year 2022, with the player who scored the most goals appearing at the top.\n"
     ]
    }
   ],
   "source": [
    "#new\n",
    "context_user = context.copy()\n",
    "print(return_CCRMSQL(\"\"\"What is the best player based on goals?\"\"\", context_user))"
   ]
  },
  {
   "cell_type": "code",
   "execution_count": 15,
   "id": "9c4766b1-48a9-456e-bc6c-4b6f41909aa4",
   "metadata": {
    "colab": {
     "base_uri": "https://localhost:8080/"
    },
    "id": "9c4766b1-48a9-456e-bc6c-4b6f41909aa4",
    "outputId": "029844da-5f1f-4f65-9adb-4d9c1cafacea"
   },
   "outputs": [
    {
     "name": "stdout",
     "output_type": "stream",
     "text": [
      "This is your SQL:\n",
      "```sql\n",
      "SELECT AVG(salary) AS average_salary FROM salary;\n",
      "```\n",
      "\n",
      "This SQL query retrieves the average salary for all employees from the \"salary\" table by calculating the average of the \"salary\" column.\n"
     ]
    }
   ],
   "source": [
    "#old\n",
    "old_context_user = old_context.copy()\n",
    "print(return_CCRMSQL(\"Retrieve average salary for all employees\", old_context_user))"
   ]
  },
  {
   "cell_type": "code",
   "execution_count": 17,
   "id": "38d8d370-0524-4a28-bd54-5e5cddb08e2c",
   "metadata": {
    "colab": {
     "base_uri": "https://localhost:8080/"
    },
    "id": "38d8d370-0524-4a28-bd54-5e5cddb08e2c",
    "outputId": "2934cdec-bea0-44db-b047-33e70dcf8ae8"
   },
   "outputs": [
    {
     "name": "stdout",
     "output_type": "stream",
     "text": [
      "To determine the best player based on average goals scored in 2022, we can calculate the average goals per match for each player and then compare those averages. Here's the query to achieve this:\n",
      "\n",
      "```sql\n",
      "SELECT f.name AS player_name, p.average_goals_per_match\n",
      "FROM footballers f\n",
      "JOIN performance p ON f.ID_usr = p.ID_usr\n",
      "WHERE p.year = '2022-05-12' -- You can change the date to the specific date you want to consider\n",
      "ORDER BY p.average_goals_per_match DESC\n",
      "LIMIT 1;\n",
      "```\n",
      "\n",
      "This query will retrieve the player's name and their average goals per match for the specified year (2022 in this case), and then order the results in descending order based on the average goals per match. The `LIMIT 1` clause ensures that only the player with the highest average goals per match is returned.\n"
     ]
    }
   ],
   "source": [
    "#new\n",
    "print(return_CCRMSQL(\"Who was the best player based in average goals scored in 2022?\", context_user))"
   ]
  },
  {
   "cell_type": "code",
   "execution_count": 18,
   "id": "5aa318d4-dd9f-41db-8ff4-c1d87220f766",
   "metadata": {
    "colab": {
     "base_uri": "https://localhost:8080/"
    },
    "id": "5aa318d4-dd9f-41db-8ff4-c1d87220f766",
    "outputId": "605724a1-0d89-4ed9-d8ec-1aeeae6dc287"
   },
   "outputs": [
    {
     "name": "stdout",
     "output_type": "stream",
     "text": [
      "This is your SQL:\n",
      "```sql\n",
      "SELECT Institution, MAX(salary) AS highest_salary\n",
      "FROM employees\n",
      "JOIN salary ON employees.ID_usr = salary.ID_usr\n",
      "GROUP BY Institution;\n",
      "```\n",
      "\n",
      "This SQL query retrieves the highest salary per institution by joining the \"employees\" and \"salary\" tables on the ID_usr column. It then groups the results by institution and calculates the maximum salary for each institution.\n"
     ]
    }
   ],
   "source": [
    "#old\n",
    "print(return_CCRMSQL(\"What is the highest salary per institution?\", old_context_user))"
   ]
  },
  {
   "cell_type": "markdown",
   "id": "0f31968e-74ad-4ae2-9537-b3d550b1be47",
   "metadata": {
    "id": "0f31968e-74ad-4ae2-9537-b3d550b1be47"
   },
   "source": [
    "# Exercise\n",
    " - Complete the prompts similar to what we did in class. \n",
    "     - Try at least 3 versions\n",
    "     - Be creative\n",
    " - Write a one page report summarizing your findings.\n",
    "     - Were there variations that didn't work well? i.e., where GPT either hallucinated or wrong.\n",
    "     - What did you learn?"
   ]
  },
  {
   "cell_type": "code",
   "execution_count": 22,
   "id": "460a8b63",
   "metadata": {},
   "outputs": [
    {
     "name": "stdout",
     "output_type": "stream",
     "text": [
      "This is your SQL:\n",
      "```sql\n",
      "SELECT Speciality, MAX(educational_level) AS Highest_Education_Level\n",
      "FROM studies\n",
      "GROUP BY Speciality;\n",
      "```\n",
      "\n",
      "This SQL query selects the specialization and the maximum education level from the \"studies\" table, grouping the results by specialization. It will show the specialization with the highest education level.\n"
     ]
    }
   ],
   "source": [
    "#old\n",
    "print(return_CCRMSQL(\"What specialization has the highest education level?\", old_context_user))"
   ]
  },
  {
   "cell_type": "code",
   "execution_count": 24,
   "id": "8007939b",
   "metadata": {},
   "outputs": [
    {
     "name": "stdout",
     "output_type": "stream",
     "text": [
      "This is your SQL:\n",
      "```sql\n",
      "SELECT MAX(s.salary) AS highest_salary, e.name, MAX(st.Years) AS year_finished_studies\n",
      "FROM employees e\n",
      "JOIN salary s ON e.ID_usr = s.ID_usr\n",
      "JOIN studies st ON e.ID_usr = st.ID_usr\n",
      "GROUP BY e.name\n",
      "ORDER BY highest_salary DESC\n",
      "LIMIT 1;\n",
      "```\n",
      "\n",
      "This SQL query retrieves the employee with the highest salary, their name, and the year they finished their studies. It joins the tables employees, salary, and studies based on the employee ID, then groups the results by employee name, orders them by salary in descending order, and limits the output to the top result.\n"
     ]
    }
   ],
   "source": [
    "#old\n",
    "print(return_CCRMSQL(\"On what year did the highest salary employees finished their studies?\", old_context_user))"
   ]
  },
  {
   "cell_type": "code",
   "execution_count": 23,
   "id": "c80e9448",
   "metadata": {},
   "outputs": [
    {
     "name": "stdout",
     "output_type": "stream",
     "text": [
      "To determine the position with the highest average goals, we can calculate the average goals per match for each field position and then identify the position with the highest average. Here's the query to achieve this:\n",
      "\n",
      "```sql\n",
      "SELECT field_position, AVG(average_goals_per_match) AS avg_goals_per_match\n",
      "FROM performance\n",
      "GROUP BY field_position\n",
      "ORDER BY avg_goals_per_match DESC\n",
      "LIMIT 1;\n",
      "```\n",
      "\n",
      "This query will group the data by field position, calculate the average goals per match for each position, and then order the results in descending order of average goals per match. The `LIMIT 1` at the end will ensure that only the position with the highest average goals is returned.\n"
     ]
    }
   ],
   "source": [
    "#new\n",
    "print(return_CCRMSQL(\"What position has the highest average goals?\", context_user))"
   ]
  },
  {
   "cell_type": "code",
   "execution_count": 25,
   "id": "e62ea61e",
   "metadata": {},
   "outputs": [
    {
     "name": "stdout",
     "output_type": "stream",
     "text": [
      "```sql\n",
      "SELECT team, MAX(average_goals_per_match) AS highest_average_goals_per_match\n",
      "FROM performance\n",
      "GROUP BY team;\n",
      "```\n"
     ]
    }
   ],
   "source": [
    "#new\n",
    "print(return_CCRMSQL(\"What team has the highest average goals per match?\", context_user))"
   ]
  },
  {
   "cell_type": "markdown",
   "id": "4069e91b",
   "metadata": {},
   "source": [
    "### Exercise\n",
    "\n",
    "Complete the prompts similar to what we did in class.\n",
    "\n",
    "Try at least 3 versions\n",
    "\n",
    "Be creative\n",
    "\n",
    "Write a one page report summarizing your findings.\n",
    "\n",
    "Were there variations that didn't work well? i.e., where GPT either hallucinated or wrong.\n",
    "\n",
    "What did you learn?"
   ]
  },
  {
   "cell_type": "markdown",
   "id": "0741bf63",
   "metadata": {},
   "source": [
    "REPORT\n",
    "\n",
    "We transitioned from a generic “employees” and “studies” dataset to a context focused on footballers, tracking their goals and performance metrics. This shift was driven by the need to create more relatable and domain-specific SQL queries. The new prompt structure included few-shot examples, which have been shown to guide the model toward more accurate outputs by providing context and samples of expected results.\n",
    "\n",
    "Key Improvements\n",
    "\n",
    "1.\tClear Table Definitions: Using precise table structures for footballers (including fields such as goals, average goals per match, team, and field position) helped the model better understand the relationships within the data, leading to more relevant SQL query generation.\n",
    "2.\tFew-Shot Learning: Including example queries in the prompt significantly improved the quality of the responses. This technique guided the model to formulate SQL queries that were both correct and efficient.\n",
    "3.\tError Reduction: Compared to the old prompt, where the model occasionally produced incorrect queries, the updated method resulted in more consistent accuracy. The use of SQL syntax examples directly in the prompt reduced ambiguities, leading to fewer misunderstandings by the model.\n",
    "\n",
    "Variations that Didn’t Work Well\n",
    "\n",
    "During the process, a few variations were noted where the model struggled or produced incorrect results:\n",
    "\n",
    "•\tAmbiguous Natural Language Requests: When the query was phrased in a less specific manner, the model occasionally generated SQL that did not fully address the question or misunderstood the intent. For example, vague questions like “What is the best player?” sometimes led to incomplete or irrelevant SQL statements.\n",
    "•\tComplex Queries with Multiple Conditions: Queries requiring multiple JOIN operations or nested subqueries were sometimes mishandled. In these cases, the model either omitted key conditions or misinterpreted the relationships between tables.\n",
    "\n",
    "Hallucinations and Inaccuracies\n",
    "\n",
    "•\tIncorrect Table References: In a few instances, the model attempted to reference table names or columns that were not part of the defined schema. This “hallucination” issue was significantly reduced with the improved prompt but still occurred in cases of ambiguous or loosely defined user input.\n",
    "•\tOrder of Operations in SQL: Occasionally, the model generated SQL code with a less optimal order of conditions, leading to inefficiencies. While this did not make the SQL syntactically incorrect, it did reduce its performance.\n",
    "\n",
    "Learnings\n",
    "\n",
    "1.\tImportance of Context and Examples: Providing a detailed prompt with a clear context and few-shot examples greatly enhances the performance of models like GPT in text-to-SQL tasks. It not only guides the model but also sets a standard for how to approach similar problems.\n",
    "2.\tNeed for Domain-Specific Prompts: Tailoring the prompt to a specific domain, such as football in this case, helps the model generate more relevant SQL queries. This approach ensures that the generated queries align more closely with the domain’s typical data structures and use cases.\n",
    "3.\tIterative Refinement: Prompt engineering is an iterative process. Continuous refinement and testing with real-world scenarios are essential to improve the accuracy and efficiency of the generated SQL queries.\n",
    "\n",
    "Conclusion\n",
    "\n",
    "The shift to a domain-specific dataset, combined with few-shot learning, has resulted in more precise and contextually relevant SQL queries. The updated prompt method provides a robust foundation for future text-to-SQL tasks, although there is still room for improvement in handling more complex queries and ambiguous user inputs."
   ]
  }
 ],
 "metadata": {
  "colab": {
   "include_colab_link": true,
   "provenance": []
  },
  "kernelspec": {
   "display_name": "base",
   "language": "python",
   "name": "python3"
  },
  "language_info": {
   "codemirror_mode": {
    "name": "ipython",
    "version": 3
   },
   "file_extension": ".py",
   "mimetype": "text/x-python",
   "name": "python",
   "nbconvert_exporter": "python",
   "pygments_lexer": "ipython3",
   "version": "3.12.4"
  }
 },
 "nbformat": 4,
 "nbformat_minor": 5
}
